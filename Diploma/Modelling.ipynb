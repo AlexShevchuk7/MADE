{
 "cells": [
  {
   "cell_type": "markdown",
   "id": "virtual-senator",
   "metadata": {},
   "source": [
    "## <p style=\"text-align: center;\">Исследование аномалий в multivariate time-series при помощи вариационных автокодировщиков на базе TCN и трансформеров</p>"
   ]
  },
  {
   "cell_type": "markdown",
   "id": "acting-finland",
   "metadata": {},
   "source": [
    "### План работы: \n",
    "\n",
    "1. Построение и обучение вариационного автокодировщика на базе: \n",
    "- линейной модели\n",
    "- модели на базе TCN (Temporal Convolution Network - имплементация из библиотеки [Darts](https://github.com/unit8co/darts#installation-guide))\n",
    "- транфсорфмеров (из PyTorch)\n",
    "2. Обучение модеели VAE на fault free (healthy) data. Подбор гиперпараметров.\n",
    "3. Выявление аномалий и составление датасета для классификации аномалий по маркированному датасету.\n",
    "4. Подсчет метри Precision и Recall для тестового датасета в задаче классификации аномалий.\n",
    "5. Выводы, сравнение с бенчмарками.\n",
    "\n",
    "Данные:\n",
    "[Additional Tennessee Eastman Process Simulation Data for Anomaly Detection Evaluation](https://dataverse.harvard.edu/dataset.xhtml?persistentId=doi:10.7910/DVN/6C3JR1)"
   ]
  },
  {
   "cell_type": "code",
   "execution_count": null,
   "id": "declared-guard",
   "metadata": {},
   "outputs": [],
   "source": [
    "from itertools import chain\n",
    "import pandas as pd\n",
    "import numpy as np\n",
    "import pyreadr\n",
    "import torch\n",
    "from torch import nn\n",
    "from torch.optim import Adam\n",
    "from torch.nn import MSELoss\n",
    "import torch.nn.functional as F\n",
    "from torch.autograd import Variable\n",
    "from torch.utils.data import Dataset, DataLoader\n",
    "\n",
    "from sklearn.preprocessing import StandardScaler\n",
    "from tqdm.notebook import tqdm \n",
    "from IPython.display import clear_output\n",
    "\n",
    "from tcn_model import TCNModel\n",
    "\n",
    "import matplotlib.pyplot as plt"
   ]
  },
  {
   "cell_type": "code",
   "execution_count": 2,
   "id": "medical-senate",
   "metadata": {},
   "outputs": [],
   "source": [
    "class TSDataset(Dataset):\n",
    "    def __init__(self, data, window, offset):\n",
    "        self.data = torch.Tensor(data)\n",
    "        self.window = window\n",
    "        self.offset = offset\n",
    "        self.shape = self.__getshape__()\n",
    "        self.size = self.__getsize__()\n",
    " \n",
    "    def __getitem__(self, index):\n",
    "        x = self.data[index : index + self.window]\n",
    "        return x\n",
    " \n",
    "    def __len__(self):\n",
    "        return len(self.data) -  self.window \n",
    "    \n",
    "    def __getshape__(self):\n",
    "        return (self.__len__(), *self.__getitem__(0)[0].shape)\n",
    "    \n",
    "    def __getsize__(self):\n",
    "        return (self.__len__())"
   ]
  },
  {
   "cell_type": "code",
   "execution_count": null,
   "id": "figured-catch",
   "metadata": {},
   "outputs": [],
   "source": [
    "class Basic_net(nn.Module):\n",
    "    def __init__(self, input_dim=batch.shape[1]*batch.shape[2], hidden_dim=256):\n",
    "        super(Basic_net, self).__init__()\n",
    "        self.model = nn.Sequential(\n",
    "            nn.Linear(input_dim, hidden_dim),\n",
    "            nn.ReLU(),\n",
    "            nn.Linear(hidden_dim, input_dim),\n",
    "            nn.ReLU()\n",
    "        )\n",
    "        \n",
    "    def forward(self, x):\n",
    "        x = torch.flatten(batch, start_dim=1)\n",
    "        x = self.model(x)\n",
    "        return torch.reshape(x, (batch.shape[0], batch.shape[1], batch.shape[2]))"
   ]
  },
  {
   "cell_type": "code",
   "execution_count": null,
   "id": "handed-addition",
   "metadata": {},
   "outputs": [],
   "source": [
    "class LinearEncoder(nn.Module):\n",
    "    def __init__(self, batch, latent_dim=16):\n",
    "        super(LinearEncoder, self).__init__()        \n",
    "        self.embedding = Basic_net()\n",
    "        \n",
    "        self.hidden_dim = batch.shape[1] * batch.shape[2]\n",
    "        self.mu = nn.Linear(self.hidden_dim, latent_dim)\n",
    "        self.sigma = nn.Linear(self.hidden_dim, latent_dim)\n",
    "    \n",
    "    def forward(self, x):\n",
    "        embedding = self.embedding(x)\n",
    "        flat_embedding = torch.flatten(embedding, start_dim=1)\n",
    "        \n",
    "        mu = self.mu(flat_embedding)\n",
    "        logsigma = self.sigma(flat_embedding)\n",
    "        \n",
    "        return mu, logsigma"
   ]
  },
  {
   "cell_type": "code",
   "execution_count": null,
   "id": "israeli-wisconsin",
   "metadata": {},
   "outputs": [],
   "source": [
    "class TCNEncoder(nn.Module):\n",
    "    def __init__(self, batch, tcn, latent_dim=16):\n",
    "        super(TCNEncoder, self).__init__()\n",
    "        self.embedding = tcn._create_model(batch)\n",
    "        \n",
    "        #self.embedding = Basic_net()\n",
    "        \n",
    "        self.hidden_dim = batch.shape[1] * batch.shape[2]\n",
    "        self.mu = nn.Linear(self.hidden_dim, latent_dim)\n",
    "        self.sigma = nn.Linear(self.hidden_dim, latent_dim)\n",
    "    \n",
    "    def forward(self, x):\n",
    "        embedding = self.embedding(x)\n",
    "        flat_embedding = torch.flatten(embedding, start_dim=1)\n",
    "        \n",
    "        mu = self.mu(flat_embedding)\n",
    "        logsigma = self.sigma(flat_embedding)\n",
    "        \n",
    "        return mu, logsigma"
   ]
  },
  {
   "cell_type": "code",
   "execution_count": null,
   "id": "previous-monthly",
   "metadata": {},
   "outputs": [],
   "source": [
    "class Decoder(nn.Module):\n",
    "    def __init__(self, batch_shape, latent_dim=latent_dim):\n",
    "        super(Decoder, self).__init__()\n",
    "        self.batch_dim = batch_shape[0]\n",
    "        self.chunk_length = batch_shape[1]\n",
    "        self.latent_dim = latent_dim\n",
    "        self.chunk_size = batch_shape[2]\n",
    "        self.lin1 = nn.Linear(self.latent_dim, self.chunk_length)\n",
    "        self.lin2 = nn.Linear(self.chunk_length, self.chunk_length * self.chunk_size)\n",
    "        \n",
    "    def forward(self, x):\n",
    "        x = F.relu(self.lin1(x))\n",
    "        x = F.relu(self.lin2(x))\n",
    "        return torch.reshape(x, (self.batch_dim, self.chunk_length, self.chunk_size))"
   ]
  },
  {
   "cell_type": "code",
   "execution_count": null,
   "id": "median-frame",
   "metadata": {},
   "outputs": [],
   "source": [
    "class Autoencoder(nn.Module):\n",
    "    def __init__(self, batch_shape):\n",
    "        super(Autoencoder, self).__init__()\n",
    "        self.hidden_dim = batch.shape[1] * batch.shape[2]\n",
    "        self.batch_shape = batch_shape\n",
    "        self.latent_dim = 32\n",
    "        #self.embedding = Basic_net()\n",
    "        self.embedding = tcn._create_model(batch)\n",
    "        self.encoder = nn.Linear(self.hidden_dim, self.latent_dim)\n",
    "        \n",
    "        self.decoder1 = nn.Linear(self.latent_dim, batch_shape[1])\n",
    "        self.decoder2 = nn.Linear(batch_shape[1], batch_shape[1] * 3)\n",
    "        \n",
    "    def forward(self, x):\n",
    "        enc = self.embedding(x)\n",
    "        flat_embedding = torch.flatten(enc, start_dim=1)\n",
    "        enc = F.relu(self.encoder(flat_embedding))\n",
    "        \n",
    "        dec = F.relu(self.decoder1(enc))\n",
    "        dec = F.relu(self.decoder2(dec))\n",
    "        \n",
    "        return torch.reshape(dec, (self.batch_shape[0], self.batch_shape[1], self.batch_shape[2]))"
   ]
  },
  {
   "cell_type": "code",
   "execution_count": 111,
   "id": "active-extra",
   "metadata": {},
   "outputs": [],
   "source": [
    "class VAE(nn.Module):\n",
    "    def __init__(self, encoder, decoder, device=device):\n",
    "        super(VAE, self).__init__()\n",
    "        self.encoder = encoder\n",
    "        self.decoder = decoder\n",
    "        self.device = device\n",
    "        self.mu = None\n",
    "        self.sigma = None\n",
    "        \n",
    "    def sample_z(self, mu, sigma):\n",
    "        epsilon = torch.randn(mu.size())\n",
    "        epsilon = Variable(epsilon, requires_grad=False).type(torch.FloatTensor).to(self.device)\n",
    "        z = mu + sigma * epsilon\n",
    "        return z\n",
    "    \n",
    "    def forward(self, x):\n",
    "        self.mu, logsigma = self.encoder(x)\n",
    "        self.sigma = torch.exp(logsigma)\n",
    "        z = self.sample_z(self.mu, self.sigma)\n",
    "        theta = self.decoder(z)\n",
    "        return theta, self.mu, self.sigma"
   ]
  },
  {
   "cell_type": "code",
   "execution_count": null,
   "id": "moved-quarter",
   "metadata": {},
   "outputs": [],
   "source": [
    "# TODO: написать класс для построения эмбеддингов на базе трансформеров (взять из pytorch)"
   ]
  },
  {
   "cell_type": "markdown",
   "id": "abroad-render",
   "metadata": {},
   "source": [
    "### Считывание данных. Формирование dataloader"
   ]
  },
  {
   "cell_type": "code",
   "execution_count": 3,
   "id": "furnished-sunglasses",
   "metadata": {},
   "outputs": [],
   "source": [
    "train_data = pyreadr.read_r('data/TEP_FaultFree_Training.RData')"
   ]
  },
  {
   "cell_type": "code",
   "execution_count": 4,
   "id": "august-forge",
   "metadata": {},
   "outputs": [],
   "source": [
    "for items in train_data.items():\n",
    "    tsdata = items[1]"
   ]
  },
  {
   "cell_type": "code",
   "execution_count": 6,
   "id": "cognitive-greeting",
   "metadata": {},
   "outputs": [
    {
     "data": {
      "text/html": [
       "<div>\n",
       "<style scoped>\n",
       "    .dataframe tbody tr th:only-of-type {\n",
       "        vertical-align: middle;\n",
       "    }\n",
       "\n",
       "    .dataframe tbody tr th {\n",
       "        vertical-align: top;\n",
       "    }\n",
       "\n",
       "    .dataframe thead th {\n",
       "        text-align: right;\n",
       "    }\n",
       "</style>\n",
       "<table border=\"1\" class=\"dataframe\">\n",
       "  <thead>\n",
       "    <tr style=\"text-align: right;\">\n",
       "      <th></th>\n",
       "      <th>faultNumber</th>\n",
       "      <th>simulationRun</th>\n",
       "      <th>sample</th>\n",
       "      <th>xmeas_1</th>\n",
       "      <th>xmeas_2</th>\n",
       "      <th>xmeas_3</th>\n",
       "      <th>xmeas_4</th>\n",
       "      <th>xmeas_5</th>\n",
       "      <th>xmeas_6</th>\n",
       "      <th>xmeas_7</th>\n",
       "      <th>...</th>\n",
       "      <th>xmv_2</th>\n",
       "      <th>xmv_3</th>\n",
       "      <th>xmv_4</th>\n",
       "      <th>xmv_5</th>\n",
       "      <th>xmv_6</th>\n",
       "      <th>xmv_7</th>\n",
       "      <th>xmv_8</th>\n",
       "      <th>xmv_9</th>\n",
       "      <th>xmv_10</th>\n",
       "      <th>xmv_11</th>\n",
       "    </tr>\n",
       "  </thead>\n",
       "  <tbody>\n",
       "    <tr>\n",
       "      <th>0</th>\n",
       "      <td>0.0</td>\n",
       "      <td>1.0</td>\n",
       "      <td>1</td>\n",
       "      <td>0.25038</td>\n",
       "      <td>3674.0</td>\n",
       "      <td>4529.0</td>\n",
       "      <td>9.2320</td>\n",
       "      <td>26.889</td>\n",
       "      <td>42.402</td>\n",
       "      <td>2704.3</td>\n",
       "      <td>...</td>\n",
       "      <td>53.744</td>\n",
       "      <td>24.657</td>\n",
       "      <td>62.544</td>\n",
       "      <td>22.137</td>\n",
       "      <td>39.935</td>\n",
       "      <td>42.323</td>\n",
       "      <td>47.757</td>\n",
       "      <td>47.510</td>\n",
       "      <td>41.258</td>\n",
       "      <td>18.447</td>\n",
       "    </tr>\n",
       "    <tr>\n",
       "      <th>1</th>\n",
       "      <td>0.0</td>\n",
       "      <td>1.0</td>\n",
       "      <td>2</td>\n",
       "      <td>0.25109</td>\n",
       "      <td>3659.4</td>\n",
       "      <td>4556.6</td>\n",
       "      <td>9.4264</td>\n",
       "      <td>26.721</td>\n",
       "      <td>42.576</td>\n",
       "      <td>2705.0</td>\n",
       "      <td>...</td>\n",
       "      <td>53.414</td>\n",
       "      <td>24.588</td>\n",
       "      <td>59.259</td>\n",
       "      <td>22.084</td>\n",
       "      <td>40.176</td>\n",
       "      <td>38.554</td>\n",
       "      <td>43.692</td>\n",
       "      <td>47.427</td>\n",
       "      <td>41.359</td>\n",
       "      <td>17.194</td>\n",
       "    </tr>\n",
       "    <tr>\n",
       "      <th>2</th>\n",
       "      <td>0.0</td>\n",
       "      <td>1.0</td>\n",
       "      <td>3</td>\n",
       "      <td>0.25038</td>\n",
       "      <td>3660.3</td>\n",
       "      <td>4477.8</td>\n",
       "      <td>9.4426</td>\n",
       "      <td>26.875</td>\n",
       "      <td>42.070</td>\n",
       "      <td>2706.2</td>\n",
       "      <td>...</td>\n",
       "      <td>54.357</td>\n",
       "      <td>24.666</td>\n",
       "      <td>61.275</td>\n",
       "      <td>22.380</td>\n",
       "      <td>40.244</td>\n",
       "      <td>38.990</td>\n",
       "      <td>46.699</td>\n",
       "      <td>47.468</td>\n",
       "      <td>41.199</td>\n",
       "      <td>20.530</td>\n",
       "    </tr>\n",
       "    <tr>\n",
       "      <th>3</th>\n",
       "      <td>0.0</td>\n",
       "      <td>1.0</td>\n",
       "      <td>4</td>\n",
       "      <td>0.24977</td>\n",
       "      <td>3661.3</td>\n",
       "      <td>4512.1</td>\n",
       "      <td>9.4776</td>\n",
       "      <td>26.758</td>\n",
       "      <td>42.063</td>\n",
       "      <td>2707.2</td>\n",
       "      <td>...</td>\n",
       "      <td>53.946</td>\n",
       "      <td>24.725</td>\n",
       "      <td>59.856</td>\n",
       "      <td>22.277</td>\n",
       "      <td>40.257</td>\n",
       "      <td>38.072</td>\n",
       "      <td>47.541</td>\n",
       "      <td>47.658</td>\n",
       "      <td>41.643</td>\n",
       "      <td>18.089</td>\n",
       "    </tr>\n",
       "    <tr>\n",
       "      <th>4</th>\n",
       "      <td>0.0</td>\n",
       "      <td>1.0</td>\n",
       "      <td>5</td>\n",
       "      <td>0.29405</td>\n",
       "      <td>3679.0</td>\n",
       "      <td>4497.0</td>\n",
       "      <td>9.3381</td>\n",
       "      <td>26.889</td>\n",
       "      <td>42.650</td>\n",
       "      <td>2705.1</td>\n",
       "      <td>...</td>\n",
       "      <td>53.658</td>\n",
       "      <td>28.797</td>\n",
       "      <td>60.717</td>\n",
       "      <td>21.947</td>\n",
       "      <td>39.144</td>\n",
       "      <td>41.955</td>\n",
       "      <td>47.645</td>\n",
       "      <td>47.346</td>\n",
       "      <td>41.507</td>\n",
       "      <td>18.461</td>\n",
       "    </tr>\n",
       "  </tbody>\n",
       "</table>\n",
       "<p>5 rows × 55 columns</p>\n",
       "</div>"
      ],
      "text/plain": [
       "   faultNumber  simulationRun  sample  xmeas_1  xmeas_2  xmeas_3  xmeas_4  \\\n",
       "0          0.0            1.0       1  0.25038   3674.0   4529.0   9.2320   \n",
       "1          0.0            1.0       2  0.25109   3659.4   4556.6   9.4264   \n",
       "2          0.0            1.0       3  0.25038   3660.3   4477.8   9.4426   \n",
       "3          0.0            1.0       4  0.24977   3661.3   4512.1   9.4776   \n",
       "4          0.0            1.0       5  0.29405   3679.0   4497.0   9.3381   \n",
       "\n",
       "   xmeas_5  xmeas_6  xmeas_7  ...   xmv_2   xmv_3   xmv_4   xmv_5   xmv_6  \\\n",
       "0   26.889   42.402   2704.3  ...  53.744  24.657  62.544  22.137  39.935   \n",
       "1   26.721   42.576   2705.0  ...  53.414  24.588  59.259  22.084  40.176   \n",
       "2   26.875   42.070   2706.2  ...  54.357  24.666  61.275  22.380  40.244   \n",
       "3   26.758   42.063   2707.2  ...  53.946  24.725  59.856  22.277  40.257   \n",
       "4   26.889   42.650   2705.1  ...  53.658  28.797  60.717  21.947  39.144   \n",
       "\n",
       "    xmv_7   xmv_8   xmv_9  xmv_10  xmv_11  \n",
       "0  42.323  47.757  47.510  41.258  18.447  \n",
       "1  38.554  43.692  47.427  41.359  17.194  \n",
       "2  38.990  46.699  47.468  41.199  20.530  \n",
       "3  38.072  47.541  47.658  41.643  18.089  \n",
       "4  41.955  47.645  47.346  41.507  18.461  \n",
       "\n",
       "[5 rows x 55 columns]"
      ]
     },
     "execution_count": 6,
     "metadata": {},
     "output_type": "execute_result"
    }
   ],
   "source": [
    "tsdata.head()"
   ]
  },
  {
   "cell_type": "code",
   "execution_count": 29,
   "id": "overall-friendship",
   "metadata": {},
   "outputs": [
    {
     "data": {
      "text/html": [
       "<div>\n",
       "<style scoped>\n",
       "    .dataframe tbody tr th:only-of-type {\n",
       "        vertical-align: middle;\n",
       "    }\n",
       "\n",
       "    .dataframe tbody tr th {\n",
       "        vertical-align: top;\n",
       "    }\n",
       "\n",
       "    .dataframe thead th {\n",
       "        text-align: right;\n",
       "    }\n",
       "</style>\n",
       "<table border=\"1\" class=\"dataframe\">\n",
       "  <thead>\n",
       "    <tr style=\"text-align: right;\">\n",
       "      <th></th>\n",
       "      <th>faultNumber</th>\n",
       "      <th>simulationRun</th>\n",
       "      <th>sample</th>\n",
       "      <th>xmeas_1</th>\n",
       "      <th>xmeas_2</th>\n",
       "      <th>xmeas_3</th>\n",
       "      <th>xmeas_4</th>\n",
       "      <th>xmeas_5</th>\n",
       "      <th>xmeas_6</th>\n",
       "      <th>xmeas_7</th>\n",
       "      <th>...</th>\n",
       "      <th>xmv_2</th>\n",
       "      <th>xmv_3</th>\n",
       "      <th>xmv_4</th>\n",
       "      <th>xmv_5</th>\n",
       "      <th>xmv_6</th>\n",
       "      <th>xmv_7</th>\n",
       "      <th>xmv_8</th>\n",
       "      <th>xmv_9</th>\n",
       "      <th>xmv_10</th>\n",
       "      <th>xmv_11</th>\n",
       "    </tr>\n",
       "  </thead>\n",
       "  <tbody>\n",
       "    <tr>\n",
       "      <th>count</th>\n",
       "      <td>5.000000e+06</td>\n",
       "      <td>5.000000e+06</td>\n",
       "      <td>5.000000e+06</td>\n",
       "      <td>5.000000e+06</td>\n",
       "      <td>5.000000e+06</td>\n",
       "      <td>5.000000e+06</td>\n",
       "      <td>5.000000e+06</td>\n",
       "      <td>5.000000e+06</td>\n",
       "      <td>5.000000e+06</td>\n",
       "      <td>5.000000e+06</td>\n",
       "      <td>...</td>\n",
       "      <td>5.000000e+06</td>\n",
       "      <td>5.000000e+06</td>\n",
       "      <td>5.000000e+06</td>\n",
       "      <td>5.000000e+06</td>\n",
       "      <td>5.000000e+06</td>\n",
       "      <td>5.000000e+06</td>\n",
       "      <td>5.000000e+06</td>\n",
       "      <td>5.000000e+06</td>\n",
       "      <td>5.000000e+06</td>\n",
       "      <td>5.000000e+06</td>\n",
       "    </tr>\n",
       "    <tr>\n",
       "      <th>mean</th>\n",
       "      <td>1.050000e+01</td>\n",
       "      <td>2.505000e+02</td>\n",
       "      <td>2.505000e+02</td>\n",
       "      <td>2.613588e-01</td>\n",
       "      <td>3.663777e+03</td>\n",
       "      <td>4.506046e+03</td>\n",
       "      <td>9.370345e+00</td>\n",
       "      <td>2.690156e+01</td>\n",
       "      <td>4.236419e+01</td>\n",
       "      <td>2.723005e+03</td>\n",
       "      <td>...</td>\n",
       "      <td>5.431755e+01</td>\n",
       "      <td>3.043177e+01</td>\n",
       "      <td>6.324830e+01</td>\n",
       "      <td>2.295485e+01</td>\n",
       "      <td>3.992297e+01</td>\n",
       "      <td>3.807265e+01</td>\n",
       "      <td>4.643742e+01</td>\n",
       "      <td>5.060598e+01</td>\n",
       "      <td>4.194845e+01</td>\n",
       "      <td>1.884376e+01</td>\n",
       "    </tr>\n",
       "    <tr>\n",
       "      <th>std</th>\n",
       "      <td>5.766282e+00</td>\n",
       "      <td>1.443373e+02</td>\n",
       "      <td>1.443373e+02</td>\n",
       "      <td>1.495384e-01</td>\n",
       "      <td>4.316941e+01</td>\n",
       "      <td>1.110368e+02</td>\n",
       "      <td>3.646151e-01</td>\n",
       "      <td>2.320034e-01</td>\n",
       "      <td>3.172128e-01</td>\n",
       "      <td>7.599384e+01</td>\n",
       "      <td>...</td>\n",
       "      <td>5.258092e+00</td>\n",
       "      <td>2.048365e+01</td>\n",
       "      <td>7.400080e+00</td>\n",
       "      <td>1.108258e+01</td>\n",
       "      <td>1.293348e+01</td>\n",
       "      <td>2.949138e+00</td>\n",
       "      <td>2.358468e+00</td>\n",
       "      <td>1.759840e+01</td>\n",
       "      <td>1.001227e+01</td>\n",
       "      <td>5.176705e+00</td>\n",
       "    </tr>\n",
       "    <tr>\n",
       "      <th>min</th>\n",
       "      <td>1.000000e+00</td>\n",
       "      <td>1.000000e+00</td>\n",
       "      <td>1.000000e+00</td>\n",
       "      <td>-4.735000e-03</td>\n",
       "      <td>3.327400e+03</td>\n",
       "      <td>3.540700e+03</td>\n",
       "      <td>6.639900e+00</td>\n",
       "      <td>2.538600e+01</td>\n",
       "      <td>3.965600e+01</td>\n",
       "      <td>2.413800e+03</td>\n",
       "      <td>...</td>\n",
       "      <td>3.118400e+01</td>\n",
       "      <td>-2.718600e-01</td>\n",
       "      <td>-4.893100e-03</td>\n",
       "      <td>-9.941000e-02</td>\n",
       "      <td>0.000000e+00</td>\n",
       "      <td>2.280100e+01</td>\n",
       "      <td>3.492300e+01</td>\n",
       "      <td>-3.635500e-01</td>\n",
       "      <td>-2.809500e-01</td>\n",
       "      <td>-5.327000e-03</td>\n",
       "    </tr>\n",
       "    <tr>\n",
       "      <th>25%</th>\n",
       "      <td>5.750000e+00</td>\n",
       "      <td>1.257500e+02</td>\n",
       "      <td>1.257500e+02</td>\n",
       "      <td>2.183000e-01</td>\n",
       "      <td>3.636500e+03</td>\n",
       "      <td>4.469000e+03</td>\n",
       "      <td>9.264200e+00</td>\n",
       "      <td>2.676000e+01</td>\n",
       "      <td>4.218100e+01</td>\n",
       "      <td>2.697600e+03</td>\n",
       "      <td>...</td>\n",
       "      <td>5.349700e+01</td>\n",
       "      <td>2.228000e+01</td>\n",
       "      <td>6.031400e+01</td>\n",
       "      <td>2.142300e+01</td>\n",
       "      <td>3.831300e+01</td>\n",
       "      <td>3.604900e+01</td>\n",
       "      <td>4.487800e+01</td>\n",
       "      <td>4.547900e+01</td>\n",
       "      <td>4.057500e+01</td>\n",
       "      <td>1.714300e+01</td>\n",
       "    </tr>\n",
       "    <tr>\n",
       "      <th>50%</th>\n",
       "      <td>1.050000e+01</td>\n",
       "      <td>2.505000e+02</td>\n",
       "      <td>2.505000e+02</td>\n",
       "      <td>2.511300e-01</td>\n",
       "      <td>3.663300e+03</td>\n",
       "      <td>4.508500e+03</td>\n",
       "      <td>9.355200e+00</td>\n",
       "      <td>2.690100e+01</td>\n",
       "      <td>4.234800e+01</td>\n",
       "      <td>2.705600e+03</td>\n",
       "      <td>...</td>\n",
       "      <td>5.397000e+01</td>\n",
       "      <td>2.521500e+01</td>\n",
       "      <td>6.149900e+01</td>\n",
       "      <td>2.212900e+01</td>\n",
       "      <td>3.996700e+01</td>\n",
       "      <td>3.815000e+01</td>\n",
       "      <td>4.633900e+01</td>\n",
       "      <td>4.806500e+01</td>\n",
       "      <td>4.120600e+01</td>\n",
       "      <td>1.829500e+01</td>\n",
       "    </tr>\n",
       "    <tr>\n",
       "      <th>75%</th>\n",
       "      <td>1.525000e+01</td>\n",
       "      <td>3.752500e+02</td>\n",
       "      <td>3.752500e+02</td>\n",
       "      <td>2.832100e-01</td>\n",
       "      <td>3.690200e+03</td>\n",
       "      <td>4.548000e+03</td>\n",
       "      <td>9.456800e+00</td>\n",
       "      <td>2.704300e+01</td>\n",
       "      <td>4.252400e+01</td>\n",
       "      <td>2.715000e+03</td>\n",
       "      <td>...</td>\n",
       "      <td>5.444300e+01</td>\n",
       "      <td>2.879700e+01</td>\n",
       "      <td>6.284100e+01</td>\n",
       "      <td>2.273800e+01</td>\n",
       "      <td>4.150700e+01</td>\n",
       "      <td>3.999100e+01</td>\n",
       "      <td>4.803100e+01</td>\n",
       "      <td>5.188700e+01</td>\n",
       "      <td>4.194900e+01</td>\n",
       "      <td>1.953700e+01</td>\n",
       "    </tr>\n",
       "    <tr>\n",
       "      <th>max</th>\n",
       "      <td>2.000000e+01</td>\n",
       "      <td>5.000000e+02</td>\n",
       "      <td>5.000000e+02</td>\n",
       "      <td>1.017500e+00</td>\n",
       "      <td>3.906700e+03</td>\n",
       "      <td>5.175800e+03</td>\n",
       "      <td>1.224000e+01</td>\n",
       "      <td>2.848600e+01</td>\n",
       "      <td>4.465300e+01</td>\n",
       "      <td>3.000500e+03</td>\n",
       "      <td>...</td>\n",
       "      <td>1.000000e+02</td>\n",
       "      <td>1.001900e+02</td>\n",
       "      <td>1.000200e+02</td>\n",
       "      <td>1.001100e+02</td>\n",
       "      <td>9.752800e+01</td>\n",
       "      <td>5.312100e+01</td>\n",
       "      <td>5.998000e+01</td>\n",
       "      <td>1.005200e+02</td>\n",
       "      <td>1.003200e+02</td>\n",
       "      <td>1.000100e+02</td>\n",
       "    </tr>\n",
       "  </tbody>\n",
       "</table>\n",
       "<p>8 rows × 55 columns</p>\n",
       "</div>"
      ],
      "text/plain": [
       "        faultNumber  simulationRun        sample       xmeas_1       xmeas_2  \\\n",
       "count  5.000000e+06   5.000000e+06  5.000000e+06  5.000000e+06  5.000000e+06   \n",
       "mean   1.050000e+01   2.505000e+02  2.505000e+02  2.613588e-01  3.663777e+03   \n",
       "std    5.766282e+00   1.443373e+02  1.443373e+02  1.495384e-01  4.316941e+01   \n",
       "min    1.000000e+00   1.000000e+00  1.000000e+00 -4.735000e-03  3.327400e+03   \n",
       "25%    5.750000e+00   1.257500e+02  1.257500e+02  2.183000e-01  3.636500e+03   \n",
       "50%    1.050000e+01   2.505000e+02  2.505000e+02  2.511300e-01  3.663300e+03   \n",
       "75%    1.525000e+01   3.752500e+02  3.752500e+02  2.832100e-01  3.690200e+03   \n",
       "max    2.000000e+01   5.000000e+02  5.000000e+02  1.017500e+00  3.906700e+03   \n",
       "\n",
       "            xmeas_3       xmeas_4       xmeas_5       xmeas_6       xmeas_7  \\\n",
       "count  5.000000e+06  5.000000e+06  5.000000e+06  5.000000e+06  5.000000e+06   \n",
       "mean   4.506046e+03  9.370345e+00  2.690156e+01  4.236419e+01  2.723005e+03   \n",
       "std    1.110368e+02  3.646151e-01  2.320034e-01  3.172128e-01  7.599384e+01   \n",
       "min    3.540700e+03  6.639900e+00  2.538600e+01  3.965600e+01  2.413800e+03   \n",
       "25%    4.469000e+03  9.264200e+00  2.676000e+01  4.218100e+01  2.697600e+03   \n",
       "50%    4.508500e+03  9.355200e+00  2.690100e+01  4.234800e+01  2.705600e+03   \n",
       "75%    4.548000e+03  9.456800e+00  2.704300e+01  4.252400e+01  2.715000e+03   \n",
       "max    5.175800e+03  1.224000e+01  2.848600e+01  4.465300e+01  3.000500e+03   \n",
       "\n",
       "       ...         xmv_2         xmv_3         xmv_4         xmv_5  \\\n",
       "count  ...  5.000000e+06  5.000000e+06  5.000000e+06  5.000000e+06   \n",
       "mean   ...  5.431755e+01  3.043177e+01  6.324830e+01  2.295485e+01   \n",
       "std    ...  5.258092e+00  2.048365e+01  7.400080e+00  1.108258e+01   \n",
       "min    ...  3.118400e+01 -2.718600e-01 -4.893100e-03 -9.941000e-02   \n",
       "25%    ...  5.349700e+01  2.228000e+01  6.031400e+01  2.142300e+01   \n",
       "50%    ...  5.397000e+01  2.521500e+01  6.149900e+01  2.212900e+01   \n",
       "75%    ...  5.444300e+01  2.879700e+01  6.284100e+01  2.273800e+01   \n",
       "max    ...  1.000000e+02  1.001900e+02  1.000200e+02  1.001100e+02   \n",
       "\n",
       "              xmv_6         xmv_7         xmv_8         xmv_9        xmv_10  \\\n",
       "count  5.000000e+06  5.000000e+06  5.000000e+06  5.000000e+06  5.000000e+06   \n",
       "mean   3.992297e+01  3.807265e+01  4.643742e+01  5.060598e+01  4.194845e+01   \n",
       "std    1.293348e+01  2.949138e+00  2.358468e+00  1.759840e+01  1.001227e+01   \n",
       "min    0.000000e+00  2.280100e+01  3.492300e+01 -3.635500e-01 -2.809500e-01   \n",
       "25%    3.831300e+01  3.604900e+01  4.487800e+01  4.547900e+01  4.057500e+01   \n",
       "50%    3.996700e+01  3.815000e+01  4.633900e+01  4.806500e+01  4.120600e+01   \n",
       "75%    4.150700e+01  3.999100e+01  4.803100e+01  5.188700e+01  4.194900e+01   \n",
       "max    9.752800e+01  5.312100e+01  5.998000e+01  1.005200e+02  1.003200e+02   \n",
       "\n",
       "             xmv_11  \n",
       "count  5.000000e+06  \n",
       "mean   1.884376e+01  \n",
       "std    5.176705e+00  \n",
       "min   -5.327000e-03  \n",
       "25%    1.714300e+01  \n",
       "50%    1.829500e+01  \n",
       "75%    1.953700e+01  \n",
       "max    1.000100e+02  \n",
       "\n",
       "[8 rows x 55 columns]"
      ]
     },
     "execution_count": 29,
     "metadata": {},
     "output_type": "execute_result"
    }
   ],
   "source": [
    "tsdata.describe()"
   ]
  },
  {
   "cell_type": "code",
   "execution_count": 5,
   "id": "instructional-proceeding",
   "metadata": {},
   "outputs": [],
   "source": [
    "scaler = StandardScaler()\n",
    "\n",
    "data = tsdata[['xmeas_1', 'xmeas_2', 'xmeas_3']].iloc[:100000] ### !!!\n",
    "# TODO: провести обучение на полном датасете (сокращение обусловлено ускорением настройки кодировщиков)\n",
    "scaled_data = scaler.fit_transform(data)"
   ]
  },
  {
   "cell_type": "code",
   "execution_count": 184,
   "id": "instructional-needle",
   "metadata": {},
   "outputs": [
    {
     "data": {
      "text/plain": [
       "(100000, 3)"
      ]
     },
     "execution_count": 184,
     "metadata": {},
     "output_type": "execute_result"
    }
   ],
   "source": [
    "scaled_data.shape"
   ]
  },
  {
   "cell_type": "code",
   "execution_count": 6,
   "id": "civilian-awareness",
   "metadata": {},
   "outputs": [],
   "source": [
    "batch_size = 16\n",
    "window = 64\n",
    "lag = 4\n",
    "\n",
    "def batch_sampler():\n",
    "    idx = [i * lag for i in range(len(data) // lag)]\n",
    "    batch_size = 16\n",
    "    curs = 0\n",
    "    \n",
    "    while curs < len(idx) - batch_size:\n",
    "        batch = idx[curs : curs + batch_size]\n",
    "        curs += batch_size\n",
    "        yield batch\n",
    "        \n",
    "\n",
    "dataset = TSDataset(scaled_data, window, 2)\n",
    "\n",
    "trainloader = torch.utils.data.DataLoader(dataset, batch_size=batch_size, shuffle=False)#, batch_sampler=batch_sampler())\n"
   ]
  },
  {
   "cell_type": "code",
   "execution_count": 10,
   "id": "veterinary-thousand",
   "metadata": {},
   "outputs": [],
   "source": [
    "# Первый батч потребуется для конфигурирования архитектур сетей энкодера / декодера\n",
    "for batch in trainloader:\n",
    "    break"
   ]
  },
  {
   "cell_type": "markdown",
   "id": "hearing-villa",
   "metadata": {},
   "source": [
    "#### Пример формирования TCN-модели"
   ]
  },
  {
   "cell_type": "code",
   "execution_count": 18,
   "id": "verified-queue",
   "metadata": {},
   "outputs": [],
   "source": [
    "tcn = TCNModel(num_filters=20, input_chunk_length=window, output_chunk_length=50)"
   ]
  },
  {
   "cell_type": "code",
   "execution_count": 19,
   "id": "authentic-gregory",
   "metadata": {},
   "outputs": [],
   "source": [
    "tcn_net = tcn._create_model(batch)"
   ]
  },
  {
   "cell_type": "code",
   "execution_count": 20,
   "id": "provincial-library",
   "metadata": {},
   "outputs": [
    {
     "data": {
      "text/plain": [
       "_TCNModule(\n",
       "  (dropout): Dropout(p=0.2, inplace=False)\n",
       "  (res_blocks): ModuleList(\n",
       "    (0): _ResidualBlock(\n",
       "      (dropout_fn): Dropout(p=0.2, inplace=False)\n",
       "      (conv1): Conv1d(3, 20, kernel_size=(3,), stride=(1,))\n",
       "      (conv2): Conv1d(20, 20, kernel_size=(3,), stride=(1,))\n",
       "      (conv3): Conv1d(3, 20, kernel_size=(1,), stride=(1,))\n",
       "    )\n",
       "    (1): _ResidualBlock(\n",
       "      (dropout_fn): Dropout(p=0.2, inplace=False)\n",
       "      (conv1): Conv1d(20, 20, kernel_size=(3,), stride=(1,), dilation=(2,))\n",
       "      (conv2): Conv1d(20, 20, kernel_size=(3,), stride=(1,), dilation=(2,))\n",
       "    )\n",
       "    (2): _ResidualBlock(\n",
       "      (dropout_fn): Dropout(p=0.2, inplace=False)\n",
       "      (conv1): Conv1d(20, 20, kernel_size=(3,), stride=(1,), dilation=(4,))\n",
       "      (conv2): Conv1d(20, 20, kernel_size=(3,), stride=(1,), dilation=(4,))\n",
       "    )\n",
       "    (3): _ResidualBlock(\n",
       "      (dropout_fn): Dropout(p=0.2, inplace=False)\n",
       "      (conv1): Conv1d(20, 20, kernel_size=(3,), stride=(1,), dilation=(8,))\n",
       "      (conv2): Conv1d(20, 20, kernel_size=(3,), stride=(1,), dilation=(8,))\n",
       "    )\n",
       "    (4): _ResidualBlock(\n",
       "      (dropout_fn): Dropout(p=0.2, inplace=False)\n",
       "      (conv1): Conv1d(20, 20, kernel_size=(3,), stride=(1,), dilation=(16,))\n",
       "      (conv2): Conv1d(20, 3, kernel_size=(3,), stride=(1,), dilation=(16,))\n",
       "      (conv3): Conv1d(20, 3, kernel_size=(1,), stride=(1,))\n",
       "    )\n",
       "  )\n",
       ")"
      ]
     },
     "execution_count": 20,
     "metadata": {},
     "output_type": "execute_result"
    }
   ],
   "source": [
    "tcn_net"
   ]
  },
  {
   "cell_type": "code",
   "execution_count": 12,
   "id": "encouraging-landscape",
   "metadata": {
    "scrolled": false
   },
   "outputs": [],
   "source": [
    "tcn_output = tcn_net(batch)"
   ]
  },
  {
   "cell_type": "code",
   "execution_count": 14,
   "id": "final-spanking",
   "metadata": {},
   "outputs": [
    {
     "data": {
      "text/plain": [
       "torch.Size([16, 64, 3])"
      ]
     },
     "execution_count": 14,
     "metadata": {},
     "output_type": "execute_result"
    }
   ],
   "source": [
    "tcn_output.shape"
   ]
  },
  {
   "cell_type": "code",
   "execution_count": 11,
   "id": "young-culture",
   "metadata": {},
   "outputs": [
    {
     "data": {
      "text/plain": [
       "torch.Size([16, 64, 3])"
      ]
     },
     "execution_count": 11,
     "metadata": {},
     "output_type": "execute_result"
    }
   ],
   "source": [
    "batch.shape"
   ]
  },
  {
   "cell_type": "code",
   "execution_count": 12,
   "id": "wrong-beach",
   "metadata": {},
   "outputs": [],
   "source": [
    "device = torch.device('cuda' if torch.cuda.is_available() else 'cpu')"
   ]
  },
  {
   "cell_type": "markdown",
   "id": "particular-easter",
   "metadata": {},
   "source": [
    "#### Обучение модели обычного автокодировщика"
   ]
  },
  {
   "cell_type": "code",
   "execution_count": 201,
   "id": "authorized-surveillance",
   "metadata": {},
   "outputs": [
    {
     "data": {
      "image/png": "[encoded data removed]",
      "text/plain": [
       "<Figure size 432x288 with 1 Axes>"
      ]
     },
     "metadata": {
      "needs_background": "light"
     },
     "output_type": "display_data"
    }
   ],
   "source": [
    "loss_vals = []\n",
    "n_epochs = 15\n",
    "autoencoder = Autoencoder(batch.shape)\n",
    "opt = Adam(autoencoder.parameters(), lr=0.0001)\n",
    "mse = MSELoss()\n",
    "\n",
    "for i in tqdm(range(n_epochs)):\n",
    "    for batch in trainloader:\n",
    "        opt.zero_grad()\n",
    "        \n",
    "        reconstruction = autoencoder(batch)\n",
    "        rec_loss = mse(reconstruction, batch)\n",
    "       \n",
    "        rec_loss.backward()\n",
    "        opt.step()\n",
    "\n",
    "    loss_vals.append(rec_loss.item())\n",
    "\n",
    "        #if i % 100 == 0:\n",
    "    plt.plot(loss_vals[-100:])\n",
    "    plt.title('{}/{} Negative ELBO loss: {:.4f}'.format(i+1, n_epochs, loss_vals[-1]))\n",
    "    plt.show();\n",
    "    clear_output(wait=True)"
   ]
  },
  {
   "cell_type": "markdown",
   "id": "romantic-strengthening",
   "metadata": {},
   "source": [
    "### Обучение вариационного автокодировщика на данных без аномалий"
   ]
  },
  {
   "cell_type": "markdown",
   "id": "reflected-wings",
   "metadata": {},
   "source": [
    "#### (настройка гиперпараметров автокодировщика производится по эмбеддингам линейной модели)"
   ]
  },
  {
   "cell_type": "code",
   "execution_count": 85,
   "id": "continent-progressive",
   "metadata": {
    "scrolled": true
   },
   "outputs": [
    {
     "data": {
      "image/png": "[encoded data removed]",
      "text/plain": [
       "<Figure size 432x288 with 1 Axes>"
      ]
     },
     "metadata": {
      "needs_background": "light"
     },
     "output_type": "display_data"
    }
   ],
   "source": [
    "kldivs = []\n",
    "mses = []\n",
    "loss_vals = []\n",
    "n_epochs = 40\n",
    "latent_dim = 16\n",
    "tcn_net = TCNModel(num_filters=20, kernel_size=5, input_chunk_length=window, output_chunk_length=50)\n",
    "#encoder = Encoder(batch, tcn, latent_dim=latent_dim)\n",
    "encoder = LinearEncoder(batch)\n",
    "decoder = Decoder(batch.shape, latent_dim=latent_dim)\n",
    "#vae = VAE(encoder, decoder)\n",
    "criterion = nn.MSELoss()\n",
    "#opt = Adam(list(encoder.parameters()) + list(decoder.parameters()), lr=0.001)\n",
    "opt = Adam(chain(encoder.parameters(), decoder.parameters()), lr=0.0001)\n",
    "mse = MSELoss()\n",
    "beta = 0\n",
    "\n",
    "for i in tqdm(range(n_epochs)):\n",
    "    for b_n, batch in enumerate(trainloader):\n",
    "        #beta += min(1, i / 20)\n",
    "        beta = 0.05\n",
    "        \n",
    "        opt.zero_grad()\n",
    "        \n",
    "        mu, logsigma = encoder(batch)\n",
    "        sigma = torch.exp(logsigma)\n",
    "        epsilon = torch.randn(mu.size(), requires_grad=False)\n",
    "        z = mu + epsilon * sigma\n",
    "        logits = decoder(z)\n",
    "\n",
    "        l_rec = mse(logits, batch)\n",
    "        l_kl = beta * (1 + torch.log(sigma**2) - mu**2 - sigma**2) * 0.5 / (batch.shape[1] * batch.shape[2])\n",
    "        l_kl = l_kl.sum(1).mean()\n",
    "        #l_kl = l_kl.mean()\n",
    "        loss = l_rec - l_kl\n",
    "        \n",
    "\n",
    "        loss.sum().backward()\n",
    "        opt.step()\n",
    "\n",
    "    mses.append(l_rec)\n",
    "    kldivs.append(-l_kl)\n",
    "    loss_vals.append(loss.item())\n",
    "\n",
    "        #if i % 100 == 0:\n",
    "    plt.plot(loss_vals[-100:])\n",
    "    plt.title('{}/{} Negative ELBO loss: {:.4f}'.format(i+1, n_epochs, loss_vals[-1]))\n",
    "    plt.show();\n",
    "    clear_output(wait=True)"
   ]
  },
  {
   "cell_type": "markdown",
   "id": "upper-cotton",
   "metadata": {},
   "source": [
    "#### Построение графиков reconstruction error и KL-divergence"
   ]
  },
  {
   "cell_type": "code",
   "execution_count": 103,
   "id": "unlikely-relative",
   "metadata": {},
   "outputs": [
    {
     "data": {
      "text/plain": [
       "Text(0.5, 0, 'epochs')"
      ]
     },
     "execution_count": 103,
     "metadata": {},
     "output_type": "execute_result"
    },
    {
     "data": {
      "image/png": "[encoded data removed]",
      "text/plain": [
       "<Figure size 1152x360 with 2 Axes>"
      ]
     },
     "metadata": {},
     "output_type": "display_data"
    }
   ],
   "source": [
    "plt.figure(figsize=(16, 5))\n",
    "plt.style.use('seaborn-whitegrid')\n",
    "\n",
    "plt.subplot(1, 2, 1)\n",
    "plt.title(\"KL-divergence\")\n",
    "plt.xlabel(\"epochs\")\n",
    "plt.plot(kldivs)\n",
    "\n",
    "plt.subplot(1, 2, 2)\n",
    "plt.plot(mses)\n",
    "plt.title(\"MSE reconstruction loss\")\n",
    "plt.xlabel(\"epochs\")\n"
   ]
  },
  {
   "cell_type": "code",
   "execution_count": null,
   "id": "operating-examination",
   "metadata": {},
   "outputs": [],
   "source": [
    "# TODO: обучить VAE на базе TCN, подобрать архитектуру TCN и гиперпараметры"
   ]
  },
  {
   "cell_type": "code",
   "execution_count": null,
   "id": "material-portland",
   "metadata": {},
   "outputs": [],
   "source": [
    "# TODO: обучить VAE на базе трансформеров, подобрать архитектуру и гиперпараметры"
   ]
  },
  {
   "cell_type": "markdown",
   "id": "essential-mileage",
   "metadata": {},
   "source": [
    "### Тестирование на данных с аномалиями"
   ]
  },
  {
   "cell_type": "code",
   "execution_count": 105,
   "id": "separated-romania",
   "metadata": {},
   "outputs": [],
   "source": [
    "test_data = pyreadr.read_r('data/TEP_Faulty_Training.RData')"
   ]
  },
  {
   "cell_type": "code",
   "execution_count": 106,
   "id": "legitimate-lotus",
   "metadata": {},
   "outputs": [],
   "source": [
    "for items in test_data.items():\n",
    "    testdata = items[1]"
   ]
  },
  {
   "cell_type": "code",
   "execution_count": 107,
   "id": "based-religious",
   "metadata": {},
   "outputs": [
    {
     "data": {
      "text/html": [
       "<div>\n",
       "<style scoped>\n",
       "    .dataframe tbody tr th:only-of-type {\n",
       "        vertical-align: middle;\n",
       "    }\n",
       "\n",
       "    .dataframe tbody tr th {\n",
       "        vertical-align: top;\n",
       "    }\n",
       "\n",
       "    .dataframe thead th {\n",
       "        text-align: right;\n",
       "    }\n",
       "</style>\n",
       "<table border=\"1\" class=\"dataframe\">\n",
       "  <thead>\n",
       "    <tr style=\"text-align: right;\">\n",
       "      <th></th>\n",
       "      <th>faultNumber</th>\n",
       "      <th>simulationRun</th>\n",
       "      <th>sample</th>\n",
       "      <th>xmeas_1</th>\n",
       "      <th>xmeas_2</th>\n",
       "      <th>xmeas_3</th>\n",
       "      <th>xmeas_4</th>\n",
       "      <th>xmeas_5</th>\n",
       "      <th>xmeas_6</th>\n",
       "      <th>xmeas_7</th>\n",
       "      <th>...</th>\n",
       "      <th>xmv_2</th>\n",
       "      <th>xmv_3</th>\n",
       "      <th>xmv_4</th>\n",
       "      <th>xmv_5</th>\n",
       "      <th>xmv_6</th>\n",
       "      <th>xmv_7</th>\n",
       "      <th>xmv_8</th>\n",
       "      <th>xmv_9</th>\n",
       "      <th>xmv_10</th>\n",
       "      <th>xmv_11</th>\n",
       "    </tr>\n",
       "  </thead>\n",
       "  <tbody>\n",
       "    <tr>\n",
       "      <th>0</th>\n",
       "      <td>1</td>\n",
       "      <td>1.0</td>\n",
       "      <td>1</td>\n",
       "      <td>0.25038</td>\n",
       "      <td>3674.0</td>\n",
       "      <td>4529.0</td>\n",
       "      <td>9.2320</td>\n",
       "      <td>26.889</td>\n",
       "      <td>42.402</td>\n",
       "      <td>2704.3</td>\n",
       "      <td>...</td>\n",
       "      <td>53.744</td>\n",
       "      <td>24.657</td>\n",
       "      <td>62.544</td>\n",
       "      <td>22.137</td>\n",
       "      <td>39.935</td>\n",
       "      <td>42.323</td>\n",
       "      <td>47.757</td>\n",
       "      <td>47.510</td>\n",
       "      <td>41.258</td>\n",
       "      <td>18.447</td>\n",
       "    </tr>\n",
       "    <tr>\n",
       "      <th>1</th>\n",
       "      <td>1</td>\n",
       "      <td>1.0</td>\n",
       "      <td>2</td>\n",
       "      <td>0.25109</td>\n",
       "      <td>3659.4</td>\n",
       "      <td>4556.6</td>\n",
       "      <td>9.4264</td>\n",
       "      <td>26.721</td>\n",
       "      <td>42.576</td>\n",
       "      <td>2705.0</td>\n",
       "      <td>...</td>\n",
       "      <td>53.414</td>\n",
       "      <td>24.588</td>\n",
       "      <td>59.259</td>\n",
       "      <td>22.084</td>\n",
       "      <td>40.176</td>\n",
       "      <td>38.554</td>\n",
       "      <td>43.692</td>\n",
       "      <td>47.427</td>\n",
       "      <td>41.359</td>\n",
       "      <td>17.194</td>\n",
       "    </tr>\n",
       "    <tr>\n",
       "      <th>2</th>\n",
       "      <td>1</td>\n",
       "      <td>1.0</td>\n",
       "      <td>3</td>\n",
       "      <td>0.25038</td>\n",
       "      <td>3660.3</td>\n",
       "      <td>4477.8</td>\n",
       "      <td>9.4426</td>\n",
       "      <td>26.875</td>\n",
       "      <td>42.070</td>\n",
       "      <td>2706.2</td>\n",
       "      <td>...</td>\n",
       "      <td>54.357</td>\n",
       "      <td>24.666</td>\n",
       "      <td>61.275</td>\n",
       "      <td>22.380</td>\n",
       "      <td>40.244</td>\n",
       "      <td>38.990</td>\n",
       "      <td>46.699</td>\n",
       "      <td>47.468</td>\n",
       "      <td>41.199</td>\n",
       "      <td>20.530</td>\n",
       "    </tr>\n",
       "    <tr>\n",
       "      <th>3</th>\n",
       "      <td>1</td>\n",
       "      <td>1.0</td>\n",
       "      <td>4</td>\n",
       "      <td>0.24977</td>\n",
       "      <td>3661.3</td>\n",
       "      <td>4512.1</td>\n",
       "      <td>9.4776</td>\n",
       "      <td>26.758</td>\n",
       "      <td>42.063</td>\n",
       "      <td>2707.2</td>\n",
       "      <td>...</td>\n",
       "      <td>53.946</td>\n",
       "      <td>24.725</td>\n",
       "      <td>59.856</td>\n",
       "      <td>22.277</td>\n",
       "      <td>40.257</td>\n",
       "      <td>38.072</td>\n",
       "      <td>47.541</td>\n",
       "      <td>47.658</td>\n",
       "      <td>41.643</td>\n",
       "      <td>18.089</td>\n",
       "    </tr>\n",
       "    <tr>\n",
       "      <th>4</th>\n",
       "      <td>1</td>\n",
       "      <td>1.0</td>\n",
       "      <td>5</td>\n",
       "      <td>0.29405</td>\n",
       "      <td>3679.0</td>\n",
       "      <td>4497.0</td>\n",
       "      <td>9.3381</td>\n",
       "      <td>26.889</td>\n",
       "      <td>42.650</td>\n",
       "      <td>2705.1</td>\n",
       "      <td>...</td>\n",
       "      <td>53.658</td>\n",
       "      <td>28.797</td>\n",
       "      <td>60.717</td>\n",
       "      <td>21.947</td>\n",
       "      <td>39.144</td>\n",
       "      <td>41.955</td>\n",
       "      <td>47.645</td>\n",
       "      <td>47.346</td>\n",
       "      <td>41.507</td>\n",
       "      <td>18.461</td>\n",
       "    </tr>\n",
       "  </tbody>\n",
       "</table>\n",
       "<p>5 rows × 55 columns</p>\n",
       "</div>"
      ],
      "text/plain": [
       "   faultNumber  simulationRun  sample  xmeas_1  xmeas_2  xmeas_3  xmeas_4  \\\n",
       "0            1            1.0       1  0.25038   3674.0   4529.0   9.2320   \n",
       "1            1            1.0       2  0.25109   3659.4   4556.6   9.4264   \n",
       "2            1            1.0       3  0.25038   3660.3   4477.8   9.4426   \n",
       "3            1            1.0       4  0.24977   3661.3   4512.1   9.4776   \n",
       "4            1            1.0       5  0.29405   3679.0   4497.0   9.3381   \n",
       "\n",
       "   xmeas_5  xmeas_6  xmeas_7  ...   xmv_2   xmv_3   xmv_4   xmv_5   xmv_6  \\\n",
       "0   26.889   42.402   2704.3  ...  53.744  24.657  62.544  22.137  39.935   \n",
       "1   26.721   42.576   2705.0  ...  53.414  24.588  59.259  22.084  40.176   \n",
       "2   26.875   42.070   2706.2  ...  54.357  24.666  61.275  22.380  40.244   \n",
       "3   26.758   42.063   2707.2  ...  53.946  24.725  59.856  22.277  40.257   \n",
       "4   26.889   42.650   2705.1  ...  53.658  28.797  60.717  21.947  39.144   \n",
       "\n",
       "    xmv_7   xmv_8   xmv_9  xmv_10  xmv_11  \n",
       "0  42.323  47.757  47.510  41.258  18.447  \n",
       "1  38.554  43.692  47.427  41.359  17.194  \n",
       "2  38.990  46.699  47.468  41.199  20.530  \n",
       "3  38.072  47.541  47.658  41.643  18.089  \n",
       "4  41.955  47.645  47.346  41.507  18.461  \n",
       "\n",
       "[5 rows x 55 columns]"
      ]
     },
     "execution_count": 107,
     "metadata": {},
     "output_type": "execute_result"
    }
   ],
   "source": [
    "testdata.head()"
   ]
  },
  {
   "cell_type": "code",
   "execution_count": 109,
   "id": "divine-brooks",
   "metadata": {},
   "outputs": [
    {
     "data": {
      "text/plain": [
       "(5000000, 55)"
      ]
     },
     "execution_count": 109,
     "metadata": {},
     "output_type": "execute_result"
    }
   ],
   "source": [
    "testdata.shape"
   ]
  },
  {
   "cell_type": "code",
   "execution_count": 132,
   "id": "bright-marketing",
   "metadata": {},
   "outputs": [
    {
     "data": {
      "text/plain": [
       "20"
      ]
     },
     "execution_count": 132,
     "metadata": {},
     "output_type": "execute_result"
    }
   ],
   "source": [
    "# Количество типов анломалий: \n",
    "testdata[\"faultNumber\"].nunique()"
   ]
  },
  {
   "cell_type": "code",
   "execution_count": 110,
   "id": "devoted-borough",
   "metadata": {},
   "outputs": [],
   "source": [
    "data = testdata[['xmeas_1', 'xmeas_2', 'xmeas_3']].iloc[:100000] ### !!!\n",
    "# TODO: провести тестирование на полном датасете (сокращение обусловлено ускорением настройки кодировщиков)\n",
    "scaled_test = scaler.fit_transform(data)"
   ]
  },
  {
   "cell_type": "code",
   "execution_count": 126,
   "id": "general-disney",
   "metadata": {},
   "outputs": [],
   "source": [
    "dataset = TSDataset(scaled_test, window, 2)\n",
    "\n",
    "testloader = torch.utils.data.DataLoader(dataset, batch_size=16, shuffle=False)"
   ]
  },
  {
   "cell_type": "code",
   "execution_count": 113,
   "id": "individual-cartoon",
   "metadata": {},
   "outputs": [],
   "source": [
    "vae = VAE(encoder, decoder)"
   ]
  },
  {
   "cell_type": "markdown",
   "id": "racial-height",
   "metadata": {},
   "source": [
    "### Выявление аномалий через вычисление ошибки реконструкции сигнала"
   ]
  },
  {
   "cell_type": "code",
   "execution_count": 118,
   "id": "expected-annotation",
   "metadata": {},
   "outputs": [],
   "source": [
    "def reconstruction_loss(reconstructed_batch, batch, mu, sigma):\n",
    "    l_rec = mse(reconstructed_batch, batch)\n",
    "    l_kl = beta * (1 + torch.log(sigma**2) - mu**2 - sigma**2) * 0.5 / (batch.shape[1] * batch.shape[2])\n",
    "    l_kl = l_kl.sum(1).mean()\n",
    "    loss = l_rec - l_kl\n",
    "    \n",
    "    return loss"
   ]
  },
  {
   "cell_type": "code",
   "execution_count": 127,
   "id": "computational-artwork",
   "metadata": {},
   "outputs": [],
   "source": [
    "vae.eval()\n",
    "test_loss = []\n",
    "\n",
    "for test_batch in testloader:\n",
    "    \n",
    "    with torch.no_grad():\n",
    "        reconstructed_batch, mu, sigma = vae(test_batch)\n",
    "        loss = reconstruction_loss(reconstructed_batch, test_batch, mu, sigma).item()\n",
    "    \n",
    "    test_loss.append(loss)"
   ]
  },
  {
   "cell_type": "markdown",
   "id": "local-zealand",
   "metadata": {},
   "source": [
    "#### Визуализация обнаружения аномалий"
   ]
  },
  {
   "cell_type": "code",
   "execution_count": 137,
   "id": "brilliant-silly",
   "metadata": {},
   "outputs": [
    {
     "data": {
      "text/plain": [
       "0.6664955019950867"
      ]
     },
     "execution_count": 137,
     "metadata": {},
     "output_type": "execute_result"
    }
   ],
   "source": [
    "# Уровень ошибки неаномального поведения:\n",
    "healthy_loss = mses[-1] + kldivs[-1]\n",
    "healthy_loss.item()"
   ]
  },
  {
   "cell_type": "code",
   "execution_count": 144,
   "id": "imposed-shipping",
   "metadata": {},
   "outputs": [
    {
     "data": {
      "text/plain": [
       "[<matplotlib.lines.Line2D at 0x1e380bbec18>]"
      ]
     },
     "execution_count": 144,
     "metadata": {},
     "output_type": "execute_result"
    },
    {
     "data": {
      "image/png": "[encoded data removed]",
      "text/plain": [
       "<Figure size 1152x360 with 1 Axes>"
      ]
     },
     "metadata": {},
     "output_type": "display_data"
    }
   ],
   "source": [
    "plt.figure(figsize=(16, 5))\n",
    "plt.plot(test_loss)\n",
    "\n",
    "healthy_level = healthy_loss.item() * np.ones((len(test_loss), ))\n",
    "plt.plot(healthy_level, color='red')"
   ]
  },
  {
   "cell_type": "code",
   "execution_count": null,
   "id": "compatible-denmark",
   "metadata": {},
   "outputs": [],
   "source": [
    "# TODO: опробовать метод подсчета через подсчет likelihood\n",
    "# TODO: классификация аномалий (многоклассовая)\n",
    "# TODO: подсчет метрик recall и precision"
   ]
  },
  {
   "cell_type": "code",
   "execution_count": null,
   "id": "interim-appendix",
   "metadata": {},
   "outputs": [],
   "source": []
  }
 ],
 "metadata": {
  "kernelspec": {
   "display_name": "Python 3",
   "language": "python",
   "name": "python3"
  },
  "language_info": {
   "codemirror_mode": {
    "name": "ipython",
    "version": 3
   },
   "file_extension": ".py",
   "mimetype": "text/x-python",
   "name": "python",
   "nbconvert_exporter": "python",
   "pygments_lexer": "ipython3",
   "version": "3.6.5"
  }
 },
 "nbformat": 4,
 "nbformat_minor": 5
}
