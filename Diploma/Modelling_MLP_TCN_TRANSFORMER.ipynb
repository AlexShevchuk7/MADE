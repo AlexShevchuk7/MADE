{
  "nbformat": 4,
  "nbformat_minor": 5,
  "metadata": {
    "kernelspec": {
      "display_name": "Python 3",
      "language": "python",
      "name": "python3"
    },
    "language_info": {
      "codemirror_mode": {
        "name": "ipython",
        "version": 3
      },
      "file_extension": ".py",
      "mimetype": "text/x-python",
      "name": "python",
      "nbconvert_exporter": "python",
      "pygments_lexer": "ipython3",
      "version": "3.6.5"
    },
    "colab": {
      "name": "Modelling.ipynb",
      "provenance": []
    },
    "widgets": {
      "application/vnd.jupyter.widget-state+json": {
        "b6528c2b64cb440a97ac96b5e6fbf88b": {
          "model_module": "@jupyter-widgets/controls",
          "model_name": "HBoxModel",
          "model_module_version": "1.5.0",
          "state": {
            "_view_name": "HBoxView",
            "_dom_classes": [],
            "_model_name": "HBoxModel",
            "_view_module": "@jupyter-widgets/controls",
            "_model_module_version": "1.5.0",
            "_view_count": null,
            "_view_module_version": "1.5.0",
            "box_style": "",
            "layout": "IPY_MODEL_b53f78a3b17a44809a840ac734c4944e",
            "_model_module": "@jupyter-widgets/controls",
            "children": [
              "IPY_MODEL_1dab38d5526f4d2fa3ea4ee4c303aa9f",
              "IPY_MODEL_e597320fb019417788d00ca878b8302e",
              "IPY_MODEL_9b1792eeca1a4f6886b18e3882fd7c0f"
            ]
          }
        },
        "b53f78a3b17a44809a840ac734c4944e": {
          "model_module": "@jupyter-widgets/base",
          "model_name": "LayoutModel",
          "model_module_version": "1.2.0",
          "state": {
            "_view_name": "LayoutView",
            "grid_template_rows": null,
            "right": null,
            "justify_content": null,
            "_view_module": "@jupyter-widgets/base",
            "overflow": null,
            "_model_module_version": "1.2.0",
            "_view_count": null,
            "flex_flow": null,
            "width": null,
            "min_width": null,
            "border": null,
            "align_items": null,
            "bottom": null,
            "_model_module": "@jupyter-widgets/base",
            "top": null,
            "grid_column": null,
            "overflow_y": null,
            "overflow_x": null,
            "grid_auto_flow": null,
            "grid_area": null,
            "grid_template_columns": null,
            "flex": null,
            "_model_name": "LayoutModel",
            "justify_items": null,
            "grid_row": null,
            "max_height": null,
            "align_content": null,
            "visibility": null,
            "align_self": null,
            "height": null,
            "min_height": null,
            "padding": null,
            "grid_auto_rows": null,
            "grid_gap": null,
            "max_width": null,
            "order": null,
            "_view_module_version": "1.2.0",
            "grid_template_areas": null,
            "object_position": null,
            "object_fit": null,
            "grid_auto_columns": null,
            "margin": null,
            "display": null,
            "left": null
          }
        },
        "1dab38d5526f4d2fa3ea4ee4c303aa9f": {
          "model_module": "@jupyter-widgets/controls",
          "model_name": "HTMLModel",
          "model_module_version": "1.5.0",
          "state": {
            "_view_name": "HTMLView",
            "style": "IPY_MODEL_4d670f1f1cdb41c38d730f120c51b7d3",
            "_dom_classes": [],
            "description": "",
            "_model_name": "HTMLModel",
            "placeholder": "​",
            "_view_module": "@jupyter-widgets/controls",
            "_model_module_version": "1.5.0",
            "value": "100%",
            "_view_count": null,
            "_view_module_version": "1.5.0",
            "description_tooltip": null,
            "_model_module": "@jupyter-widgets/controls",
            "layout": "IPY_MODEL_47510f9589884b0d970a4fc280af3e31"
          }
        },
        "e597320fb019417788d00ca878b8302e": {
          "model_module": "@jupyter-widgets/controls",
          "model_name": "FloatProgressModel",
          "model_module_version": "1.5.0",
          "state": {
            "_view_name": "ProgressView",
            "style": "IPY_MODEL_0140f361688b4129940ae70cf35fb3fa",
            "_dom_classes": [],
            "description": "",
            "_model_name": "FloatProgressModel",
            "bar_style": "success",
            "max": 40,
            "_view_module": "@jupyter-widgets/controls",
            "_model_module_version": "1.5.0",
            "value": 40,
            "_view_count": null,
            "_view_module_version": "1.5.0",
            "orientation": "horizontal",
            "min": 0,
            "description_tooltip": null,
            "_model_module": "@jupyter-widgets/controls",
            "layout": "IPY_MODEL_d5ceaf1a2cce410c9cef46307c37b08b"
          }
        },
        "9b1792eeca1a4f6886b18e3882fd7c0f": {
          "model_module": "@jupyter-widgets/controls",
          "model_name": "HTMLModel",
          "model_module_version": "1.5.0",
          "state": {
            "_view_name": "HTMLView",
            "style": "IPY_MODEL_ed58eed18b3a40eeb2567485d9333c93",
            "_dom_classes": [],
            "description": "",
            "_model_name": "HTMLModel",
            "placeholder": "​",
            "_view_module": "@jupyter-widgets/controls",
            "_model_module_version": "1.5.0",
            "value": " 40/40 [29:42&lt;00:00, 44.79s/it]",
            "_view_count": null,
            "_view_module_version": "1.5.0",
            "description_tooltip": null,
            "_model_module": "@jupyter-widgets/controls",
            "layout": "IPY_MODEL_bc16843d048e47fea1ead04c53d4a653"
          }
        },
        "4d670f1f1cdb41c38d730f120c51b7d3": {
          "model_module": "@jupyter-widgets/controls",
          "model_name": "DescriptionStyleModel",
          "model_module_version": "1.5.0",
          "state": {
            "_view_name": "StyleView",
            "_model_name": "DescriptionStyleModel",
            "description_width": "",
            "_view_module": "@jupyter-widgets/base",
            "_model_module_version": "1.5.0",
            "_view_count": null,
            "_view_module_version": "1.2.0",
            "_model_module": "@jupyter-widgets/controls"
          }
        },
        "47510f9589884b0d970a4fc280af3e31": {
          "model_module": "@jupyter-widgets/base",
          "model_name": "LayoutModel",
          "model_module_version": "1.2.0",
          "state": {
            "_view_name": "LayoutView",
            "grid_template_rows": null,
            "right": null,
            "justify_content": null,
            "_view_module": "@jupyter-widgets/base",
            "overflow": null,
            "_model_module_version": "1.2.0",
            "_view_count": null,
            "flex_flow": null,
            "width": null,
            "min_width": null,
            "border": null,
            "align_items": null,
            "bottom": null,
            "_model_module": "@jupyter-widgets/base",
            "top": null,
            "grid_column": null,
            "overflow_y": null,
            "overflow_x": null,
            "grid_auto_flow": null,
            "grid_area": null,
            "grid_template_columns": null,
            "flex": null,
            "_model_name": "LayoutModel",
            "justify_items": null,
            "grid_row": null,
            "max_height": null,
            "align_content": null,
            "visibility": null,
            "align_self": null,
            "height": null,
            "min_height": null,
            "padding": null,
            "grid_auto_rows": null,
            "grid_gap": null,
            "max_width": null,
            "order": null,
            "_view_module_version": "1.2.0",
            "grid_template_areas": null,
            "object_position": null,
            "object_fit": null,
            "grid_auto_columns": null,
            "margin": null,
            "display": null,
            "left": null
          }
        },
        "0140f361688b4129940ae70cf35fb3fa": {
          "model_module": "@jupyter-widgets/controls",
          "model_name": "ProgressStyleModel",
          "model_module_version": "1.5.0",
          "state": {
            "_view_name": "StyleView",
            "_model_name": "ProgressStyleModel",
            "description_width": "",
            "_view_module": "@jupyter-widgets/base",
            "_model_module_version": "1.5.0",
            "_view_count": null,
            "_view_module_version": "1.2.0",
            "bar_color": null,
            "_model_module": "@jupyter-widgets/controls"
          }
        },
        "d5ceaf1a2cce410c9cef46307c37b08b": {
          "model_module": "@jupyter-widgets/base",
          "model_name": "LayoutModel",
          "model_module_version": "1.2.0",
          "state": {
            "_view_name": "LayoutView",
            "grid_template_rows": null,
            "right": null,
            "justify_content": null,
            "_view_module": "@jupyter-widgets/base",
            "overflow": null,
            "_model_module_version": "1.2.0",
            "_view_count": null,
            "flex_flow": null,
            "width": null,
            "min_width": null,
            "border": null,
            "align_items": null,
            "bottom": null,
            "_model_module": "@jupyter-widgets/base",
            "top": null,
            "grid_column": null,
            "overflow_y": null,
            "overflow_x": null,
            "grid_auto_flow": null,
            "grid_area": null,
            "grid_template_columns": null,
            "flex": null,
            "_model_name": "LayoutModel",
            "justify_items": null,
            "grid_row": null,
            "max_height": null,
            "align_content": null,
            "visibility": null,
            "align_self": null,
            "height": null,
            "min_height": null,
            "padding": null,
            "grid_auto_rows": null,
            "grid_gap": null,
            "max_width": null,
            "order": null,
            "_view_module_version": "1.2.0",
            "grid_template_areas": null,
            "object_position": null,
            "object_fit": null,
            "grid_auto_columns": null,
            "margin": null,
            "display": null,
            "left": null
          }
        },
        "ed58eed18b3a40eeb2567485d9333c93": {
          "model_module": "@jupyter-widgets/controls",
          "model_name": "DescriptionStyleModel",
          "model_module_version": "1.5.0",
          "state": {
            "_view_name": "StyleView",
            "_model_name": "DescriptionStyleModel",
            "description_width": "",
            "_view_module": "@jupyter-widgets/base",
            "_model_module_version": "1.5.0",
            "_view_count": null,
            "_view_module_version": "1.2.0",
            "_model_module": "@jupyter-widgets/controls"
          }
        },
        "bc16843d048e47fea1ead04c53d4a653": {
          "model_module": "@jupyter-widgets/base",
          "model_name": "LayoutModel",
          "model_module_version": "1.2.0",
          "state": {
            "_view_name": "LayoutView",
            "grid_template_rows": null,
            "right": null,
            "justify_content": null,
            "_view_module": "@jupyter-widgets/base",
            "overflow": null,
            "_model_module_version": "1.2.0",
            "_view_count": null,
            "flex_flow": null,
            "width": null,
            "min_width": null,
            "border": null,
            "align_items": null,
            "bottom": null,
            "_model_module": "@jupyter-widgets/base",
            "top": null,
            "grid_column": null,
            "overflow_y": null,
            "overflow_x": null,
            "grid_auto_flow": null,
            "grid_area": null,
            "grid_template_columns": null,
            "flex": null,
            "_model_name": "LayoutModel",
            "justify_items": null,
            "grid_row": null,
            "max_height": null,
            "align_content": null,
            "visibility": null,
            "align_self": null,
            "height": null,
            "min_height": null,
            "padding": null,
            "grid_auto_rows": null,
            "grid_gap": null,
            "max_width": null,
            "order": null,
            "_view_module_version": "1.2.0",
            "grid_template_areas": null,
            "object_position": null,
            "object_fit": null,
            "grid_auto_columns": null,
            "margin": null,
            "display": null,
            "left": null
          }
        },
        "ce2784db615f4627a1790bc8e674d724": {
          "model_module": "@jupyter-widgets/controls",
          "model_name": "HBoxModel",
          "model_module_version": "1.5.0",
          "state": {
            "_view_name": "HBoxView",
            "_dom_classes": [],
            "_model_name": "HBoxModel",
            "_view_module": "@jupyter-widgets/controls",
            "_model_module_version": "1.5.0",
            "_view_count": null,
            "_view_module_version": "1.5.0",
            "box_style": "",
            "layout": "IPY_MODEL_20af5a0d959c4136ba7abb162b891457",
            "_model_module": "@jupyter-widgets/controls",
            "children": [
              "IPY_MODEL_d7d64b5db79f4b77a4185629d45be001",
              "IPY_MODEL_295619e6ba6348ce8ff893cedc065035",
              "IPY_MODEL_4b3cad90f0964529a28f181ca76f69c9"
            ]
          }
        },
        "20af5a0d959c4136ba7abb162b891457": {
          "model_module": "@jupyter-widgets/base",
          "model_name": "LayoutModel",
          "model_module_version": "1.2.0",
          "state": {
            "_view_name": "LayoutView",
            "grid_template_rows": null,
            "right": null,
            "justify_content": null,
            "_view_module": "@jupyter-widgets/base",
            "overflow": null,
            "_model_module_version": "1.2.0",
            "_view_count": null,
            "flex_flow": null,
            "width": null,
            "min_width": null,
            "border": null,
            "align_items": null,
            "bottom": null,
            "_model_module": "@jupyter-widgets/base",
            "top": null,
            "grid_column": null,
            "overflow_y": null,
            "overflow_x": null,
            "grid_auto_flow": null,
            "grid_area": null,
            "grid_template_columns": null,
            "flex": null,
            "_model_name": "LayoutModel",
            "justify_items": null,
            "grid_row": null,
            "max_height": null,
            "align_content": null,
            "visibility": null,
            "align_self": null,
            "height": null,
            "min_height": null,
            "padding": null,
            "grid_auto_rows": null,
            "grid_gap": null,
            "max_width": null,
            "order": null,
            "_view_module_version": "1.2.0",
            "grid_template_areas": null,
            "object_position": null,
            "object_fit": null,
            "grid_auto_columns": null,
            "margin": null,
            "display": null,
            "left": null
          }
        },
        "d7d64b5db79f4b77a4185629d45be001": {
          "model_module": "@jupyter-widgets/controls",
          "model_name": "HTMLModel",
          "model_module_version": "1.5.0",
          "state": {
            "_view_name": "HTMLView",
            "style": "IPY_MODEL_2b648a4e3b3440fcb63e83a8920ac04e",
            "_dom_classes": [],
            "description": "",
            "_model_name": "HTMLModel",
            "placeholder": "​",
            "_view_module": "@jupyter-widgets/controls",
            "_model_module_version": "1.5.0",
            "value": "100%",
            "_view_count": null,
            "_view_module_version": "1.5.0",
            "description_tooltip": null,
            "_model_module": "@jupyter-widgets/controls",
            "layout": "IPY_MODEL_40aae2c816cd4b4cabd6076cfcc73f8b"
          }
        },
        "295619e6ba6348ce8ff893cedc065035": {
          "model_module": "@jupyter-widgets/controls",
          "model_name": "FloatProgressModel",
          "model_module_version": "1.5.0",
          "state": {
            "_view_name": "ProgressView",
            "style": "IPY_MODEL_e105a30aaafc4c228baaae6a866336d2",
            "_dom_classes": [],
            "description": "",
            "_model_name": "FloatProgressModel",
            "bar_style": "success",
            "max": 40,
            "_view_module": "@jupyter-widgets/controls",
            "_model_module_version": "1.5.0",
            "value": 40,
            "_view_count": null,
            "_view_module_version": "1.5.0",
            "orientation": "horizontal",
            "min": 0,
            "description_tooltip": null,
            "_model_module": "@jupyter-widgets/controls",
            "layout": "IPY_MODEL_fc59d38809864b8b84cee4bb660326a2"
          }
        },
        "4b3cad90f0964529a28f181ca76f69c9": {
          "model_module": "@jupyter-widgets/controls",
          "model_name": "HTMLModel",
          "model_module_version": "1.5.0",
          "state": {
            "_view_name": "HTMLView",
            "style": "IPY_MODEL_15278949baac41e3aa08a97959644718",
            "_dom_classes": [],
            "description": "",
            "_model_name": "HTMLModel",
            "placeholder": "​",
            "_view_module": "@jupyter-widgets/controls",
            "_model_module_version": "1.5.0",
            "value": " 40/40 [2:32:35&lt;00:00, 229.22s/it]",
            "_view_count": null,
            "_view_module_version": "1.5.0",
            "description_tooltip": null,
            "_model_module": "@jupyter-widgets/controls",
            "layout": "IPY_MODEL_ac825794512c40b4a4a94f98826d5425"
          }
        },
        "2b648a4e3b3440fcb63e83a8920ac04e": {
          "model_module": "@jupyter-widgets/controls",
          "model_name": "DescriptionStyleModel",
          "model_module_version": "1.5.0",
          "state": {
            "_view_name": "StyleView",
            "_model_name": "DescriptionStyleModel",
            "description_width": "",
            "_view_module": "@jupyter-widgets/base",
            "_model_module_version": "1.5.0",
            "_view_count": null,
            "_view_module_version": "1.2.0",
            "_model_module": "@jupyter-widgets/controls"
          }
        },
        "40aae2c816cd4b4cabd6076cfcc73f8b": {
          "model_module": "@jupyter-widgets/base",
          "model_name": "LayoutModel",
          "model_module_version": "1.2.0",
          "state": {
            "_view_name": "LayoutView",
            "grid_template_rows": null,
            "right": null,
            "justify_content": null,
            "_view_module": "@jupyter-widgets/base",
            "overflow": null,
            "_model_module_version": "1.2.0",
            "_view_count": null,
            "flex_flow": null,
            "width": null,
            "min_width": null,
            "border": null,
            "align_items": null,
            "bottom": null,
            "_model_module": "@jupyter-widgets/base",
            "top": null,
            "grid_column": null,
            "overflow_y": null,
            "overflow_x": null,
            "grid_auto_flow": null,
            "grid_area": null,
            "grid_template_columns": null,
            "flex": null,
            "_model_name": "LayoutModel",
            "justify_items": null,
            "grid_row": null,
            "max_height": null,
            "align_content": null,
            "visibility": null,
            "align_self": null,
            "height": null,
            "min_height": null,
            "padding": null,
            "grid_auto_rows": null,
            "grid_gap": null,
            "max_width": null,
            "order": null,
            "_view_module_version": "1.2.0",
            "grid_template_areas": null,
            "object_position": null,
            "object_fit": null,
            "grid_auto_columns": null,
            "margin": null,
            "display": null,
            "left": null
          }
        },
        "e105a30aaafc4c228baaae6a866336d2": {
          "model_module": "@jupyter-widgets/controls",
          "model_name": "ProgressStyleModel",
          "model_module_version": "1.5.0",
          "state": {
            "_view_name": "StyleView",
            "_model_name": "ProgressStyleModel",
            "description_width": "",
            "_view_module": "@jupyter-widgets/base",
            "_model_module_version": "1.5.0",
            "_view_count": null,
            "_view_module_version": "1.2.0",
            "bar_color": null,
            "_model_module": "@jupyter-widgets/controls"
          }
        },
        "fc59d38809864b8b84cee4bb660326a2": {
          "model_module": "@jupyter-widgets/base",
          "model_name": "LayoutModel",
          "model_module_version": "1.2.0",
          "state": {
            "_view_name": "LayoutView",
            "grid_template_rows": null,
            "right": null,
            "justify_content": null,
            "_view_module": "@jupyter-widgets/base",
            "overflow": null,
            "_model_module_version": "1.2.0",
            "_view_count": null,
            "flex_flow": null,
            "width": null,
            "min_width": null,
            "border": null,
            "align_items": null,
            "bottom": null,
            "_model_module": "@jupyter-widgets/base",
            "top": null,
            "grid_column": null,
            "overflow_y": null,
            "overflow_x": null,
            "grid_auto_flow": null,
            "grid_area": null,
            "grid_template_columns": null,
            "flex": null,
            "_model_name": "LayoutModel",
            "justify_items": null,
            "grid_row": null,
            "max_height": null,
            "align_content": null,
            "visibility": null,
            "align_self": null,
            "height": null,
            "min_height": null,
            "padding": null,
            "grid_auto_rows": null,
            "grid_gap": null,
            "max_width": null,
            "order": null,
            "_view_module_version": "1.2.0",
            "grid_template_areas": null,
            "object_position": null,
            "object_fit": null,
            "grid_auto_columns": null,
            "margin": null,
            "display": null,
            "left": null
          }
        },
        "15278949baac41e3aa08a97959644718": {
          "model_module": "@jupyter-widgets/controls",
          "model_name": "DescriptionStyleModel",
          "model_module_version": "1.5.0",
          "state": {
            "_view_name": "StyleView",
            "_model_name": "DescriptionStyleModel",
            "description_width": "",
            "_view_module": "@jupyter-widgets/base",
            "_model_module_version": "1.5.0",
            "_view_count": null,
            "_view_module_version": "1.2.0",
            "_model_module": "@jupyter-widgets/controls"
          }
        },
        "ac825794512c40b4a4a94f98826d5425": {
          "model_module": "@jupyter-widgets/base",
          "model_name": "LayoutModel",
          "model_module_version": "1.2.0",
          "state": {
            "_view_name": "LayoutView",
            "grid_template_rows": null,
            "right": null,
            "justify_content": null,
            "_view_module": "@jupyter-widgets/base",
            "overflow": null,
            "_model_module_version": "1.2.0",
            "_view_count": null,
            "flex_flow": null,
            "width": null,
            "min_width": null,
            "border": null,
            "align_items": null,
            "bottom": null,
            "_model_module": "@jupyter-widgets/base",
            "top": null,
            "grid_column": null,
            "overflow_y": null,
            "overflow_x": null,
            "grid_auto_flow": null,
            "grid_area": null,
            "grid_template_columns": null,
            "flex": null,
            "_model_name": "LayoutModel",
            "justify_items": null,
            "grid_row": null,
            "max_height": null,
            "align_content": null,
            "visibility": null,
            "align_self": null,
            "height": null,
            "min_height": null,
            "padding": null,
            "grid_auto_rows": null,
            "grid_gap": null,
            "max_width": null,
            "order": null,
            "_view_module_version": "1.2.0",
            "grid_template_areas": null,
            "object_position": null,
            "object_fit": null,
            "grid_auto_columns": null,
            "margin": null,
            "display": null,
            "left": null
          }
        }
      }
    }
  },
  "cells": [
    {
      "cell_type": "markdown",
      "metadata": {
        "id": "virtual-senator"
      },
      "source": [
        "## <p style=\"text-align: center;\">Исследование аномалий в multivariate time-series при помощи вариационных автокодировщиков на базе TCN и трансформеров</p>"
      ],
      "id": "virtual-senator"
    },
    {
      "cell_type": "markdown",
      "metadata": {
        "id": "acting-finland"
      },
      "source": [
        "### План работы: \n",
        "\n",
        "1. Построение и обучение вариационного автокодировщика на базе: \n",
        "- линейной модели\n",
        "- модели на базе TCN (Temporal Convolution Network - имплементация из библиотеки [Darts](https://github.com/unit8co/darts#installation-guide))\n",
        "- транфсорфмеров (из PyTorch)\n",
        "2. Обучение модеели VAE на fault free (healthy) data. Подбор гиперпараметров.\n",
        "3. Выявление аномалий и составление датасета для классификации аномалий по маркированному датасету.\n",
        "4. Подсчет метри Precision и Recall для тестового датасета в задаче классификации аномалий.\n",
        "5. Выводы, сравнение с бенчмарками.\n",
        "\n",
        "Данные:\n",
        "[Additional Tennessee Eastman Process Simulation Data for Anomaly Detection Evaluation](https://dataverse.harvard.edu/dataset.xhtml?persistentId=doi:10.7910/DVN/6C3JR1)"
      ],
      "id": "acting-finland"
    },
    {
      "cell_type": "code",
      "metadata": {
        "colab": {
          "base_uri": "https://localhost:8080/",
          "height": 436
        },
        "id": "FG--SfiVXIk8",
        "outputId": "098f2dd4-1cd7-482d-c918-f3bc526a1771"
      },
      "source": [
        "!pip install pyreadr"
      ],
      "id": "FG--SfiVXIk8",
      "execution_count": 1,
      "outputs": [
        {
          "output_type": "stream",
          "name": "stdout",
          "text": [
            "Collecting pyreadr\n",
            "  Downloading pyreadr-0.4.4-cp37-cp37m-manylinux_2_17_x86_64.manylinux2014_x86_64.whl (361 kB)\n",
            "\u001b[K     |████████████████████████████████| 361 kB 5.3 MB/s \n",
            "\u001b[?25hCollecting pandas>=1.2.0\n",
            "  Downloading pandas-1.3.4-cp37-cp37m-manylinux_2_17_x86_64.manylinux2014_x86_64.whl (11.3 MB)\n",
            "\u001b[K     |████████████████████████████████| 11.3 MB 42.9 MB/s \n",
            "\u001b[?25hRequirement already satisfied: python-dateutil>=2.7.3 in /usr/local/lib/python3.7/dist-packages (from pandas>=1.2.0->pyreadr) (2.8.2)\n",
            "Requirement already satisfied: pytz>=2017.3 in /usr/local/lib/python3.7/dist-packages (from pandas>=1.2.0->pyreadr) (2018.9)\n",
            "Requirement already satisfied: numpy>=1.17.3 in /usr/local/lib/python3.7/dist-packages (from pandas>=1.2.0->pyreadr) (1.19.5)\n",
            "Requirement already satisfied: six>=1.5 in /usr/local/lib/python3.7/dist-packages (from python-dateutil>=2.7.3->pandas>=1.2.0->pyreadr) (1.15.0)\n",
            "Installing collected packages: pandas, pyreadr\n",
            "  Attempting uninstall: pandas\n",
            "    Found existing installation: pandas 1.1.5\n",
            "    Uninstalling pandas-1.1.5:\n",
            "      Successfully uninstalled pandas-1.1.5\n",
            "\u001b[31mERROR: pip's dependency resolver does not currently take into account all the packages that are installed. This behaviour is the source of the following dependency conflicts.\n",
            "google-colab 1.0.0 requires pandas~=1.1.0; python_version >= \"3.0\", but you have pandas 1.3.4 which is incompatible.\u001b[0m\n",
            "Successfully installed pandas-1.3.4 pyreadr-0.4.4\n"
          ]
        },
        {
          "output_type": "display_data",
          "data": {
            "application/vnd.colab-display-data+json": {
              "pip_warning": {
                "packages": [
                  "pandas"
                ]
              }
            }
          },
          "metadata": {}
        }
      ]
    },
    {
      "cell_type": "code",
      "metadata": {
        "id": "declared-guard"
      },
      "source": [
        "from itertools import chain\n",
        "import requests\n",
        "import pandas as pd\n",
        "import numpy as np\n",
        "import pyreadr\n",
        "import torch\n",
        "from torch import nn\n",
        "from torch.optim import Adam\n",
        "from torch.nn import MSELoss\n",
        "import torch.nn.functional as F\n",
        "from torch.autograd import Variable\n",
        "from torch.utils.data import Dataset, DataLoader\n",
        "\n",
        "from sklearn.preprocessing import StandardScaler, MinMaxScaler\n",
        "from tqdm.notebook import tqdm \n",
        "from IPython.display import clear_output\n",
        "\n",
        "import matplotlib.pyplot as plt"
      ],
      "id": "declared-guard",
      "execution_count": 1,
      "outputs": []
    },
    {
      "cell_type": "code",
      "metadata": {
        "colab": {
          "base_uri": "https://localhost:8080/"
        },
        "id": "cePjcCSy3kGW",
        "outputId": "b38ca50a-3aad-4a44-9c1a-9bff86634969"
      },
      "source": [
        "open('tcn_model.py', 'w').write(requests.get('https://raw.githubusercontent.com/AlexShevchuk7/MADE/master/Diploma/tcn_model.py').text)\n",
        "open('TEP_FaultFree_Training.RData', 'wb').write(requests.get('https://github.com/AlexShevchuk7/MADE/blob/master/Diploma/TEP_FaultFree_Training.RData?raw=true').content)\n"
      ],
      "id": "cePjcCSy3kGW",
      "execution_count": 2,
      "outputs": [
        {
          "output_type": "execute_result",
          "data": {
            "text/plain": [
              "24678017"
            ]
          },
          "metadata": {},
          "execution_count": 2
        }
      ]
    },
    {
      "cell_type": "code",
      "metadata": {
        "id": "RApB8E5B33ZB"
      },
      "source": [
        "from tcn_model import TCNModel"
      ],
      "id": "RApB8E5B33ZB",
      "execution_count": 3,
      "outputs": []
    },
    {
      "cell_type": "code",
      "metadata": {
        "colab": {
          "base_uri": "https://localhost:8080/"
        },
        "id": "TcyI6MXObykk",
        "outputId": "792faa3b-0fe9-4b01-8345-8ceec6047bc5"
      },
      "source": [
        "device = torch.device('cuda') if torch.cuda.is_available() else torch.device('cpu')\n",
        "device"
      ],
      "id": "TcyI6MXObykk",
      "execution_count": 4,
      "outputs": [
        {
          "output_type": "execute_result",
          "data": {
            "text/plain": [
              "device(type='cuda')"
            ]
          },
          "metadata": {},
          "execution_count": 4
        }
      ]
    },
    {
      "cell_type": "code",
      "metadata": {
        "id": "medical-senate"
      },
      "source": [
        "class TSDataset(Dataset):\n",
        "    def __init__(self, data, window, offset):\n",
        "        self.data = torch.tensor(data, dtype=torch.float).to(device)\n",
        "        self.window = window\n",
        "        self.offset = offset\n",
        "        self.shape = self.__getshape__()\n",
        "        self.size = self.__getsize__()\n",
        " \n",
        "    def __getitem__(self, index):\n",
        "        x = self.data[index : index + self.window]\n",
        "        return x\n",
        " \n",
        "    def __len__(self):\n",
        "        return len(self.data) -  self.window \n",
        "    \n",
        "    def __getshape__(self):\n",
        "        return (self.__len__(), *self.__getitem__(0)[0].shape)\n",
        "    \n",
        "    def __getsize__(self):\n",
        "        return (self.__len__())"
      ],
      "id": "medical-senate",
      "execution_count": 5,
      "outputs": []
    },
    {
      "cell_type": "code",
      "metadata": {
        "id": "figured-catch"
      },
      "source": [
        "class Basic_net(nn.Module):\n",
        "    def __init__(self, batch, hidden_dim=512):\n",
        "        super(Basic_net, self).__init__()\n",
        "        self.hidden_dim = hidden_dim\n",
        "        input_dim = batch.shape[1]*batch.shape[2]\n",
        "        self.model = nn.Sequential(\n",
        "            nn.Linear(input_dim, hidden_dim),\n",
        "            nn.ReLU(),\n",
        "            nn.Linear(hidden_dim , hidden_dim),\n",
        "            nn.ReLU(),\n",
        "            nn.Linear(hidden_dim, hidden_dim),\n",
        "            nn.ReLU(),\n",
        "            nn.Linear(hidden_dim, hidden_dim),\n",
        "            nn.ReLU()\n",
        "        )\n",
        "        \n",
        "    def forward(self, x):\n",
        "        x = torch.flatten(x, start_dim=1)\n",
        "        x = self.model(x)\n",
        "        return torch.reshape(x, (-1, batch.shape[1], self.hidden_dim // batch.shape[1]))"
      ],
      "id": "figured-catch",
      "execution_count": 6,
      "outputs": []
    },
    {
      "cell_type": "code",
      "metadata": {
        "id": "handed-addition"
      },
      "source": [
        "class LinearEncoder(nn.Module):\n",
        "    def __init__(self, input_dim, latent_dim=16):\n",
        "        super(LinearEncoder, self).__init__()        \n",
        "        self.embedding = Basic_net(batch)\n",
        "        \n",
        "        self.hidden_dim = input_dim.shape[1] * input_dim.shape[2]\n",
        "        self.mu = nn.Linear(self.hidden_dim, latent_dim)\n",
        "        self.sigma = nn.Linear(self.hidden_dim, latent_dim)\n",
        "    \n",
        "    def forward(self, x):\n",
        "        embedding = self.embedding(x)\n",
        "        flat_embedding = torch.flatten(embedding, start_dim=1)\n",
        "        \n",
        "        mu = F.relu(self.mu(flat_embedding))\n",
        "        logsigma = F.relu(self.sigma(flat_embedding))\n",
        "        \n",
        "        return mu, logsigma"
      ],
      "id": "handed-addition",
      "execution_count": 7,
      "outputs": []
    },
    {
      "cell_type": "code",
      "metadata": {
        "id": "israeli-wisconsin"
      },
      "source": [
        "class TCNEncoder(nn.Module):\n",
        "    def __init__(self, batch, tcn, latent_dim=16):\n",
        "        super(TCNEncoder, self).__init__()\n",
        "        self.embedding = tcn._create_model(batch).to(device)\n",
        "        \n",
        "        self.hidden_dim = batch.shape[1] * batch.shape[2]\n",
        "        self.mu = nn.Linear(self.hidden_dim, latent_dim)\n",
        "        self.sigma = nn.Linear(self.hidden_dim, latent_dim)\n",
        "    \n",
        "    def forward(self, x):\n",
        "        embedding = self.embedding(x)\n",
        "        flat_embedding = torch.flatten(embedding, start_dim=1)\n",
        "        \n",
        "        mu = F.relu(self.mu(flat_embedding))\n",
        "        logsigma = F.relu(self.sigma(flat_embedding))\n",
        "        \n",
        "        return mu, logsigma"
      ],
      "id": "israeli-wisconsin",
      "execution_count": 8,
      "outputs": []
    },
    {
      "cell_type": "code",
      "metadata": {
        "id": "oPtQbb2WYQYP"
      },
      "source": [
        "class TransformEncoder(nn.Module):\n",
        "    def __init__(self, batch, latent_dim=16):\n",
        "        super(TransformEncoder, self).__init__()\n",
        "        \n",
        "        self.encoder_layer = nn.TransformerEncoderLayer(d_model=52, nhead=4, dim_feedforward=256)\n",
        "        self.transformer = nn.modules.TransformerEncoder(self.encoder_layer, num_layers=8)\n",
        "                             \n",
        "        self.hidden_dim = batch.shape[1] * batch.shape[2]\n",
        "        self.mu = nn.Linear(self.hidden_dim, latent_dim)\n",
        "        self.sigma = nn.Linear(self.hidden_dim, latent_dim)\n",
        "    \n",
        "    def forward(self, x):\n",
        "        embedding = self.transformer(x)\n",
        "        flat_embedding = torch.flatten(embedding, start_dim=1)\n",
        "        \n",
        "        mu = F.relu(self.mu(flat_embedding))\n",
        "        logsigma = F.relu(self.sigma(flat_embedding))\n",
        "        \n",
        "        return mu, logsigma"
      ],
      "id": "oPtQbb2WYQYP",
      "execution_count": 9,
      "outputs": []
    },
    {
      "cell_type": "code",
      "metadata": {
        "id": "previous-monthly"
      },
      "source": [
        "class SimpleDecoder(nn.Module):\n",
        "    def __init__(self, batch_shape, latent_dim):\n",
        "        super(Decoder, self).__init__()\n",
        "        self.batch_dim = batch_shape[0]\n",
        "        self.chunk_length = batch_shape[1]\n",
        "        self.latent_dim = latent_dim\n",
        "        self.chunk_size = batch_shape[2]\n",
        "        self.lin1 = nn.Linear(self.latent_dim, self.chunk_length)\n",
        "        self.lin2 = nn.Linear(self.chunk_length, self.chunk_length * self.chunk_size)\n",
        "        \n",
        "    def forward(self, x):\n",
        "        x = F.relu(self.lin1(x))\n",
        "        x = F.relu(self.lin2(x))\n",
        "        return torch.reshape(x, (self.batch_dim, self.chunk_length, self.chunk_size))"
      ],
      "id": "previous-monthly",
      "execution_count": null,
      "outputs": []
    },
    {
      "cell_type": "code",
      "metadata": {
        "id": "xwSdcUQ2Nmfs"
      },
      "source": [
        "class Decoder(nn.Module):\n",
        "    def __init__(self, batch_shape, latent_dim):\n",
        "        super(Decoder, self).__init__()\n",
        "        self.batch_dim = batch_shape[0]\n",
        "        self.chunk_length = batch_shape[1]\n",
        "        self.latent_dim = latent_dim\n",
        "        self.chunk_size = batch_shape[2]\n",
        "        self.fc1 = nn.Linear(self.latent_dim, self.chunk_length * 4)\n",
        "        self.fc2 = nn.Linear(self.chunk_length * 4, self.chunk_length * 4)\n",
        "        #self.batchnorm1 = nn.BatchNorm1d(self.chunk_length * 4)\n",
        "        self.fc3 = nn.Linear(self.chunk_length * 4, self.chunk_length * 2)\n",
        "        self.fc4 = nn.Linear(self.chunk_length * 2, self.chunk_length * self.chunk_size)\n",
        "        #self.batchnorm2 = nn.BatchNorm1d(self.chunk_length * self.chunk_size)\n",
        "        \n",
        "    def forward(self, x):\n",
        "        x = F.relu(self.fc1(x))\n",
        "        x = F.relu(self.fc2(x))\n",
        "        x = F.relu(self.fc3(x))\n",
        "        x = F.relu(self.fc4(x))\n",
        "        #x = self.batchnorm2(x)\n",
        "    \n",
        "        return torch.reshape(x, (-1, self.chunk_length, self.chunk_size))"
      ],
      "id": "xwSdcUQ2Nmfs",
      "execution_count": 10,
      "outputs": []
    },
    {
      "cell_type": "code",
      "metadata": {
        "id": "median-frame"
      },
      "source": [
        "class Autoencoder(nn.Module):\n",
        "    def __init__(self, batch_shape):\n",
        "        super(Autoencoder, self).__init__()\n",
        "        self.hidden_dim = batch.shape[1] * batch.shape[2]\n",
        "        self.batch_shape = batch_shape\n",
        "        self.latent_dim = 32\n",
        "        #self.embedding = Basic_net()\n",
        "        self.embedding = tcn._create_model(batch)\n",
        "        self.encoder = nn.Linear(self.hidden_dim, self.latent_dim)\n",
        "        \n",
        "        self.decoder1 = nn.Linear(self.latent_dim, batch_shape[1])\n",
        "        self.decoder2 = nn.Linear(batch_shape[1], batch_shape[1] * 3)\n",
        "        \n",
        "    def forward(self, x):\n",
        "        enc = self.embedding(x)\n",
        "        flat_embedding = torch.flatten(enc, start_dim=1)\n",
        "        enc = F.relu(self.encoder(flat_embedding))\n",
        "        \n",
        "        dec = F.relu(self.decoder1(enc))\n",
        "        dec = F.relu(self.decoder2(dec))\n",
        "        \n",
        "        return torch.reshape(dec, (self.batch_shape[0], self.batch_shape[1], self.batch_shape[2]))"
      ],
      "id": "median-frame",
      "execution_count": null,
      "outputs": []
    },
    {
      "cell_type": "code",
      "metadata": {
        "id": "active-extra"
      },
      "source": [
        "class VAE(nn.Module):\n",
        "    def __init__(self, encoder, decoder, device=device):\n",
        "        super(VAE, self).__init__()\n",
        "        self.encoder = encoder\n",
        "        self.decoder = decoder\n",
        "        self.device = device\n",
        "        self.mu = None\n",
        "        self.sigma = None\n",
        "        \n",
        "    def sample_z(self, mu, sigma):\n",
        "        epsilon = torch.randn(mu.size())\n",
        "        epsilon = Variable(epsilon, requires_grad=False).type(torch.FloatTensor).to(self.device)\n",
        "        z = mu + sigma * epsilon\n",
        "        return z\n",
        "    \n",
        "    def forward(self, x):\n",
        "        self.mu, logsigma = self.encoder(x)\n",
        "        self.sigma = torch.exp(logsigma)\n",
        "        z = self.sample_z(self.mu.to(self.device), self.sigma.to(self.device))\n",
        "        theta = self.decoder(z)\n",
        "        return theta, self.mu, self.sigma"
      ],
      "id": "active-extra",
      "execution_count": 11,
      "outputs": []
    },
    {
      "cell_type": "code",
      "metadata": {
        "id": "moved-quarter"
      },
      "source": [
        "# TODO: написать класс для построения эмбеддингов на базе трансформеров (взять из pytorch)"
      ],
      "id": "moved-quarter",
      "execution_count": null,
      "outputs": []
    },
    {
      "cell_type": "markdown",
      "metadata": {
        "id": "abroad-render"
      },
      "source": [
        "### Считывание данных. Формирование dataloader"
      ],
      "id": "abroad-render"
    },
    {
      "cell_type": "code",
      "metadata": {
        "id": "furnished-sunglasses"
      },
      "source": [
        "train_data = pyreadr.read_r('TEP_FaultFree_Training.RData')"
      ],
      "id": "furnished-sunglasses",
      "execution_count": 12,
      "outputs": []
    },
    {
      "cell_type": "code",
      "metadata": {
        "id": "august-forge"
      },
      "source": [
        "for items in train_data.items():\n",
        "    tsdata = items[1]"
      ],
      "id": "august-forge",
      "execution_count": 13,
      "outputs": []
    },
    {
      "cell_type": "code",
      "metadata": {
        "colab": {
          "base_uri": "https://localhost:8080/",
          "height": 226
        },
        "id": "cognitive-greeting",
        "outputId": "da9fa53d-36e6-48eb-8a84-36556aecfa38"
      },
      "source": [
        "tsdata.head()"
      ],
      "id": "cognitive-greeting",
      "execution_count": null,
      "outputs": [
        {
          "output_type": "execute_result",
          "data": {
            "text/html": [
              "<div>\n",
              "<style scoped>\n",
              "    .dataframe tbody tr th:only-of-type {\n",
              "        vertical-align: middle;\n",
              "    }\n",
              "\n",
              "    .dataframe tbody tr th {\n",
              "        vertical-align: top;\n",
              "    }\n",
              "\n",
              "    .dataframe thead th {\n",
              "        text-align: right;\n",
              "    }\n",
              "</style>\n",
              "<table border=\"1\" class=\"dataframe\">\n",
              "  <thead>\n",
              "    <tr style=\"text-align: right;\">\n",
              "      <th></th>\n",
              "      <th>faultNumber</th>\n",
              "      <th>simulationRun</th>\n",
              "      <th>sample</th>\n",
              "      <th>xmeas_1</th>\n",
              "      <th>xmeas_2</th>\n",
              "      <th>xmeas_3</th>\n",
              "      <th>xmeas_4</th>\n",
              "      <th>xmeas_5</th>\n",
              "      <th>xmeas_6</th>\n",
              "      <th>xmeas_7</th>\n",
              "      <th>xmeas_8</th>\n",
              "      <th>xmeas_9</th>\n",
              "      <th>xmeas_10</th>\n",
              "      <th>xmeas_11</th>\n",
              "      <th>xmeas_12</th>\n",
              "      <th>xmeas_13</th>\n",
              "      <th>xmeas_14</th>\n",
              "      <th>xmeas_15</th>\n",
              "      <th>xmeas_16</th>\n",
              "      <th>xmeas_17</th>\n",
              "      <th>xmeas_18</th>\n",
              "      <th>xmeas_19</th>\n",
              "      <th>xmeas_20</th>\n",
              "      <th>xmeas_21</th>\n",
              "      <th>xmeas_22</th>\n",
              "      <th>xmeas_23</th>\n",
              "      <th>xmeas_24</th>\n",
              "      <th>xmeas_25</th>\n",
              "      <th>xmeas_26</th>\n",
              "      <th>xmeas_27</th>\n",
              "      <th>xmeas_28</th>\n",
              "      <th>xmeas_29</th>\n",
              "      <th>xmeas_30</th>\n",
              "      <th>xmeas_31</th>\n",
              "      <th>xmeas_32</th>\n",
              "      <th>xmeas_33</th>\n",
              "      <th>xmeas_34</th>\n",
              "      <th>xmeas_35</th>\n",
              "      <th>xmeas_36</th>\n",
              "      <th>xmeas_37</th>\n",
              "      <th>xmeas_38</th>\n",
              "      <th>xmeas_39</th>\n",
              "      <th>xmeas_40</th>\n",
              "      <th>xmeas_41</th>\n",
              "      <th>xmv_1</th>\n",
              "      <th>xmv_2</th>\n",
              "      <th>xmv_3</th>\n",
              "      <th>xmv_4</th>\n",
              "      <th>xmv_5</th>\n",
              "      <th>xmv_6</th>\n",
              "      <th>xmv_7</th>\n",
              "      <th>xmv_8</th>\n",
              "      <th>xmv_9</th>\n",
              "      <th>xmv_10</th>\n",
              "      <th>xmv_11</th>\n",
              "    </tr>\n",
              "  </thead>\n",
              "  <tbody>\n",
              "    <tr>\n",
              "      <th>0</th>\n",
              "      <td>0.0</td>\n",
              "      <td>1.0</td>\n",
              "      <td>1</td>\n",
              "      <td>0.25038</td>\n",
              "      <td>3674.0</td>\n",
              "      <td>4529.0</td>\n",
              "      <td>9.2320</td>\n",
              "      <td>26.889</td>\n",
              "      <td>42.402</td>\n",
              "      <td>2704.3</td>\n",
              "      <td>74.863</td>\n",
              "      <td>120.41</td>\n",
              "      <td>0.33818</td>\n",
              "      <td>80.044</td>\n",
              "      <td>51.435</td>\n",
              "      <td>2632.9</td>\n",
              "      <td>25.029</td>\n",
              "      <td>50.528</td>\n",
              "      <td>3101.1</td>\n",
              "      <td>22.819</td>\n",
              "      <td>65.732</td>\n",
              "      <td>229.61</td>\n",
              "      <td>341.22</td>\n",
              "      <td>94.640</td>\n",
              "      <td>77.047</td>\n",
              "      <td>32.188</td>\n",
              "      <td>8.8933</td>\n",
              "      <td>26.383</td>\n",
              "      <td>6.8820</td>\n",
              "      <td>18.776</td>\n",
              "      <td>1.6567</td>\n",
              "      <td>32.958</td>\n",
              "      <td>13.823</td>\n",
              "      <td>23.978</td>\n",
              "      <td>1.2565</td>\n",
              "      <td>18.579</td>\n",
              "      <td>2.2633</td>\n",
              "      <td>4.8436</td>\n",
              "      <td>2.2986</td>\n",
              "      <td>0.017866</td>\n",
              "      <td>0.8357</td>\n",
              "      <td>0.098577</td>\n",
              "      <td>53.724</td>\n",
              "      <td>43.828</td>\n",
              "      <td>62.881</td>\n",
              "      <td>53.744</td>\n",
              "      <td>24.657</td>\n",
              "      <td>62.544</td>\n",
              "      <td>22.137</td>\n",
              "      <td>39.935</td>\n",
              "      <td>42.323</td>\n",
              "      <td>47.757</td>\n",
              "      <td>47.510</td>\n",
              "      <td>41.258</td>\n",
              "      <td>18.447</td>\n",
              "    </tr>\n",
              "    <tr>\n",
              "      <th>1</th>\n",
              "      <td>0.0</td>\n",
              "      <td>1.0</td>\n",
              "      <td>2</td>\n",
              "      <td>0.25109</td>\n",
              "      <td>3659.4</td>\n",
              "      <td>4556.6</td>\n",
              "      <td>9.4264</td>\n",
              "      <td>26.721</td>\n",
              "      <td>42.576</td>\n",
              "      <td>2705.0</td>\n",
              "      <td>75.000</td>\n",
              "      <td>120.41</td>\n",
              "      <td>0.33620</td>\n",
              "      <td>80.078</td>\n",
              "      <td>50.154</td>\n",
              "      <td>2633.8</td>\n",
              "      <td>24.419</td>\n",
              "      <td>48.772</td>\n",
              "      <td>3102.0</td>\n",
              "      <td>23.333</td>\n",
              "      <td>65.716</td>\n",
              "      <td>230.54</td>\n",
              "      <td>341.30</td>\n",
              "      <td>94.595</td>\n",
              "      <td>77.434</td>\n",
              "      <td>32.188</td>\n",
              "      <td>8.8933</td>\n",
              "      <td>26.383</td>\n",
              "      <td>6.8820</td>\n",
              "      <td>18.776</td>\n",
              "      <td>1.6567</td>\n",
              "      <td>32.958</td>\n",
              "      <td>13.823</td>\n",
              "      <td>23.978</td>\n",
              "      <td>1.2565</td>\n",
              "      <td>18.579</td>\n",
              "      <td>2.2633</td>\n",
              "      <td>4.8436</td>\n",
              "      <td>2.2986</td>\n",
              "      <td>0.017866</td>\n",
              "      <td>0.8357</td>\n",
              "      <td>0.098577</td>\n",
              "      <td>53.724</td>\n",
              "      <td>43.828</td>\n",
              "      <td>63.132</td>\n",
              "      <td>53.414</td>\n",
              "      <td>24.588</td>\n",
              "      <td>59.259</td>\n",
              "      <td>22.084</td>\n",
              "      <td>40.176</td>\n",
              "      <td>38.554</td>\n",
              "      <td>43.692</td>\n",
              "      <td>47.427</td>\n",
              "      <td>41.359</td>\n",
              "      <td>17.194</td>\n",
              "    </tr>\n",
              "    <tr>\n",
              "      <th>2</th>\n",
              "      <td>0.0</td>\n",
              "      <td>1.0</td>\n",
              "      <td>3</td>\n",
              "      <td>0.25038</td>\n",
              "      <td>3660.3</td>\n",
              "      <td>4477.8</td>\n",
              "      <td>9.4426</td>\n",
              "      <td>26.875</td>\n",
              "      <td>42.070</td>\n",
              "      <td>2706.2</td>\n",
              "      <td>74.771</td>\n",
              "      <td>120.42</td>\n",
              "      <td>0.33563</td>\n",
              "      <td>80.220</td>\n",
              "      <td>50.302</td>\n",
              "      <td>2635.5</td>\n",
              "      <td>25.244</td>\n",
              "      <td>50.071</td>\n",
              "      <td>3103.5</td>\n",
              "      <td>21.924</td>\n",
              "      <td>65.732</td>\n",
              "      <td>230.08</td>\n",
              "      <td>341.38</td>\n",
              "      <td>94.605</td>\n",
              "      <td>77.466</td>\n",
              "      <td>31.767</td>\n",
              "      <td>8.7694</td>\n",
              "      <td>26.095</td>\n",
              "      <td>6.8259</td>\n",
              "      <td>18.961</td>\n",
              "      <td>1.6292</td>\n",
              "      <td>32.985</td>\n",
              "      <td>13.742</td>\n",
              "      <td>23.897</td>\n",
              "      <td>1.3001</td>\n",
              "      <td>18.765</td>\n",
              "      <td>2.2602</td>\n",
              "      <td>4.8543</td>\n",
              "      <td>2.3900</td>\n",
              "      <td>0.017866</td>\n",
              "      <td>0.8357</td>\n",
              "      <td>0.098577</td>\n",
              "      <td>53.724</td>\n",
              "      <td>43.828</td>\n",
              "      <td>63.117</td>\n",
              "      <td>54.357</td>\n",
              "      <td>24.666</td>\n",
              "      <td>61.275</td>\n",
              "      <td>22.380</td>\n",
              "      <td>40.244</td>\n",
              "      <td>38.990</td>\n",
              "      <td>46.699</td>\n",
              "      <td>47.468</td>\n",
              "      <td>41.199</td>\n",
              "      <td>20.530</td>\n",
              "    </tr>\n",
              "    <tr>\n",
              "      <th>3</th>\n",
              "      <td>0.0</td>\n",
              "      <td>1.0</td>\n",
              "      <td>4</td>\n",
              "      <td>0.24977</td>\n",
              "      <td>3661.3</td>\n",
              "      <td>4512.1</td>\n",
              "      <td>9.4776</td>\n",
              "      <td>26.758</td>\n",
              "      <td>42.063</td>\n",
              "      <td>2707.2</td>\n",
              "      <td>75.224</td>\n",
              "      <td>120.39</td>\n",
              "      <td>0.33553</td>\n",
              "      <td>80.305</td>\n",
              "      <td>49.990</td>\n",
              "      <td>2635.6</td>\n",
              "      <td>23.268</td>\n",
              "      <td>50.435</td>\n",
              "      <td>3102.8</td>\n",
              "      <td>22.948</td>\n",
              "      <td>65.781</td>\n",
              "      <td>227.91</td>\n",
              "      <td>341.71</td>\n",
              "      <td>94.473</td>\n",
              "      <td>77.443</td>\n",
              "      <td>31.767</td>\n",
              "      <td>8.7694</td>\n",
              "      <td>26.095</td>\n",
              "      <td>6.8259</td>\n",
              "      <td>18.961</td>\n",
              "      <td>1.6292</td>\n",
              "      <td>32.985</td>\n",
              "      <td>13.742</td>\n",
              "      <td>23.897</td>\n",
              "      <td>1.3001</td>\n",
              "      <td>18.765</td>\n",
              "      <td>2.2602</td>\n",
              "      <td>4.8543</td>\n",
              "      <td>2.3900</td>\n",
              "      <td>0.017866</td>\n",
              "      <td>0.8357</td>\n",
              "      <td>0.098577</td>\n",
              "      <td>53.724</td>\n",
              "      <td>43.828</td>\n",
              "      <td>63.100</td>\n",
              "      <td>53.946</td>\n",
              "      <td>24.725</td>\n",
              "      <td>59.856</td>\n",
              "      <td>22.277</td>\n",
              "      <td>40.257</td>\n",
              "      <td>38.072</td>\n",
              "      <td>47.541</td>\n",
              "      <td>47.658</td>\n",
              "      <td>41.643</td>\n",
              "      <td>18.089</td>\n",
              "    </tr>\n",
              "    <tr>\n",
              "      <th>4</th>\n",
              "      <td>0.0</td>\n",
              "      <td>1.0</td>\n",
              "      <td>5</td>\n",
              "      <td>0.29405</td>\n",
              "      <td>3679.0</td>\n",
              "      <td>4497.0</td>\n",
              "      <td>9.3381</td>\n",
              "      <td>26.889</td>\n",
              "      <td>42.650</td>\n",
              "      <td>2705.1</td>\n",
              "      <td>75.388</td>\n",
              "      <td>120.39</td>\n",
              "      <td>0.32632</td>\n",
              "      <td>80.064</td>\n",
              "      <td>51.310</td>\n",
              "      <td>2632.4</td>\n",
              "      <td>26.099</td>\n",
              "      <td>50.480</td>\n",
              "      <td>3103.5</td>\n",
              "      <td>22.808</td>\n",
              "      <td>65.788</td>\n",
              "      <td>231.37</td>\n",
              "      <td>341.11</td>\n",
              "      <td>94.678</td>\n",
              "      <td>76.947</td>\n",
              "      <td>32.322</td>\n",
              "      <td>8.5821</td>\n",
              "      <td>26.769</td>\n",
              "      <td>6.8688</td>\n",
              "      <td>18.782</td>\n",
              "      <td>1.6396</td>\n",
              "      <td>33.071</td>\n",
              "      <td>13.834</td>\n",
              "      <td>24.228</td>\n",
              "      <td>1.0938</td>\n",
              "      <td>18.666</td>\n",
              "      <td>2.2193</td>\n",
              "      <td>4.8304</td>\n",
              "      <td>2.2416</td>\n",
              "      <td>0.017866</td>\n",
              "      <td>0.8357</td>\n",
              "      <td>0.098577</td>\n",
              "      <td>53.724</td>\n",
              "      <td>43.828</td>\n",
              "      <td>63.313</td>\n",
              "      <td>53.658</td>\n",
              "      <td>28.797</td>\n",
              "      <td>60.717</td>\n",
              "      <td>21.947</td>\n",
              "      <td>39.144</td>\n",
              "      <td>41.955</td>\n",
              "      <td>47.645</td>\n",
              "      <td>47.346</td>\n",
              "      <td>41.507</td>\n",
              "      <td>18.461</td>\n",
              "    </tr>\n",
              "  </tbody>\n",
              "</table>\n",
              "</div>"
            ],
            "text/plain": [
              "   faultNumber  simulationRun  sample  xmeas_1  ...   xmv_8   xmv_9  xmv_10  xmv_11\n",
              "0          0.0            1.0       1  0.25038  ...  47.757  47.510  41.258  18.447\n",
              "1          0.0            1.0       2  0.25109  ...  43.692  47.427  41.359  17.194\n",
              "2          0.0            1.0       3  0.25038  ...  46.699  47.468  41.199  20.530\n",
              "3          0.0            1.0       4  0.24977  ...  47.541  47.658  41.643  18.089\n",
              "4          0.0            1.0       5  0.29405  ...  47.645  47.346  41.507  18.461\n",
              "\n",
              "[5 rows x 55 columns]"
            ]
          },
          "metadata": {},
          "execution_count": 23
        }
      ]
    },
    {
      "cell_type": "code",
      "metadata": {
        "colab": {
          "base_uri": "https://localhost:8080/"
        },
        "id": "overall-friendship",
        "outputId": "9d344f2d-9d47-4eb7-c3b7-31980e9e8a94"
      },
      "source": [
        "tsdata.shape"
      ],
      "id": "overall-friendship",
      "execution_count": null,
      "outputs": [
        {
          "output_type": "execute_result",
          "data": {
            "text/plain": [
              "(250000, 55)"
            ]
          },
          "metadata": {},
          "execution_count": 24
        }
      ]
    },
    {
      "cell_type": "code",
      "metadata": {
        "colab": {
          "base_uri": "https://localhost:8080/"
        },
        "id": "C_Ylht5T4SIH",
        "outputId": "7337251a-90d6-4ee6-9864-622fd3ec0b26"
      },
      "source": [
        "tsdata.iloc[:100000, 3:].shape"
      ],
      "id": "C_Ylht5T4SIH",
      "execution_count": null,
      "outputs": [
        {
          "output_type": "execute_result",
          "data": {
            "text/plain": [
              "(100000, 52)"
            ]
          },
          "metadata": {},
          "execution_count": 15
        }
      ]
    },
    {
      "cell_type": "code",
      "metadata": {
        "id": "instructional-proceeding"
      },
      "source": [
        "scaler = StandardScaler()\n",
        "minmax = MinMaxScaler()\n",
        "\n",
        "#data = tsdata[['xmeas_1', 'xmeas_2', 'xmeas_3']][:100000]\n",
        "signal = tsdata.iloc[:100000, 3:] \n",
        "# TODO: провести обучение на полном датасете (сокращение обусловлено ускорением настройки кодировщиков)\n",
        "#scaled_data = scaler.fit_transform(signal)\n",
        "mm_signal = minmax.fit_transform(signal)"
      ],
      "id": "instructional-proceeding",
      "execution_count": 14,
      "outputs": []
    },
    {
      "cell_type": "code",
      "metadata": {
        "id": "civilian-awareness"
      },
      "source": [
        "batch_size = 16\n",
        "window = 64\n",
        "lag = 4\n",
        "\n",
        "def batch_sampler():\n",
        "    idx = [i * lag for i in range(len(data) // lag)]\n",
        "    batch_size = 16\n",
        "    curs = 0\n",
        "    \n",
        "    while curs < len(idx) - batch_size:\n",
        "        batch = idx[curs : curs + batch_size]\n",
        "        curs += batch_size\n",
        "        yield batch\n",
        "        \n",
        "\n",
        "dataset = TSDataset(mm_signal, window, 2)\n",
        "\n",
        "trainloader = torch.utils.data.DataLoader(dataset, batch_size=batch_size, shuffle=False)#, batch_sampler=batch_sampler())\n"
      ],
      "id": "civilian-awareness",
      "execution_count": 15,
      "outputs": []
    },
    {
      "cell_type": "code",
      "metadata": {
        "id": "veterinary-thousand"
      },
      "source": [
        "# Первый батч потребуется для конфигурирования архитектур сетей энкодера / декодера\n",
        "for batch in trainloader:\n",
        "    break"
      ],
      "id": "veterinary-thousand",
      "execution_count": 16,
      "outputs": []
    },
    {
      "cell_type": "code",
      "metadata": {
        "colab": {
          "base_uri": "https://localhost:8080/"
        },
        "id": "gI-RZno6sFOK",
        "outputId": "c48b1404-df2b-42f0-94f2-5e4a511c3329"
      },
      "source": [
        "batch[0]"
      ],
      "id": "gI-RZno6sFOK",
      "execution_count": null,
      "outputs": [
        {
          "output_type": "execute_result",
          "data": {
            "text/plain": [
              "tensor([[0.4871, 0.5535, 0.5502,  ..., 0.4486, 0.5512, 0.5018],\n",
              "        [0.4898, 0.5021, 0.6374,  ..., 0.4448, 0.5720, 0.4030],\n",
              "        [0.4871, 0.5053, 0.3885,  ..., 0.4467, 0.5390, 0.6661],\n",
              "        ...,\n",
              "        [0.4678, 0.2495, 0.3961,  ..., 0.6326, 0.4264, 0.3761],\n",
              "        [0.4266, 0.4120, 0.4630,  ..., 0.6232, 0.3523, 0.4931],\n",
              "        [0.4253, 0.3346, 0.3793,  ..., 0.6251, 0.2869, 0.3150]])"
            ]
          },
          "metadata": {},
          "execution_count": 33
        }
      ]
    },
    {
      "cell_type": "markdown",
      "metadata": {
        "id": "hearing-villa"
      },
      "source": [
        "#### Пример формирования TCN-модели"
      ],
      "id": "hearing-villa"
    },
    {
      "cell_type": "code",
      "metadata": {
        "id": "verified-queue"
      },
      "source": [
        "tcn = TCNModel(num_filters=20, input_chunk_length=window, output_chunk_length=50)"
      ],
      "id": "verified-queue",
      "execution_count": null,
      "outputs": []
    },
    {
      "cell_type": "code",
      "metadata": {
        "id": "authentic-gregory"
      },
      "source": [
        "tcn_net = tcn._create_model(batch)"
      ],
      "id": "authentic-gregory",
      "execution_count": null,
      "outputs": []
    },
    {
      "cell_type": "code",
      "metadata": {
        "id": "provincial-library"
      },
      "source": [
        "tcn_net = tcn_net.to(device)"
      ],
      "id": "provincial-library",
      "execution_count": null,
      "outputs": []
    },
    {
      "cell_type": "code",
      "metadata": {
        "scrolled": false,
        "id": "encouraging-landscape"
      },
      "source": [
        "tcn_output = tcn_net(batch)"
      ],
      "id": "encouraging-landscape",
      "execution_count": null,
      "outputs": []
    },
    {
      "cell_type": "code",
      "metadata": {
        "id": "final-spanking",
        "outputId": "104c5d23-baf0-4165-8b0a-f327a5f6004c"
      },
      "source": [
        "tcn_output.shape"
      ],
      "id": "final-spanking",
      "execution_count": null,
      "outputs": [
        {
          "data": {
            "text/plain": [
              "torch.Size([16, 64, 3])"
            ]
          },
          "execution_count": 14,
          "metadata": {},
          "output_type": "execute_result"
        }
      ]
    },
    {
      "cell_type": "code",
      "metadata": {
        "id": "young-culture",
        "outputId": "6c9ecded-afc8-4676-e6fa-92f91b17eb2a"
      },
      "source": [
        "batch.shape"
      ],
      "id": "young-culture",
      "execution_count": null,
      "outputs": [
        {
          "data": {
            "text/plain": [
              "torch.Size([16, 64, 3])"
            ]
          },
          "execution_count": 11,
          "metadata": {},
          "output_type": "execute_result"
        }
      ]
    },
    {
      "cell_type": "code",
      "metadata": {
        "id": "wrong-beach"
      },
      "source": [
        "device = torch.device('cuda' if torch.cuda.is_available() else 'cpu')"
      ],
      "id": "wrong-beach",
      "execution_count": null,
      "outputs": []
    },
    {
      "cell_type": "markdown",
      "metadata": {
        "id": "particular-easter"
      },
      "source": [
        "#### Обучение модели обычного автокодировщика"
      ],
      "id": "particular-easter"
    },
    {
      "cell_type": "code",
      "metadata": {
        "id": "authorized-surveillance",
        "outputId": "70587f64-250f-42ce-d665-1cf32925fc90"
      },
      "source": [
        "loss_vals = []\n",
        "n_epochs = 15\n",
        "autoencoder = Autoencoder(batch.shape)\n",
        "opt = Adam(autoencoder.parameters(), lr=0.0001)\n",
        "mse = MSELoss()\n",
        "\n",
        "for i in tqdm(range(n_epochs)):\n",
        "    for batch in trainloader:\n",
        "        opt.zero_grad()\n",
        "        \n",
        "        reconstruction = autoencoder(batch)\n",
        "        rec_loss = mse(reconstruction, batch)\n",
        "       \n",
        "        rec_loss.backward()\n",
        "        opt.step()\n",
        "\n",
        "    loss_vals.append(rec_loss.item())\n",
        "\n",
        "        #if i % 100 == 0:\n",
        "    plt.plot(loss_vals[-100:])\n",
        "    plt.title('{}/{} Negative ELBO loss: {:.4f}'.format(i+1, n_epochs, loss_vals[-1]))\n",
        "    plt.show();\n",
        "    clear_output(wait=True)"
      ],
      "id": "authorized-surveillance",
      "execution_count": null,
      "outputs": [
        {
          "data": {
            "image/png": "[encoded data removed]",
            "text/plain": [
              "<Figure size 432x288 with 1 Axes>"
            ]
          },
          "metadata": {
            "needs_background": "light"
          },
          "output_type": "display_data"
        }
      ]
    },
    {
      "cell_type": "markdown",
      "metadata": {
        "id": "romantic-strengthening"
      },
      "source": [
        "### Обучение вариационного автокодировщика на данных без аномалий"
      ],
      "id": "romantic-strengthening"
    },
    {
      "cell_type": "markdown",
      "metadata": {
        "id": "reflected-wings"
      },
      "source": [
        "#### (настройка гиперпараметров автокодировщика производится по эмбеддингам линейной модели)"
      ],
      "id": "reflected-wings"
    },
    {
      "cell_type": "code",
      "metadata": {
        "id": "OKYgg6J_TSOr",
        "outputId": "0d8c16d1-1abb-4bc5-8e22-866d8a14963c",
        "colab": {
          "base_uri": "https://localhost:8080/",
          "height": 281,
          "referenced_widgets": [
            "b6528c2b64cb440a97ac96b5e6fbf88b",
            "b53f78a3b17a44809a840ac734c4944e",
            "1dab38d5526f4d2fa3ea4ee4c303aa9f",
            "e597320fb019417788d00ca878b8302e",
            "9b1792eeca1a4f6886b18e3882fd7c0f",
            "4d670f1f1cdb41c38d730f120c51b7d3",
            "47510f9589884b0d970a4fc280af3e31",
            "0140f361688b4129940ae70cf35fb3fa",
            "d5ceaf1a2cce410c9cef46307c37b08b",
            "ed58eed18b3a40eeb2567485d9333c93",
            "bc16843d048e47fea1ead04c53d4a653"
          ]
        }
      },
      "source": [
        "kldivs = []\n",
        "mses = []\n",
        "loss_vals = []\n",
        "n_epochs = 40\n",
        "latent_dim = 16\n",
        "#tcn_net = TCNModel(num_filters=20, kernel_size=5, input_chunk_length=window, output_chunk_length=50)\n",
        "basic_emb = Basic_net(batch).to(device)\n",
        "embedded = basic_emb(batch)\n",
        "encoder = LinearEncoder(embedded)\n",
        "encoder = encoder.to(device)\n",
        "#encoder = TCNEncoder(batch, tcn_net)\n",
        "decoder = Decoder(batch.shape, latent_dim).to(device)\n",
        "#decoder = decoder.to(device)\n",
        "vae = VAE(encoder, decoder)\n",
        "vae = vae.to(device)\n",
        "criterion = nn.MSELoss()\n",
        "opt = Adam(vae.parameters(), lr=0.0001)\n",
        "mse = MSELoss()\n",
        "beta = 1\n",
        "\n",
        "for i in tqdm(range(n_epochs)):\n",
        "    for b_n, batch in enumerate(trainloader):\n",
        "        #beta += min(1, i / 20)\n",
        "        \n",
        "        opt.zero_grad()\n",
        "        \n",
        "        logits, mu, sigma = vae(batch)\n",
        "\n",
        "        l_rec = mse(logits, batch)\n",
        "        l_kl = beta * (1 + torch.log(sigma**2) - mu**2 - sigma**2) * 0.5 /  (batch.shape[0] * batch.shape[1] * batch.shape[2])\n",
        "        l_kl = l_kl.sum(1).mean()\n",
        "        loss = l_rec - l_kl\n",
        "        \n",
        "\n",
        "        loss.backward()\n",
        "        opt.step()\n",
        "\n",
        "    mses.append(l_rec)\n",
        "    kldivs.append(-l_kl)\n",
        "    loss_vals.append(loss.item())\n",
        "\n",
        "        #if i % 100 == 0:\n",
        "    plt.plot(loss_vals[-100:])\n",
        "    plt.title('{}/{} Negative ELBO loss: {:.4f}'.format(i+1, n_epochs, loss_vals[-1]))\n",
        "    plt.show();\n",
        "    clear_output(wait=True)"
      ],
      "id": "OKYgg6J_TSOr",
      "execution_count": 17,
      "outputs": [
        {
          "output_type": "display_data",
          "data": {
            "image/png": "[encoded data removed]",
            "text/plain": [
              "<Figure size 432x288 with 1 Axes>"
            ]
          },
          "metadata": {
            "needs_background": "light"
          }
        }
      ]
    },
    {
      "cell_type": "code",
      "metadata": {
        "colab": {
          "base_uri": "https://localhost:8080/",
          "height": 277,
          "referenced_widgets": [
            "ce2784db615f4627a1790bc8e674d724",
            "20af5a0d959c4136ba7abb162b891457",
            "d7d64b5db79f4b77a4185629d45be001",
            "295619e6ba6348ce8ff893cedc065035",
            "4b3cad90f0964529a28f181ca76f69c9",
            "2b648a4e3b3440fcb63e83a8920ac04e",
            "40aae2c816cd4b4cabd6076cfcc73f8b",
            "e105a30aaafc4c228baaae6a866336d2",
            "fc59d38809864b8b84cee4bb660326a2",
            "15278949baac41e3aa08a97959644718",
            "ac825794512c40b4a4a94f98826d5425"
          ]
        },
        "id": "Ooo7HMFekI2C",
        "outputId": "816257a4-7918-455d-cb71-24081d0da415"
      },
      "source": [
        "kldivs = []\n",
        "mses = []\n",
        "loss_vals = []\n",
        "n_epochs = 40\n",
        "latent_dim = 16\n",
        "\n",
        "#tcn_net = TCNModel(num_filters=20, kernel_size=5, input_chunk_length=window, output_chunk_length=50)\n",
        "#encoder = TCNEncoder(batch, tcn_net)\n",
        "\n",
        "encoder = TransformEncoder(batch).to(device)\n",
        "\n",
        "decoder = Decoder(batch.shape, latent_dim).to(device)\n",
        "\n",
        "vae = VAE(encoder, decoder)\n",
        "vae = vae.to(device)\n",
        "criterion = nn.MSELoss()\n",
        "opt = Adam(vae.parameters(), lr=0.0001)\n",
        "mse = MSELoss()\n",
        "beta = 1\n",
        "\n",
        "for i in tqdm(range(n_epochs)):\n",
        "    for b_n, batch in enumerate(trainloader):\n",
        "        #beta += min(1, i / 20)\n",
        "        #beta = 1.2\n",
        "        \n",
        "        opt.zero_grad()\n",
        "        \n",
        "        logits, mu, sigma = vae(batch)\n",
        "\n",
        "        l_rec = mse(logits, batch)\n",
        "        l_kl = beta * (1 + torch.log(sigma**2) - mu**2 - sigma**2) * 0.5 / (batch.shape[0] * batch.shape[1] * batch.shape[2])\n",
        "        l_kl = l_kl.sum(1).mean()\n",
        "        loss = l_rec - l_kl\n",
        "        \n",
        "        loss.backward()\n",
        "        opt.step()\n",
        "\n",
        "    mses.append(l_rec)\n",
        "    kldivs.append(-l_kl)\n",
        "    loss_vals.append(loss.item())\n",
        "\n",
        "        #if i % 100 == 0:\n",
        "    plt.plot(loss_vals[-100:])\n",
        "    plt.title('{}/{} Negative ELBO loss: {:.4f}'.format(i+1, n_epochs, loss_vals[-1]))\n",
        "    plt.show();\n",
        "    clear_output(wait=True)"
      ],
      "id": "Ooo7HMFekI2C",
      "execution_count": 20,
      "outputs": [
        {
          "output_type": "display_data",
          "data": {
            "image/png": "[encoded data removed]",
            "text/plain": [
              "<Figure size 432x288 with 1 Axes>"
            ]
          },
          "metadata": {}
        }
      ]
    },
    {
      "cell_type": "markdown",
      "metadata": {
        "id": "upper-cotton"
      },
      "source": [
        "#### Построение графиков reconstruction error и KL-divergence"
      ],
      "id": "upper-cotton"
    },
    {
      "cell_type": "code",
      "metadata": {
        "colab": {
          "base_uri": "https://localhost:8080/",
          "height": 363
        },
        "id": "unlikely-relative",
        "outputId": "2fb8772a-5315-4ac3-cd6f-fd1697fb72b8"
      },
      "source": [
        "plt.figure(figsize=(16, 5))\n",
        "plt.style.use('seaborn-whitegrid')\n",
        "\n",
        "plt.subplot(1, 2, 1)\n",
        "plt.title(\"KL-divergence\")\n",
        "plt.xlabel(\"epochs\")\n",
        "plt.plot(kldivs)\n",
        "\n",
        "plt.subplot(1, 2, 2)\n",
        "plt.plot(mses)\n",
        "plt.title(\"MSE reconstruction loss\")\n",
        "plt.xlabel(\"epochs\")\n"
      ],
      "id": "unlikely-relative",
      "execution_count": 21,
      "outputs": [
        {
          "output_type": "execute_result",
          "data": {
            "text/plain": [
              "Text(0.5, 0, 'epochs')"
            ]
          },
          "metadata": {},
          "execution_count": 21
        },
        {
          "output_type": "display_data",
          "data": {
            "image/png": "[encoded data removed]",
            "text/plain": [
              "<Figure size 1152x360 with 2 Axes>"
            ]
          },
          "metadata": {}
        }
      ]
    },
    {
      "cell_type": "code",
      "metadata": {
        "id": "9XY2m1HeZ4JZ"
      },
      "source": [
        "torch.save(vae.state_dict(), 'trans_mlp_1.pkl')"
      ],
      "id": "9XY2m1HeZ4JZ",
      "execution_count": 22,
      "outputs": []
    },
    {
      "cell_type": "code",
      "metadata": {
        "id": "operating-examination"
      },
      "source": [
        "# TODO: обучить VAE на базе TCN, подобрать архитектуру TCN и гиперпараметры"
      ],
      "id": "operating-examination",
      "execution_count": null,
      "outputs": []
    },
    {
      "cell_type": "code",
      "metadata": {
        "id": "material-portland"
      },
      "source": [
        "# TODO: обучить VAE на базе трансформеров, подобрать архитектуру и гиперпараметры"
      ],
      "id": "material-portland",
      "execution_count": null,
      "outputs": []
    },
    {
      "cell_type": "markdown",
      "metadata": {
        "id": "essential-mileage"
      },
      "source": [
        "### Тестирование на данных с аномалиями"
      ],
      "id": "essential-mileage"
    },
    {
      "cell_type": "code",
      "metadata": {
        "id": "separated-romania"
      },
      "source": [
        "test_data = pyreadr.read_r('data/TEP_Faulty_Training.RData')"
      ],
      "id": "separated-romania",
      "execution_count": null,
      "outputs": []
    },
    {
      "cell_type": "code",
      "metadata": {
        "id": "legitimate-lotus"
      },
      "source": [
        "for items in test_data.items():\n",
        "    testdata = items[1]"
      ],
      "id": "legitimate-lotus",
      "execution_count": null,
      "outputs": []
    },
    {
      "cell_type": "code",
      "metadata": {
        "id": "based-religious",
        "outputId": "dc45b7c1-477d-4200-c6b5-c9193975d12a"
      },
      "source": [
        "testdata.head()"
      ],
      "id": "based-religious",
      "execution_count": null,
      "outputs": [
        {
          "data": {
            "text/html": [
              "<div>\n",
              "<style scoped>\n",
              "    .dataframe tbody tr th:only-of-type {\n",
              "        vertical-align: middle;\n",
              "    }\n",
              "\n",
              "    .dataframe tbody tr th {\n",
              "        vertical-align: top;\n",
              "    }\n",
              "\n",
              "    .dataframe thead th {\n",
              "        text-align: right;\n",
              "    }\n",
              "</style>\n",
              "<table border=\"1\" class=\"dataframe\">\n",
              "  <thead>\n",
              "    <tr style=\"text-align: right;\">\n",
              "      <th></th>\n",
              "      <th>faultNumber</th>\n",
              "      <th>simulationRun</th>\n",
              "      <th>sample</th>\n",
              "      <th>xmeas_1</th>\n",
              "      <th>xmeas_2</th>\n",
              "      <th>xmeas_3</th>\n",
              "      <th>xmeas_4</th>\n",
              "      <th>xmeas_5</th>\n",
              "      <th>xmeas_6</th>\n",
              "      <th>xmeas_7</th>\n",
              "      <th>...</th>\n",
              "      <th>xmv_2</th>\n",
              "      <th>xmv_3</th>\n",
              "      <th>xmv_4</th>\n",
              "      <th>xmv_5</th>\n",
              "      <th>xmv_6</th>\n",
              "      <th>xmv_7</th>\n",
              "      <th>xmv_8</th>\n",
              "      <th>xmv_9</th>\n",
              "      <th>xmv_10</th>\n",
              "      <th>xmv_11</th>\n",
              "    </tr>\n",
              "  </thead>\n",
              "  <tbody>\n",
              "    <tr>\n",
              "      <th>0</th>\n",
              "      <td>1</td>\n",
              "      <td>1.0</td>\n",
              "      <td>1</td>\n",
              "      <td>0.25038</td>\n",
              "      <td>3674.0</td>\n",
              "      <td>4529.0</td>\n",
              "      <td>9.2320</td>\n",
              "      <td>26.889</td>\n",
              "      <td>42.402</td>\n",
              "      <td>2704.3</td>\n",
              "      <td>...</td>\n",
              "      <td>53.744</td>\n",
              "      <td>24.657</td>\n",
              "      <td>62.544</td>\n",
              "      <td>22.137</td>\n",
              "      <td>39.935</td>\n",
              "      <td>42.323</td>\n",
              "      <td>47.757</td>\n",
              "      <td>47.510</td>\n",
              "      <td>41.258</td>\n",
              "      <td>18.447</td>\n",
              "    </tr>\n",
              "    <tr>\n",
              "      <th>1</th>\n",
              "      <td>1</td>\n",
              "      <td>1.0</td>\n",
              "      <td>2</td>\n",
              "      <td>0.25109</td>\n",
              "      <td>3659.4</td>\n",
              "      <td>4556.6</td>\n",
              "      <td>9.4264</td>\n",
              "      <td>26.721</td>\n",
              "      <td>42.576</td>\n",
              "      <td>2705.0</td>\n",
              "      <td>...</td>\n",
              "      <td>53.414</td>\n",
              "      <td>24.588</td>\n",
              "      <td>59.259</td>\n",
              "      <td>22.084</td>\n",
              "      <td>40.176</td>\n",
              "      <td>38.554</td>\n",
              "      <td>43.692</td>\n",
              "      <td>47.427</td>\n",
              "      <td>41.359</td>\n",
              "      <td>17.194</td>\n",
              "    </tr>\n",
              "    <tr>\n",
              "      <th>2</th>\n",
              "      <td>1</td>\n",
              "      <td>1.0</td>\n",
              "      <td>3</td>\n",
              "      <td>0.25038</td>\n",
              "      <td>3660.3</td>\n",
              "      <td>4477.8</td>\n",
              "      <td>9.4426</td>\n",
              "      <td>26.875</td>\n",
              "      <td>42.070</td>\n",
              "      <td>2706.2</td>\n",
              "      <td>...</td>\n",
              "      <td>54.357</td>\n",
              "      <td>24.666</td>\n",
              "      <td>61.275</td>\n",
              "      <td>22.380</td>\n",
              "      <td>40.244</td>\n",
              "      <td>38.990</td>\n",
              "      <td>46.699</td>\n",
              "      <td>47.468</td>\n",
              "      <td>41.199</td>\n",
              "      <td>20.530</td>\n",
              "    </tr>\n",
              "    <tr>\n",
              "      <th>3</th>\n",
              "      <td>1</td>\n",
              "      <td>1.0</td>\n",
              "      <td>4</td>\n",
              "      <td>0.24977</td>\n",
              "      <td>3661.3</td>\n",
              "      <td>4512.1</td>\n",
              "      <td>9.4776</td>\n",
              "      <td>26.758</td>\n",
              "      <td>42.063</td>\n",
              "      <td>2707.2</td>\n",
              "      <td>...</td>\n",
              "      <td>53.946</td>\n",
              "      <td>24.725</td>\n",
              "      <td>59.856</td>\n",
              "      <td>22.277</td>\n",
              "      <td>40.257</td>\n",
              "      <td>38.072</td>\n",
              "      <td>47.541</td>\n",
              "      <td>47.658</td>\n",
              "      <td>41.643</td>\n",
              "      <td>18.089</td>\n",
              "    </tr>\n",
              "    <tr>\n",
              "      <th>4</th>\n",
              "      <td>1</td>\n",
              "      <td>1.0</td>\n",
              "      <td>5</td>\n",
              "      <td>0.29405</td>\n",
              "      <td>3679.0</td>\n",
              "      <td>4497.0</td>\n",
              "      <td>9.3381</td>\n",
              "      <td>26.889</td>\n",
              "      <td>42.650</td>\n",
              "      <td>2705.1</td>\n",
              "      <td>...</td>\n",
              "      <td>53.658</td>\n",
              "      <td>28.797</td>\n",
              "      <td>60.717</td>\n",
              "      <td>21.947</td>\n",
              "      <td>39.144</td>\n",
              "      <td>41.955</td>\n",
              "      <td>47.645</td>\n",
              "      <td>47.346</td>\n",
              "      <td>41.507</td>\n",
              "      <td>18.461</td>\n",
              "    </tr>\n",
              "  </tbody>\n",
              "</table>\n",
              "<p>5 rows × 55 columns</p>\n",
              "</div>"
            ],
            "text/plain": [
              "   faultNumber  simulationRun  sample  xmeas_1  xmeas_2  xmeas_3  xmeas_4  \\\n",
              "0            1            1.0       1  0.25038   3674.0   4529.0   9.2320   \n",
              "1            1            1.0       2  0.25109   3659.4   4556.6   9.4264   \n",
              "2            1            1.0       3  0.25038   3660.3   4477.8   9.4426   \n",
              "3            1            1.0       4  0.24977   3661.3   4512.1   9.4776   \n",
              "4            1            1.0       5  0.29405   3679.0   4497.0   9.3381   \n",
              "\n",
              "   xmeas_5  xmeas_6  xmeas_7  ...   xmv_2   xmv_3   xmv_4   xmv_5   xmv_6  \\\n",
              "0   26.889   42.402   2704.3  ...  53.744  24.657  62.544  22.137  39.935   \n",
              "1   26.721   42.576   2705.0  ...  53.414  24.588  59.259  22.084  40.176   \n",
              "2   26.875   42.070   2706.2  ...  54.357  24.666  61.275  22.380  40.244   \n",
              "3   26.758   42.063   2707.2  ...  53.946  24.725  59.856  22.277  40.257   \n",
              "4   26.889   42.650   2705.1  ...  53.658  28.797  60.717  21.947  39.144   \n",
              "\n",
              "    xmv_7   xmv_8   xmv_9  xmv_10  xmv_11  \n",
              "0  42.323  47.757  47.510  41.258  18.447  \n",
              "1  38.554  43.692  47.427  41.359  17.194  \n",
              "2  38.990  46.699  47.468  41.199  20.530  \n",
              "3  38.072  47.541  47.658  41.643  18.089  \n",
              "4  41.955  47.645  47.346  41.507  18.461  \n",
              "\n",
              "[5 rows x 55 columns]"
            ]
          },
          "execution_count": 107,
          "metadata": {},
          "output_type": "execute_result"
        }
      ]
    },
    {
      "cell_type": "code",
      "metadata": {
        "id": "divine-brooks",
        "outputId": "69796aca-fda0-47a1-9870-4cf4bda204f1"
      },
      "source": [
        "testdata.shape"
      ],
      "id": "divine-brooks",
      "execution_count": null,
      "outputs": [
        {
          "data": {
            "text/plain": [
              "(5000000, 55)"
            ]
          },
          "execution_count": 109,
          "metadata": {},
          "output_type": "execute_result"
        }
      ]
    },
    {
      "cell_type": "code",
      "metadata": {
        "id": "bright-marketing",
        "outputId": "fdde09b8-578e-4241-8498-4000dbd9df9c"
      },
      "source": [
        "# Количество типов анломалий: \n",
        "testdata[\"faultNumber\"].nunique()"
      ],
      "id": "bright-marketing",
      "execution_count": null,
      "outputs": [
        {
          "data": {
            "text/plain": [
              "20"
            ]
          },
          "execution_count": 132,
          "metadata": {},
          "output_type": "execute_result"
        }
      ]
    },
    {
      "cell_type": "code",
      "metadata": {
        "id": "devoted-borough"
      },
      "source": [
        "data = testdata[['xmeas_1', 'xmeas_2', 'xmeas_3']].iloc[:100000] ### !!!\n",
        "# TODO: провести тестирование на полном датасете (сокращение обусловлено ускорением настройки кодировщиков)\n",
        "scaled_test = scaler.fit_transform(data)"
      ],
      "id": "devoted-borough",
      "execution_count": null,
      "outputs": []
    },
    {
      "cell_type": "code",
      "metadata": {
        "id": "general-disney"
      },
      "source": [
        "dataset = TSDataset(scaled_test, window, 2)\n",
        "\n",
        "testloader = torch.utils.data.DataLoader(dataset, batch_size=16, shuffle=False)"
      ],
      "id": "general-disney",
      "execution_count": null,
      "outputs": []
    },
    {
      "cell_type": "code",
      "metadata": {
        "id": "individual-cartoon"
      },
      "source": [
        "vae = VAE(encoder, decoder)"
      ],
      "id": "individual-cartoon",
      "execution_count": null,
      "outputs": []
    },
    {
      "cell_type": "markdown",
      "metadata": {
        "id": "racial-height"
      },
      "source": [
        "### Выявление аномалий через вычисление ошибки реконструкции сигнала"
      ],
      "id": "racial-height"
    },
    {
      "cell_type": "code",
      "metadata": {
        "id": "expected-annotation"
      },
      "source": [
        "def reconstruction_loss(reconstructed_batch, batch, mu, sigma):\n",
        "    l_rec = mse(reconstructed_batch, batch)\n",
        "    l_kl = beta * (1 + torch.log(sigma**2) - mu**2 - sigma**2) * 0.5 / (batch.shape[1] * batch.shape[2])\n",
        "    l_kl = l_kl.sum(1).mean()\n",
        "    loss = l_rec - l_kl\n",
        "    \n",
        "    return loss"
      ],
      "id": "expected-annotation",
      "execution_count": null,
      "outputs": []
    },
    {
      "cell_type": "code",
      "metadata": {
        "id": "computational-artwork"
      },
      "source": [
        "vae.eval()\n",
        "test_loss = []\n",
        "\n",
        "for test_batch in testloader:\n",
        "    \n",
        "    with torch.no_grad():\n",
        "        reconstructed_batch, mu, sigma = vae(test_batch)\n",
        "        loss = reconstruction_loss(reconstructed_batch, test_batch, mu, sigma).item()\n",
        "    \n",
        "    test_loss.append(loss)"
      ],
      "id": "computational-artwork",
      "execution_count": null,
      "outputs": []
    },
    {
      "cell_type": "markdown",
      "metadata": {
        "id": "local-zealand"
      },
      "source": [
        "#### Визуализация обнаружения аномалий"
      ],
      "id": "local-zealand"
    },
    {
      "cell_type": "code",
      "metadata": {
        "id": "brilliant-silly",
        "outputId": "62adfff3-e21a-4844-c4cf-4a99c5e54ce4"
      },
      "source": [
        "# Уровень ошибки неаномального поведения:\n",
        "healthy_loss = mses[-1] + kldivs[-1]\n",
        "healthy_loss.item()"
      ],
      "id": "brilliant-silly",
      "execution_count": null,
      "outputs": [
        {
          "data": {
            "text/plain": [
              "0.6664955019950867"
            ]
          },
          "execution_count": 137,
          "metadata": {},
          "output_type": "execute_result"
        }
      ]
    },
    {
      "cell_type": "code",
      "metadata": {
        "id": "imposed-shipping",
        "outputId": "abc863c1-e8c0-4dad-92cb-4df1cb2caed4"
      },
      "source": [
        "plt.figure(figsize=(16, 5))\n",
        "plt.plot(test_loss)\n",
        "\n",
        "healthy_level = healthy_loss.item() * np.ones((len(test_loss), ))\n",
        "plt.plot(healthy_level, color='red')"
      ],
      "id": "imposed-shipping",
      "execution_count": null,
      "outputs": [
        {
          "data": {
            "text/plain": [
              "[<matplotlib.lines.Line2D at 0x1e380bbec18>]"
            ]
          },
          "execution_count": 144,
          "metadata": {},
          "output_type": "execute_result"
        },
        {
          "data": {
            "image/png": "[encoded data removed]",
            "text/plain": [
              "<Figure size 1152x360 with 1 Axes>"
            ]
          },
          "metadata": {},
          "output_type": "display_data"
        }
      ]
    },
    {
      "cell_type": "code",
      "metadata": {
        "id": "compatible-denmark"
      },
      "source": [
        "# TODO: опробовать метод подсчета через подсчет likelihood\n",
        "# TODO: классификация аномалий (многоклассовая)\n",
        "# TODO: подсчет метрик recall и precision"
      ],
      "id": "compatible-denmark",
      "execution_count": null,
      "outputs": []
    },
    {
      "cell_type": "code",
      "metadata": {
        "id": "interim-appendix"
      },
      "source": [
        ""
      ],
      "id": "interim-appendix",
      "execution_count": null,
      "outputs": []
    }
  ]
}