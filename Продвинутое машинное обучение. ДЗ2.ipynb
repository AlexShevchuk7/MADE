{
 "cells": [
  {
   "cell_type": "code",
   "execution_count": 16,
   "metadata": {},
   "outputs": [],
   "source": [
    "import pandas as pd\n",
    "import numpy as np\n",
    "import pickle\n",
    "\n",
    "import warnings\n",
    "warnings.filterwarnings('ignore')\n",
    "from collections import OrderedDict\n",
    "from time import time\n",
    "from tqdm import tqdm_notebook\n",
    "\n",
    "from scipy.stats import spearmanr, kendalltau\n",
    "from scipy import linalg\n",
    "\n",
    "from sklearn.linear_model import LinearRegression\n",
    "from sklearn.linear_model import LogisticRegression\n",
    "from sklearn.mixture import GaussianMixture as GMM\n",
    "\n",
    "np.set_printoptions(precision=4, suppress=True)"
   ]
  },
  {
   "cell_type": "markdown",
   "metadata": {},
   "source": [
    "## Спортивное \"Что? Где? Когда?\": данные"
   ]
  },
  {
   "cell_type": "code",
   "execution_count": 90,
   "metadata": {},
   "outputs": [],
   "source": [
    "import json, pickle\n",
    "\n",
    "tournaments = pickle.load(open('tournaments.pkl', 'rb'))\n",
    "results = pickle.load(open('chgk/results.pkl', 'rb'))\n",
    "players = pickle.load(open('players.pkl', 'rb'))"
   ]
  },
  {
   "cell_type": "markdown",
   "metadata": {},
   "source": [
    "#### 1. Считывание и анализ данных"
   ]
  },
  {
   "cell_type": "markdown",
   "metadata": {},
   "source": [
    "План действий: \n",
    "- выбор данных за 2019 и 2020 гг.\n",
    "- построение датасета для обучения baseline-модели\n",
    "  - колонки: ['Start_rating', 'Answered', 'Failed', 'Final_rating'], где \\\n",
    "    первая и последняя колонки отвечают за рейтинг из первого и последнего соревнований 2019г., \\\n",
    "    а вторая и третья за количество отвеченных и неотвеченных вопросов \\\n",
    "- построение датасета для обучения ЕМ-модели \n",
    "  - колонки: ['round', 'team', 'mask'], где \\\n",
    "  round - номер турнира \\\n",
    "  team - id участников команды \\\n",
    "  mask - список ответов"
   ]
  },
  {
   "cell_type": "code",
   "execution_count": 3,
   "metadata": {},
   "outputs": [],
   "source": [
    "tournaments2019 = [v['id'] for k, v in tournaments.items() if '2019' in v['dateStart']]\n",
    "tournaments2020 = [v['id'] for k, v in tournaments.items() if '2020' in v['dateStart']]"
   ]
  },
  {
   "cell_type": "code",
   "execution_count": 4,
   "metadata": {},
   "outputs": [
    {
     "data": {
      "text/plain": [
       "{'id': 4772,\n",
       " 'name': 'Синхрон северных стран. Зимний выпуск',\n",
       " 'dateStart': '2019-01-05T19:00:00+03:00',\n",
       " 'dateEnd': '2019-01-09T19:00:00+03:00',\n",
       " 'type': {'id': 3, 'name': 'Синхрон'},\n",
       " 'season': '/seasons/52',\n",
       " 'orgcommittee': [{'id': 28379,\n",
       "   'name': 'Константин',\n",
       "   'patronymic': 'Владимирович',\n",
       "   'surname': 'Сахаров'}],\n",
       " 'synchData': {'dateRequestsAllowedTo': '2019-01-09T23:59:59+03:00',\n",
       "  'resultFixesTo': '2019-01-19T23:59:59+03:00',\n",
       "  'resultsRecapsTo': '2019-01-11T23:59:59+03:00',\n",
       "  'allowAppealCancel': True,\n",
       "  'allowNarratorErrorAppeal': False,\n",
       "  'dateArchivedAt': '2019-01-26T23:59:59+03:00',\n",
       "  'dateDownloadQuestionsFrom': '2019-01-04T00:00:00+03:00',\n",
       "  'dateDownloadQuestionsTo': '2019-01-09T19:00:00+03:00',\n",
       "  'hideQuestionsTo': '2019-01-09T23:59:59+03:00',\n",
       "  'hideResultsTo': '2019-01-09T23:59:59+03:00',\n",
       "  'allVerdictsDone': None,\n",
       "  'instantControversial': True},\n",
       " 'questionQty': {'1': 12, '2': 12, '3': 12}}"
      ]
     },
     "execution_count": 4,
     "metadata": {},
     "output_type": "execute_result"
    }
   ],
   "source": [
    "tournaments[4772]"
   ]
  },
  {
   "cell_type": "code",
   "execution_count": 19,
   "metadata": {},
   "outputs": [
    {
     "data": {
      "text/plain": [
       "('010111101111010110001000111101011010111011000111111111110011110100001010101111111111011110',\n",
       " [(28751, 14230),\n",
       "  (30152, 14230),\n",
       "  (30270, 14230),\n",
       "  (27822, 14168),\n",
       "  (27403, 14021),\n",
       "  (4270, 13945)])"
      ]
     },
     "execution_count": 19,
     "metadata": {},
     "output_type": "execute_result"
    }
   ],
   "source": [
    "results[5465][0]['mask'], [(p['player']['id'], p['rating']) for p in results[5465][0]['teamMembers']]"
   ]
  },
  {
   "cell_type": "markdown",
   "metadata": {},
   "source": [
    "***Преобразование в датасет для обучения baseline-модели***"
   ]
  },
  {
   "cell_type": "code",
   "execution_count": 13,
   "metadata": {},
   "outputs": [],
   "source": [
    "from itertools import chain"
   ]
  },
  {
   "cell_type": "code",
   "execution_count": 22,
   "metadata": {},
   "outputs": [],
   "source": [
    "results2019 = OrderedDict()\n",
    "results2019 = {k: v for k, v in results.items() if k in tournaments2019}\n",
    "results2020 = OrderedDict()\n",
    "results2020 = {k: v for k, v in results.items() if k in tournaments2020}"
   ]
  },
  {
   "cell_type": "code",
   "execution_count": 27,
   "metadata": {},
   "outputs": [],
   "source": [
    "with open('results2019.pkl', 'wb') as f:\n",
    "    pickle.dump(results2019, f)\n",
    "    \n",
    "with open('results2020.pkl', 'wb') as f:\n",
    "    pickle.dump(results2020, f)"
   ]
  },
  {
   "cell_type": "markdown",
   "metadata": {},
   "source": [
    "***Построение датасета для обучения ЕМ-модели***"
   ]
  },
  {
   "cell_type": "code",
   "execution_count": null,
   "metadata": {},
   "outputs": [],
   "source": [
    "results2019 = pickle.load(open('results2019.pkl', 'rb'))\n",
    "results2020 = pickle.load(open('results2020.pkl', 'rb'))"
   ]
  },
  {
   "cell_type": "code",
   "execution_count": 12,
   "metadata": {},
   "outputs": [],
   "source": [
    "players_results2019 = pd.DataFrame(index=range(1, 250000), columns=['StartRating', \n",
    "                                                                    'Answered', \n",
    "                                                                    'Failed', \n",
    "                                                                    'FinalRating'])\n",
    "players_results2019['Answered'] = 0\n",
    "players_results2019['Failed'] = 0\n",
    "\n",
    "players_results2020 = pd.DataFrame(index=range(1, 250000), columns=['StartRating', \n",
    "                                                                    'Answered', \n",
    "                                                                    'Failed', \n",
    "                                                                    'FinalRating'])\n",
    "players_results2020['Answered'] = 0\n",
    "players_results2020['Failed'] = 0"
   ]
  },
  {
   "cell_type": "code",
   "execution_count": 15,
   "metadata": {},
   "outputs": [
    {
     "data": {
      "application/vnd.jupyter.widget-view+json": {
       "model_id": "bff365032eba4e43af6080f11e46d1f1",
       "version_major": 2,
       "version_minor": 0
      },
      "text/plain": [
       "  0%|          | 0/687 [00:00<?, ?it/s]"
      ]
     },
     "metadata": {},
     "output_type": "display_data"
    }
   ],
   "source": [
    "for key, result in tqdm_notebook(results2019.items()):\n",
    "    for team in result:\n",
    "        for p in team['teamMembers']:\n",
    "            if 'questionsTotal' in team.keys() and 'mask' in team.keys():\n",
    "                if team['mask'] is not None:\n",
    "                    if pd.isnull(players_results2019['StartRating'].iloc[p['player']['id'] - 1]):\n",
    "                        players_results2019['StartRating'].iloc[p['player']['id'] - 1] = p['rating']\n",
    "\n",
    "                    players_results2019['FinalRating'].iloc[p['player']['id'] - 1] = p['rating']\n",
    "                    \n",
    "                    players_results2019['Answered'].iloc[p['player']['id'] - 1] += team['questionsTotal']\n",
    "                    players_results2019['Failed'].iloc[p['player']['id'] - 1] += team['questionsTotal'] - len(team['mask'])"
   ]
  },
  {
   "cell_type": "code",
   "execution_count": 16,
   "metadata": {},
   "outputs": [
    {
     "data": {
      "application/vnd.jupyter.widget-view+json": {
       "model_id": "5bb556d6f7c34f3f93e81ef5a0557928",
       "version_major": 2,
       "version_minor": 0
      },
      "text/plain": [
       "  0%|          | 0/418 [00:00<?, ?it/s]"
      ]
     },
     "metadata": {},
     "output_type": "display_data"
    }
   ],
   "source": [
    "for key, result in tqdm_notebook(results2020.items()):\n",
    "    for team in result:\n",
    "        for p in team['teamMembers']:\n",
    "            if 'questionsTotal' in team.keys() and 'mask' in team.keys():\n",
    "                if team['mask'] is not None:\n",
    "                    if pd.isnull(players_results2020['StartRating'].iloc[p['player']['id'] - 1]):\n",
    "                        players_results2020['StartRating'].iloc[p['player']['id'] - 1] = p['rating']\n",
    "\n",
    "                    players_results2020['FinalRating'].iloc[p['player']['id'] - 1] = p['rating']\n",
    "                    \n",
    "                    players_results2020['Answered'].iloc[p['player']['id'] - 1] += team['questionsTotal']\n",
    "                    players_results2020['Failed'].iloc[p['player']['id'] - 1] += team['questionsTotal'] - len(team['mask'])"
   ]
  },
  {
   "cell_type": "code",
   "execution_count": 17,
   "metadata": {},
   "outputs": [],
   "source": [
    "players_results2019.dropna(how='any', inplace=True)\n",
    "players_results2020.dropna(how='any', inplace=True)"
   ]
  },
  {
   "cell_type": "code",
   "execution_count": 18,
   "metadata": {},
   "outputs": [],
   "source": [
    "with open('players_results2019.pkl', 'wb') as f:\n",
    "    pickle.dump(players_results2019, f)\n",
    "    \n",
    "with open('players_results2020.pkl', 'wb') as f:\n",
    "    pickle.dump(players_results2020, f)"
   ]
  },
  {
   "cell_type": "code",
   "execution_count": 2,
   "metadata": {},
   "outputs": [],
   "source": [
    "with open('players_results2019.pkl', 'rb') as f:\n",
    "    players_results2019 = pickle.load(f)\n",
    "    \n",
    "with open('players_results2020.pkl', 'rb') as f:\n",
    "    players_results2020 = pickle.load(f)"
   ]
  },
  {
   "cell_type": "code",
   "execution_count": 11,
   "metadata": {},
   "outputs": [
    {
     "data": {
      "text/html": [
       "<div>\n",
       "<style scoped>\n",
       "    .dataframe tbody tr th:only-of-type {\n",
       "        vertical-align: middle;\n",
       "    }\n",
       "\n",
       "    .dataframe tbody tr th {\n",
       "        vertical-align: top;\n",
       "    }\n",
       "\n",
       "    .dataframe thead th {\n",
       "        text-align: right;\n",
       "    }\n",
       "</style>\n",
       "<table border=\"1\" class=\"dataframe\">\n",
       "  <thead>\n",
       "    <tr style=\"text-align: right;\">\n",
       "      <th></th>\n",
       "      <th>StartRating</th>\n",
       "      <th>Answered</th>\n",
       "      <th>Failed</th>\n",
       "      <th>FinalRating</th>\n",
       "    </tr>\n",
       "  </thead>\n",
       "  <tbody>\n",
       "    <tr>\n",
       "      <th>15</th>\n",
       "      <td>5077</td>\n",
       "      <td>202</td>\n",
       "      <td>-360</td>\n",
       "      <td>7841</td>\n",
       "    </tr>\n",
       "    <tr>\n",
       "      <th>16</th>\n",
       "      <td>4247</td>\n",
       "      <td>129</td>\n",
       "      <td>-105</td>\n",
       "      <td>3301</td>\n",
       "    </tr>\n",
       "    <tr>\n",
       "      <th>23</th>\n",
       "      <td>791</td>\n",
       "      <td>18</td>\n",
       "      <td>-18</td>\n",
       "      <td>791</td>\n",
       "    </tr>\n",
       "    <tr>\n",
       "      <th>31</th>\n",
       "      <td>4340</td>\n",
       "      <td>464</td>\n",
       "      <td>-586</td>\n",
       "      <td>5752</td>\n",
       "    </tr>\n",
       "    <tr>\n",
       "      <th>35</th>\n",
       "      <td>5742</td>\n",
       "      <td>480</td>\n",
       "      <td>-447</td>\n",
       "      <td>6717</td>\n",
       "    </tr>\n",
       "  </tbody>\n",
       "</table>\n",
       "</div>"
      ],
      "text/plain": [
       "   StartRating  Answered  Failed FinalRating\n",
       "15        5077       202    -360        7841\n",
       "16        4247       129    -105        3301\n",
       "23         791        18     -18         791\n",
       "31        4340       464    -586        5752\n",
       "35        5742       480    -447        6717"
      ]
     },
     "execution_count": 11,
     "metadata": {},
     "output_type": "execute_result"
    }
   ],
   "source": [
    "players_results2019.head()"
   ]
  },
  {
   "cell_type": "markdown",
   "metadata": {},
   "source": [
    "***3. Обучение baseline-модели***\n",
    "- обучение при помощи линейной регрессии\n",
    "- признаковые переменные: начальный рейтинг, количество отвеченных, количество неотвеченных вопросов\n",
    "- целевая переменная - конечный рейтинг игрока в 2019г."
   ]
  },
  {
   "cell_type": "code",
   "execution_count": 21,
   "metadata": {},
   "outputs": [
    {
     "data": {
      "text/plain": [
       "LinearRegression(copy_X=True, fit_intercept=True, n_jobs=None, normalize=False)"
      ]
     },
     "execution_count": 21,
     "metadata": {},
     "output_type": "execute_result"
    }
   ],
   "source": [
    "lin_reg = LinearRegression()\n",
    "lin_reg.fit(players_results2019[['StartRating', 'Answered', 'Failed']], players_results2019['FinalRating'])\n",
    "predicted = lin_reg.predict(players_results2020[['StartRating', 'Answered', 'Failed']])"
   ]
  },
  {
   "cell_type": "markdown",
   "metadata": {},
   "source": [
    "***Результаты работы baseline-модели***"
   ]
  },
  {
   "cell_type": "code",
   "execution_count": 29,
   "metadata": {},
   "outputs": [
    {
     "data": {
      "text/plain": [
       "SpearmanrResult(correlation=0.7621661009238474, pvalue=0.0)"
      ]
     },
     "execution_count": 29,
     "metadata": {},
     "output_type": "execute_result"
    }
   ],
   "source": [
    "# Корреляция Спирмена\n",
    "spearmanr(players_results2020['FinalRating'], predicted)"
   ]
  },
  {
   "cell_type": "code",
   "execution_count": 30,
   "metadata": {},
   "outputs": [
    {
     "data": {
      "text/plain": [
       "KendalltauResult(correlation=0.7145138386446295, pvalue=0.0)"
      ]
     },
     "execution_count": 30,
     "metadata": {},
     "output_type": "execute_result"
    }
   ],
   "source": [
    "# Корреляция Кендалла\n",
    "kendalltau(players_results2020['FinalRating'], predicted)"
   ]
  },
  {
   "cell_type": "markdown",
   "metadata": {},
   "source": [
    "***Построение датасетов для обучения ЕМ-модели***\n",
    "Вид датасета: \n",
    " - колонки: ['round', 'team', 'mask'], где \\\n",
    "  round - номер турнира \\\n",
    "  team - id участников команды \\\n",
    "  mask - список ответов"
   ]
  },
  {
   "cell_type": "code",
   "execution_count": 13,
   "metadata": {},
   "outputs": [],
   "source": [
    "keys2019 = [k for k, v in results2019.items()]"
   ]
  },
  {
   "cell_type": "code",
   "execution_count": 17,
   "metadata": {},
   "outputs": [
    {
     "data": {
      "application/vnd.jupyter.widget-view+json": {
       "model_id": "4ce612ac0ea74d6bb6ab6dff72ad892d",
       "version_major": 2,
       "version_minor": 0
      },
      "text/plain": [
       "HBox(children=(HTML(value=''), FloatProgress(value=0.0, max=687.0), HTML(value='')))"
      ]
     },
     "metadata": {},
     "output_type": "display_data"
    },
    {
     "name": "stdout",
     "output_type": "stream",
     "text": [
      "\n"
     ]
    }
   ],
   "source": [
    "teams_masks = []\n",
    "\n",
    "for key, result in tqdm_notebook(results2019.items()):\n",
    "    for team in result:\n",
    "        \n",
    "        members = []\n",
    "        if 'mask' in team.keys():\n",
    "            if team['mask'] is not None:\n",
    "                mask = team['mask']\n",
    "                \n",
    "                for p in team['teamMembers']:\n",
    "                    members.append(p['player']['id'])\n",
    "                    \n",
    "                teams_masks.append((key, members, mask))"
   ]
  },
  {
   "cell_type": "code",
   "execution_count": 18,
   "metadata": {},
   "outputs": [],
   "source": [
    "rounds = [tourn[0] for tourn in teams_masks] \n",
    "teams = [team[1] for team in teams_masks]\n",
    "masks = [mask[2] for mask in teams_masks]"
   ]
  },
  {
   "cell_type": "code",
   "execution_count": 19,
   "metadata": {},
   "outputs": [],
   "source": [
    "masks2019 = pd.DataFrame(index=range(len(teams)), columns=['round', 'team', 'mask'])\n",
    "masks2019['round'] = rounds\n",
    "masks2019['team'] = teams\n",
    "masks2019['mask'] = masks"
   ]
  },
  {
   "cell_type": "code",
   "execution_count": 25,
   "metadata": {},
   "outputs": [
    {
     "data": {
      "text/html": [
       "<div>\n",
       "<style scoped>\n",
       "    .dataframe tbody tr th:only-of-type {\n",
       "        vertical-align: middle;\n",
       "    }\n",
       "\n",
       "    .dataframe tbody tr th {\n",
       "        vertical-align: top;\n",
       "    }\n",
       "\n",
       "    .dataframe thead th {\n",
       "        text-align: right;\n",
       "    }\n",
       "</style>\n",
       "<table border=\"1\" class=\"dataframe\">\n",
       "  <thead>\n",
       "    <tr style=\"text-align: right;\">\n",
       "      <th></th>\n",
       "      <th>round</th>\n",
       "      <th>team</th>\n",
       "      <th>mask</th>\n",
       "    </tr>\n",
       "  </thead>\n",
       "  <tbody>\n",
       "    <tr>\n",
       "      <th>0</th>\n",
       "      <td>4772</td>\n",
       "      <td>[6212, 18332, 18036, 22799, 15456, 26089]</td>\n",
       "      <td>111111111011111110111111111100010010</td>\n",
       "    </tr>\n",
       "    <tr>\n",
       "      <th>1</th>\n",
       "      <td>4772</td>\n",
       "      <td>[1585, 40840, 1584, 10998, 16206]</td>\n",
       "      <td>111111111011110100101111011001011010</td>\n",
       "    </tr>\n",
       "    <tr>\n",
       "      <th>2</th>\n",
       "      <td>4772</td>\n",
       "      <td>[23513, 18168, 21060, 35850, 31332, 10187]</td>\n",
       "      <td>111111111011110101101111001011110000</td>\n",
       "    </tr>\n",
       "    <tr>\n",
       "      <th>3</th>\n",
       "      <td>4772</td>\n",
       "      <td>[36742, 28939, 54289, 15381, 27375]</td>\n",
       "      <td>101111101111111110001101011001111010</td>\n",
       "    </tr>\n",
       "    <tr>\n",
       "      <th>4</th>\n",
       "      <td>4772</td>\n",
       "      <td>[28689, 17720, 30597, 12400, 26988, 69476]</td>\n",
       "      <td>111111101011111101000111001001111110</td>\n",
       "    </tr>\n",
       "  </tbody>\n",
       "</table>\n",
       "</div>"
      ],
      "text/plain": [
       "   round                                        team  \\\n",
       "0   4772   [6212, 18332, 18036, 22799, 15456, 26089]   \n",
       "1   4772           [1585, 40840, 1584, 10998, 16206]   \n",
       "2   4772  [23513, 18168, 21060, 35850, 31332, 10187]   \n",
       "3   4772         [36742, 28939, 54289, 15381, 27375]   \n",
       "4   4772  [28689, 17720, 30597, 12400, 26988, 69476]   \n",
       "\n",
       "                                   mask  \n",
       "0  111111111011111110111111111100010010  \n",
       "1  111111111011110100101111011001011010  \n",
       "2  111111111011110101101111001011110000  \n",
       "3  101111101111111110001101011001111010  \n",
       "4  111111101011111101000111001001111110  "
      ]
     },
     "execution_count": 25,
     "metadata": {},
     "output_type": "execute_result"
    }
   ],
   "source": [
    "# Датасет для 2019г.\n",
    "masks2019.head()"
   ]
  },
  {
   "cell_type": "code",
   "execution_count": 20,
   "metadata": {},
   "outputs": [],
   "source": [
    "keys2020 = [k for k, v in results2020.items()]"
   ]
  },
  {
   "cell_type": "code",
   "execution_count": 21,
   "metadata": {},
   "outputs": [
    {
     "data": {
      "application/vnd.jupyter.widget-view+json": {
       "model_id": "c9411871b1044faa8efc18c63e480538",
       "version_major": 2,
       "version_minor": 0
      },
      "text/plain": [
       "HBox(children=(HTML(value=''), FloatProgress(value=0.0, max=418.0), HTML(value='')))"
      ]
     },
     "metadata": {},
     "output_type": "display_data"
    },
    {
     "name": "stdout",
     "output_type": "stream",
     "text": [
      "\n"
     ]
    }
   ],
   "source": [
    "teams_masks2020 = []\n",
    "\n",
    "for key, result in tqdm_notebook(results2020.items()):\n",
    "    for team in result:\n",
    "        \n",
    "        members = []\n",
    "        if 'mask' in team.keys():\n",
    "            if team['mask'] is not None:\n",
    "                mask = team['mask']\n",
    "                \n",
    "                for p in team['teamMembers']:\n",
    "                    members.append(p['player']['id'])\n",
    "                    \n",
    "                teams_masks2020.append((key, members, mask))"
   ]
  },
  {
   "cell_type": "code",
   "execution_count": 22,
   "metadata": {},
   "outputs": [],
   "source": [
    "rounds_2020 = [tourn[0] for tourn in teams_masks2020] \n",
    "teams_2020 = [team[1] for team in teams_masks2020]\n",
    "masks_2020 = [mask[2] for mask in teams_masks2020]"
   ]
  },
  {
   "cell_type": "code",
   "execution_count": 23,
   "metadata": {},
   "outputs": [],
   "source": [
    "masks2020 = pd.DataFrame(index=range(len(teams_2020)), columns=['round', 'team', 'mask'])\n",
    "masks2020['round'] = rounds_2020\n",
    "masks2020['team'] = teams_2020\n",
    "masks2020['mask'] = masks_2020"
   ]
  },
  {
   "cell_type": "code",
   "execution_count": 31,
   "metadata": {},
   "outputs": [
    {
     "data": {
      "text/html": [
       "<div>\n",
       "<style scoped>\n",
       "    .dataframe tbody tr th:only-of-type {\n",
       "        vertical-align: middle;\n",
       "    }\n",
       "\n",
       "    .dataframe tbody tr th {\n",
       "        vertical-align: top;\n",
       "    }\n",
       "\n",
       "    .dataframe thead th {\n",
       "        text-align: right;\n",
       "    }\n",
       "</style>\n",
       "<table border=\"1\" class=\"dataframe\">\n",
       "  <thead>\n",
       "    <tr style=\"text-align: right;\">\n",
       "      <th></th>\n",
       "      <th>round</th>\n",
       "      <th>team</th>\n",
       "      <th>mask</th>\n",
       "    </tr>\n",
       "  </thead>\n",
       "  <tbody>\n",
       "    <tr>\n",
       "      <th>0</th>\n",
       "      <td>4957</td>\n",
       "      <td>[30152, 30270, 27822, 28751, 27403, 4270]</td>\n",
       "      <td>111111011111110110X11101111000101010001</td>\n",
       "    </tr>\n",
       "    <tr>\n",
       "      <th>1</th>\n",
       "      <td>4957</td>\n",
       "      <td>[34936, 40877, 25177, 113703, 33792, 107161]</td>\n",
       "      <td>101111011111110100X00111111011100010100</td>\n",
       "    </tr>\n",
       "    <tr>\n",
       "      <th>2</th>\n",
       "      <td>4957</td>\n",
       "      <td>[33620, 21346, 13857, 46339, 37836, 19632]</td>\n",
       "      <td>101110101011010000X11111111110100000111</td>\n",
       "    </tr>\n",
       "    <tr>\n",
       "      <th>3</th>\n",
       "      <td>4957</td>\n",
       "      <td>[32901, 28689, 19541, 13689, 9801, 18194]</td>\n",
       "      <td>111101001110010110X11011111100000000111</td>\n",
       "    </tr>\n",
       "    <tr>\n",
       "      <th>4</th>\n",
       "      <td>4957</td>\n",
       "      <td>[6482, 34846, 36120, 32458, 25882, 30475]</td>\n",
       "      <td>001110000011110111X01011111000100010111</td>\n",
       "    </tr>\n",
       "  </tbody>\n",
       "</table>\n",
       "</div>"
      ],
      "text/plain": [
       "   round                                          team  \\\n",
       "0   4957     [30152, 30270, 27822, 28751, 27403, 4270]   \n",
       "1   4957  [34936, 40877, 25177, 113703, 33792, 107161]   \n",
       "2   4957    [33620, 21346, 13857, 46339, 37836, 19632]   \n",
       "3   4957     [32901, 28689, 19541, 13689, 9801, 18194]   \n",
       "4   4957     [6482, 34846, 36120, 32458, 25882, 30475]   \n",
       "\n",
       "                                      mask  \n",
       "0  111111011111110110X11101111000101010001  \n",
       "1  101111011111110100X00111111011100010100  \n",
       "2  101110101011010000X11111111110100000111  \n",
       "3  111101001110010110X11011111100000000111  \n",
       "4  001110000011110111X01011111000100010111  "
      ]
     },
     "execution_count": 31,
     "metadata": {},
     "output_type": "execute_result"
    }
   ],
   "source": [
    "# Датасет для 2020г.\n",
    "masks2020.head()"
   ]
  },
  {
   "cell_type": "markdown",
   "metadata": {},
   "source": [
    "#### 4. Построение схемы ЕМ-модели\n",
    "В схеме для обучения на Е-шаге использовалась логистическая регрессия.\n",
    "На М-шаге веса логистической регрессии умножались на текущие рейтинги и складывались с ними. \n",
    "\n",
    "Датасет для обучения логистической регрессии: \n",
    "Колонки: id игроков\n",
    "Индексы: команды\n",
    "Целевая переменная: ответ или не ответ на вопрос (бинарная)\n",
    "\n",
    "Значения ячеек - текущие рейтинги игроков\n",
    "\n",
    "Строка датасета - вектор размера [количество игроков в данном турнире]\n",
    "\n",
    "Турниры перебирались по очереди. При этом каждый раз строился новый обучающий датасет   "
   ]
  },
  {
   "cell_type": "markdown",
   "metadata": {},
   "source": [
    "Данная схема была опробована на первом турнире с подсчетом функциии правдоподобия. Результат приведен ниже. Функция правдободобия при таком подходе уменьшалась на первых двух итерациях и далее возрастала."
   ]
  },
  {
   "cell_type": "code",
   "execution_count": 139,
   "metadata": {},
   "outputs": [
    {
     "data": {
      "text/html": [
       "<div>\n",
       "<style scoped>\n",
       "    .dataframe tbody tr th:only-of-type {\n",
       "        vertical-align: middle;\n",
       "    }\n",
       "\n",
       "    .dataframe tbody tr th {\n",
       "        vertical-align: top;\n",
       "    }\n",
       "\n",
       "    .dataframe thead th {\n",
       "        text-align: right;\n",
       "    }\n",
       "</style>\n",
       "<table border=\"1\" class=\"dataframe\">\n",
       "  <thead>\n",
       "    <tr style=\"text-align: right;\">\n",
       "      <th></th>\n",
       "      <th>round</th>\n",
       "      <th>team</th>\n",
       "      <th>mask</th>\n",
       "      <th>rating</th>\n",
       "    </tr>\n",
       "  </thead>\n",
       "  <tbody>\n",
       "    <tr>\n",
       "      <th>0</th>\n",
       "      <td>4772</td>\n",
       "      <td>[6212, 18332, 18036, 22799, 15456, 26089]</td>\n",
       "      <td>111111111011111110111111111100010010</td>\n",
       "      <td>[13507, 13185, 12801, 12801, 12757, 12416]</td>\n",
       "    </tr>\n",
       "    <tr>\n",
       "      <th>1</th>\n",
       "      <td>4772</td>\n",
       "      <td>[1585, 40840, 1584, 10998, 16206]</td>\n",
       "      <td>111111111011110100101111011001011010</td>\n",
       "      <td>[13058, 9138, 9030, 8863, 8732]</td>\n",
       "    </tr>\n",
       "    <tr>\n",
       "      <th>2</th>\n",
       "      <td>4772</td>\n",
       "      <td>[23513, 18168, 21060, 35850, 31332, 10187]</td>\n",
       "      <td>111111111011110101101111001011110000</td>\n",
       "      <td>[9584, 9437, 9358, 9306, 8571, 6539]</td>\n",
       "    </tr>\n",
       "    <tr>\n",
       "      <th>3</th>\n",
       "      <td>4772</td>\n",
       "      <td>[36742, 28939, 54289, 15381, 27375]</td>\n",
       "      <td>101111101111111110001101011001111010</td>\n",
       "      <td>[8592, 8258, 7995, 7455, 7436]</td>\n",
       "    </tr>\n",
       "    <tr>\n",
       "      <th>4</th>\n",
       "      <td>4772</td>\n",
       "      <td>[28689, 17720, 30597, 12400, 26988, 69476]</td>\n",
       "      <td>111111101011111101000111001001111110</td>\n",
       "      <td>[12069, 9712, 8717, 8678, 8329, 8180]</td>\n",
       "    </tr>\n",
       "  </tbody>\n",
       "</table>\n",
       "</div>"
      ],
      "text/plain": [
       "   round                                        team  \\\n",
       "0   4772   [6212, 18332, 18036, 22799, 15456, 26089]   \n",
       "1   4772           [1585, 40840, 1584, 10998, 16206]   \n",
       "2   4772  [23513, 18168, 21060, 35850, 31332, 10187]   \n",
       "3   4772         [36742, 28939, 54289, 15381, 27375]   \n",
       "4   4772  [28689, 17720, 30597, 12400, 26988, 69476]   \n",
       "\n",
       "                                   mask  \\\n",
       "0  111111111011111110111111111100010010   \n",
       "1  111111111011110100101111011001011010   \n",
       "2  111111111011110101101111001011110000   \n",
       "3  101111101111111110001101011001111010   \n",
       "4  111111101011111101000111001001111110   \n",
       "\n",
       "                                       rating  \n",
       "0  [13507, 13185, 12801, 12801, 12757, 12416]  \n",
       "1             [13058, 9138, 9030, 8863, 8732]  \n",
       "2        [9584, 9437, 9358, 9306, 8571, 6539]  \n",
       "3              [8592, 8258, 7995, 7455, 7436]  \n",
       "4       [12069, 9712, 8717, 8678, 8329, 8180]  "
      ]
     },
     "execution_count": 139,
     "metadata": {},
     "output_type": "execute_result"
    }
   ],
   "source": [
    "tournament.head()"
   ]
  },
  {
   "cell_type": "code",
   "execution_count": 297,
   "metadata": {},
   "outputs": [],
   "source": [
    "def sigmoid(x):\n",
    "    return 1 / (1 + np.exp(-x))"
   ]
  },
  {
   "cell_type": "code",
   "execution_count": 438,
   "metadata": {},
   "outputs": [],
   "source": [
    "def likelihood(df, players_weights, y):\n",
    "    \n",
    "    eps = 10e-6\n",
    "    \n",
    "    wx = df[['team', 'rating']].apply(lambda t: sum([players_weights[p] * r \n",
    "                                                    for p, r in zip(t['team'], t['rating'])]), axis=1)\n",
    "    \n",
    "    L = sum(y * np.log(sigmoid(wx) + eps) + (1 - y) * np.log(1 - sigmoid(wx) + eps))\n",
    "    \n",
    "    return L"
   ]
  },
  {
   "cell_type": "code",
   "execution_count": 439,
   "metadata": {
    "scrolled": true
   },
   "outputs": [
    {
     "name": "stdout",
     "output_type": "stream",
     "text": [
      "likelihood: -0.06203790551946547\n",
      "likelihood: 0.002197628745367998\n",
      "likelihood: -0.0545104146734597\n",
      "likelihood: -1.762948260692563\n",
      "likelihood: -2.1902987380764802\n",
      "likelihood: -1.5340723820754334\n",
      "likelihood: -1.2201852082690612\n",
      "likelihood: -0.4324577998578396\n",
      "likelihood: -0.32175111763356656\n",
      "likelihood: -0.24232548761264283\n"
     ]
    }
   ],
   "source": [
    "num_iterations = 10\n",
    "tournament_length = max(tournament['mask'].apply(lambda t: len(t)).values)\n",
    "\n",
    "team_rating = tournament[['team', 'rating']]\n",
    "\n",
    "for i in range(num_iterations):\n",
    "    \n",
    "    likelihoods = []\n",
    "\n",
    "    for question in range(tournament_length):\n",
    "        y = tournament['mask'].apply(lambda t: int(t[question])).values\n",
    "        if 0 not in y or 1 not in y:\n",
    "            continue\n",
    "        if set(y) != {0, 1}:\n",
    "            corrections = set(y).difference({0, 1})\n",
    "            print(f'{set(y)}; found corrections {corrections}')\n",
    "            for c in corrections:\n",
    "                y[np.where(y == c)] = 0\n",
    "            \n",
    "        log_reg.fit(members_df, y)\n",
    "        logistic_weights = log_reg.coef_\n",
    "        player_weight = {player: weight for player, weight in zip(members_df.columns.values, logistic_weights[0,:])}\n",
    "        \n",
    "        current_likelihood = likelihood(team_rating, player_weight, y)\n",
    "        \n",
    "        updated_ratings = team_rating[['team', 'rating']].apply(lambda t: \n",
    "                                                                [(player_weight_dict[p] + 1) * r \n",
    "                                                                 for p, r in zip(t['team'], t['rating'])], \n",
    "                                                                axis=1)\n",
    "        \n",
    "        team_rating['rating'] = updated_ratings\n",
    "        \n",
    "        likelihoods.append(likelihood(team_rating, player_weight, y))\n",
    "        \n",
    "        for ind in tournament.index:\n",
    "            members_df.loc[ind, np.array(team_rating['team'].loc[ind])] = updated_ratings[ind]\n",
    "            \n",
    "    print(f'likelihood: {np.mean(likelihoods)}')"
   ]
  },
  {
   "cell_type": "markdown",
   "metadata": {},
   "source": [
    "Вспомогательные функции для обработки серии вычслений:"
   ]
  },
  {
   "cell_type": "code",
   "execution_count": 3,
   "metadata": {},
   "outputs": [],
   "source": [
    "# Функция для выравнивания последовательностей вопросов\n",
    "\n",
    "def align_tournament_length(tour_id):\n",
    "    tour = masks2019[masks2019['round']==tour_id]\n",
    "    mask_lengths = set(list(tour['mask'].apply(lambda t: len(t)).values))\n",
    "    \n",
    "    if len(mask_lengths) > 1:\n",
    "        min_length = min(mask_lengths)\n",
    "        return tour['mask'].apply(lambda t: t[:min_length])\n",
    "    else:\n",
    "        return tour['mask']"
   ]
  },
  {
   "cell_type": "code",
   "execution_count": 5,
   "metadata": {},
   "outputs": [],
   "source": [
    "# Функция для проверки правильности целевой переменной\n",
    "\n",
    "def process_answer(s):\n",
    "    if s not in ['0', '1']:\n",
    "        return 0\n",
    "    else:\n",
    "        return int(s)"
   ]
  },
  {
   "cell_type": "code",
   "execution_count": 7,
   "metadata": {},
   "outputs": [],
   "source": [
    "# Функция для инициализации датасета для обучения логистической регрессии\n",
    "\n",
    "def rating_init(tournament_id, source):\n",
    "    tournament = masks2019[masks2019['round']==tournament_id]\n",
    "    tournament = tournament.drop(tournament[tournament['team'].apply(lambda t: len(t)==0)].index)\n",
    "    round_members = np.unique(np.hstack(tournament['team'].values))\n",
    "\n",
    "    members = pd.DataFrame(\n",
    "        index=tournament.index, \n",
    "        columns=sorted(round_members), \n",
    "        data=np.zeros((tournament.shape[0], round_members.shape[0]))\n",
    "    )\n",
    "    \n",
    "    for ind in members.index:\n",
    "        team = np.array(tournament['team'].loc[ind])\n",
    "        members.loc[ind, team] = np.array(source.loc[team])\n",
    "        \n",
    "    return members, tournament, round_members"
   ]
  },
  {
   "cell_type": "code",
   "execution_count": 29,
   "metadata": {},
   "outputs": [
    {
     "data": {
      "application/vnd.jupyter.widget-view+json": {
       "model_id": "de697c89df2c45fa85b2bd87b5ed376a",
       "version_major": 2,
       "version_minor": 0
      },
      "text/plain": [
       "HBox(children=(HTML(value=''), FloatProgress(value=0.0, max=6.0), HTML(value='')))"
      ]
     },
     "metadata": {},
     "output_type": "display_data"
    },
    {
     "data": {
      "application/vnd.jupyter.widget-view+json": {
       "model_id": "464aa3ff449b47b9881ba11950568b67",
       "version_major": 2,
       "version_minor": 0
      },
      "text/plain": [
       "HBox(children=(HTML(value=''), FloatProgress(value=0.0, max=675.0), HTML(value='')))"
      ]
     },
     "metadata": {},
     "output_type": "display_data"
    },
    {
     "name": "stdout",
     "output_type": "stream",
     "text": [
      "\n",
      "Iteration 0 >> Kendall correlation: 0.7980537773458328, Spearman correlation: 0.8734834393363649\n"
     ]
    },
    {
     "data": {
      "application/vnd.jupyter.widget-view+json": {
       "model_id": "41c2d2f752eb404083b4bfd20ec532ba",
       "version_major": 2,
       "version_minor": 0
      },
      "text/plain": [
       "HBox(children=(HTML(value=''), FloatProgress(value=0.0, max=675.0), HTML(value='')))"
      ]
     },
     "metadata": {},
     "output_type": "display_data"
    },
    {
     "name": "stdout",
     "output_type": "stream",
     "text": [
      "\n",
      "Iteration 1 >> Kendall correlation: 0.7965013916646637, Spearman correlation: 0.8733002560404297\n"
     ]
    },
    {
     "data": {
      "application/vnd.jupyter.widget-view+json": {
       "model_id": "8cad7ab9828f440f8fe02187f1f71378",
       "version_major": 2,
       "version_minor": 0
      },
      "text/plain": [
       "HBox(children=(HTML(value=''), FloatProgress(value=0.0, max=675.0), HTML(value='')))"
      ]
     },
     "metadata": {},
     "output_type": "display_data"
    },
    {
     "name": "stdout",
     "output_type": "stream",
     "text": [
      "\n",
      "Iteration 2 >> Kendall correlation: 0.794897786874282, Spearman correlation: 0.8730082149604741\n"
     ]
    },
    {
     "data": {
      "application/vnd.jupyter.widget-view+json": {
       "model_id": "9c6cd88e26c842828c6ea49054cc2d80",
       "version_major": 2,
       "version_minor": 0
      },
      "text/plain": [
       "HBox(children=(HTML(value=''), FloatProgress(value=0.0, max=675.0), HTML(value='')))"
      ]
     },
     "metadata": {},
     "output_type": "display_data"
    },
    {
     "name": "stdout",
     "output_type": "stream",
     "text": [
      "\n",
      "Iteration 3 >> Kendall correlation: 0.7934590699348099, Spearman correlation: 0.8726952552890871\n"
     ]
    },
    {
     "data": {
      "application/vnd.jupyter.widget-view+json": {
       "model_id": "d1785add3d6e4a07872e62327f0d519b",
       "version_major": 2,
       "version_minor": 0
      },
      "text/plain": [
       "HBox(children=(HTML(value=''), FloatProgress(value=0.0, max=675.0), HTML(value='')))"
      ]
     },
     "metadata": {},
     "output_type": "display_data"
    },
    {
     "name": "stdout",
     "output_type": "stream",
     "text": [
      "\n",
      "Iteration 4 >> Kendall correlation: 0.7921831203441092, Spearman correlation: 0.8723891338610005\n"
     ]
    },
    {
     "data": {
      "application/vnd.jupyter.widget-view+json": {
       "model_id": "25ae30e43a444f108bdb99b9c93bb40d",
       "version_major": 2,
       "version_minor": 0
      },
      "text/plain": [
       "HBox(children=(HTML(value=''), FloatProgress(value=0.0, max=675.0), HTML(value='')))"
      ]
     },
     "metadata": {},
     "output_type": "display_data"
    },
    {
     "name": "stdout",
     "output_type": "stream",
     "text": [
      "\n",
      "Iteration 5 >> Kendall correlation: 0.7910275019562041, Spearman correlation: 0.8720887360633514\n",
      "\n"
     ]
    }
   ],
   "source": [
    "log_reg = LogisticRegression()\n",
    "\n",
    "num_iterations = 6\n",
    "\n",
    "parameters_df = pd.DataFrame(index=players_results2019.index, columns=['init_rating'])\n",
    "parameters_df['init_rating'] = players_results2019['StartRating']\n",
    "parameters_df['updated_rating'] = 10 * parameters_df['init_rating'] / (parameters_df['init_rating'].max() - \n",
    "                                                                      parameters_df['init_rating'].min())\n",
    "parameters_df['weights'] = 0\n",
    "\n",
    "tournament_ids = np.unique(masks2019['round'].values)\n",
    "questions_df = pd.DataFrame(columns=['tournament', 'number', 'score', 'ratio'])\n",
    "metrics = pd.DataFrame(index=range(num_iterations), columns=['spearman', 'kendall'])\n",
    "\n",
    "    \n",
    "for i in tqdm_notebook(range(num_iterations)):\n",
    "    \n",
    "    for tourn_id in tqdm_notebook(tournament_ids):\n",
    "        if tourn_id == tournament_ids[663]:\n",
    "            continue\n",
    "            \n",
    "        ratings, tournament, round_members = rating_init(tourn_id, parameters_df['updated_rating'])\n",
    "        if tournament.shape[0] < 5:\n",
    "            continue\n",
    "            \n",
    "        if np.any(tournament['mask'].apply(lambda t: set(t) == {0} or set(t) == {1})):\n",
    "            continue            \n",
    "            \n",
    "        tournament['mask'] = align_tournament_length(tourn_id)\n",
    "        tournament_length = max(tournament['mask'].apply(lambda t: len(t)).values)\n",
    "\n",
    "        for question in range(tournament_length):\n",
    "            y = tournament['mask'].apply(lambda t: process_answer(t[question])).values\n",
    "            if 0 not in y or 1 not in y:\n",
    "                continue\n",
    "                \n",
    "            if set(y) == {0} or set(y) == {1}:\n",
    "                continue\n",
    "            \n",
    "            log_reg.fit(ratings, y)\n",
    "            lw = log_reg.coef_.squeeze()\n",
    "            player_weight = {player: weight for player, weight in zip(ratings.columns.values, lw)}\n",
    "            other_players = list(set(parameters_df.index.values) - set(ratings.columns.values))\n",
    "            player_weight.update({p: 0 for p in other_players})\n",
    "            parameters_df['weights'] += parameters_df.index.map(player_weight)\n",
    "\n",
    "            if i == num_iterations - 1:\n",
    "                question_stats = pd.DataFrame(index=[0], columns=['tournament', 'number', 'score', 'ratio'])\n",
    "                question_stats['tournament'].iloc[0] = tourn_id\n",
    "                question_stats['number'].iloc[0] = question\n",
    "                question_stats['score'].iloc[0] = question_scores(player_weight)\n",
    "                question_stats['ratio'].iloc[0] = y.sum() / y.shape[0]\n",
    "                \n",
    "                if questions_df.empty:\n",
    "                    questions_df = question_stats.copy()\n",
    "                else:\n",
    "                    questions_df = questions_df.append(question_stats)\n",
    "                    \n",
    "        parameters_df['weights'] = parameters_df['weights'] / y.shape[0]\n",
    "        parameters_df['updated_rating'] = parameters_df['updated_rating'] * (parameters_df['weights'] + 1)\n",
    "        parameters_df['weights'] = 0\n",
    "        \n",
    "    predicted_rating = parameters_df['updated_rating']\n",
    "    spearman = spearmanr(players_results2019['FinalRating'], predicted_rating).correlation\n",
    "    kendall = kendalltau(players_results2019['FinalRating'], predicted_rating).correlation\n",
    "    metrics.iloc[i]['spearman'] = spearman\n",
    "    metrics.iloc[i]['kendall'] = kendall\n",
    "    print(f'Iteration {i} >> Kendall correlation: {kendall}, Spearman correlation: {spearman}')"
   ]
  },
  {
   "cell_type": "code",
   "execution_count": 30,
   "metadata": {},
   "outputs": [
    {
     "data": {
      "text/html": [
       "<div>\n",
       "<style scoped>\n",
       "    .dataframe tbody tr th:only-of-type {\n",
       "        vertical-align: middle;\n",
       "    }\n",
       "\n",
       "    .dataframe tbody tr th {\n",
       "        vertical-align: top;\n",
       "    }\n",
       "\n",
       "    .dataframe thead th {\n",
       "        text-align: right;\n",
       "    }\n",
       "</style>\n",
       "<table border=\"1\" class=\"dataframe\">\n",
       "  <thead>\n",
       "    <tr style=\"text-align: right;\">\n",
       "      <th></th>\n",
       "      <th>spearman</th>\n",
       "      <th>kendall</th>\n",
       "    </tr>\n",
       "  </thead>\n",
       "  <tbody>\n",
       "    <tr>\n",
       "      <th>0</th>\n",
       "      <td>0.873483</td>\n",
       "      <td>0.798054</td>\n",
       "    </tr>\n",
       "    <tr>\n",
       "      <th>1</th>\n",
       "      <td>0.8733</td>\n",
       "      <td>0.796501</td>\n",
       "    </tr>\n",
       "    <tr>\n",
       "      <th>2</th>\n",
       "      <td>0.873008</td>\n",
       "      <td>0.794898</td>\n",
       "    </tr>\n",
       "    <tr>\n",
       "      <th>3</th>\n",
       "      <td>0.872695</td>\n",
       "      <td>0.793459</td>\n",
       "    </tr>\n",
       "    <tr>\n",
       "      <th>4</th>\n",
       "      <td>0.872389</td>\n",
       "      <td>0.792183</td>\n",
       "    </tr>\n",
       "    <tr>\n",
       "      <th>5</th>\n",
       "      <td>0.872089</td>\n",
       "      <td>0.791028</td>\n",
       "    </tr>\n",
       "  </tbody>\n",
       "</table>\n",
       "</div>"
      ],
      "text/plain": [
       "   spearman   kendall\n",
       "0  0.873483  0.798054\n",
       "1    0.8733  0.796501\n",
       "2  0.873008  0.794898\n",
       "3  0.872695  0.793459\n",
       "4  0.872389  0.792183\n",
       "5  0.872089  0.791028"
      ]
     },
     "execution_count": 30,
     "metadata": {},
     "output_type": "execute_result"
    }
   ],
   "source": [
    "metrics"
   ]
  },
  {
   "cell_type": "code",
   "execution_count": 33,
   "metadata": {},
   "outputs": [
    {
     "data": {
      "text/html": [
       "<div>\n",
       "<style scoped>\n",
       "    .dataframe tbody tr th:only-of-type {\n",
       "        vertical-align: middle;\n",
       "    }\n",
       "\n",
       "    .dataframe tbody tr th {\n",
       "        vertical-align: top;\n",
       "    }\n",
       "\n",
       "    .dataframe thead th {\n",
       "        text-align: right;\n",
       "    }\n",
       "</style>\n",
       "<table border=\"1\" class=\"dataframe\">\n",
       "  <thead>\n",
       "    <tr style=\"text-align: right;\">\n",
       "      <th></th>\n",
       "      <th>init_rating</th>\n",
       "      <th>updated_rating</th>\n",
       "      <th>weights</th>\n",
       "    </tr>\n",
       "  </thead>\n",
       "  <tbody>\n",
       "    <tr>\n",
       "      <th>15</th>\n",
       "      <td>5077</td>\n",
       "      <td>6.87652</td>\n",
       "      <td>0</td>\n",
       "    </tr>\n",
       "    <tr>\n",
       "      <th>16</th>\n",
       "      <td>4247</td>\n",
       "      <td>4.19075</td>\n",
       "      <td>0</td>\n",
       "    </tr>\n",
       "    <tr>\n",
       "      <th>23</th>\n",
       "      <td>791</td>\n",
       "      <td>0.55291</td>\n",
       "      <td>0</td>\n",
       "    </tr>\n",
       "    <tr>\n",
       "      <th>31</th>\n",
       "      <td>4340</td>\n",
       "      <td>10.5204</td>\n",
       "      <td>0</td>\n",
       "    </tr>\n",
       "    <tr>\n",
       "      <th>35</th>\n",
       "      <td>5742</td>\n",
       "      <td>24.8176</td>\n",
       "      <td>0</td>\n",
       "    </tr>\n",
       "    <tr>\n",
       "      <th>...</th>\n",
       "      <td>...</td>\n",
       "      <td>...</td>\n",
       "      <td>...</td>\n",
       "    </tr>\n",
       "    <tr>\n",
       "      <th>224404</th>\n",
       "      <td>0</td>\n",
       "      <td>0</td>\n",
       "      <td>0</td>\n",
       "    </tr>\n",
       "    <tr>\n",
       "      <th>224408</th>\n",
       "      <td>0</td>\n",
       "      <td>0</td>\n",
       "      <td>0</td>\n",
       "    </tr>\n",
       "    <tr>\n",
       "      <th>224482</th>\n",
       "      <td>0</td>\n",
       "      <td>0</td>\n",
       "      <td>0</td>\n",
       "    </tr>\n",
       "    <tr>\n",
       "      <th>224539</th>\n",
       "      <td>0</td>\n",
       "      <td>0</td>\n",
       "      <td>0</td>\n",
       "    </tr>\n",
       "    <tr>\n",
       "      <th>224542</th>\n",
       "      <td>0</td>\n",
       "      <td>0</td>\n",
       "      <td>0</td>\n",
       "    </tr>\n",
       "  </tbody>\n",
       "</table>\n",
       "<p>59101 rows × 3 columns</p>\n",
       "</div>"
      ],
      "text/plain": [
       "       init_rating updated_rating  weights\n",
       "15            5077        6.87652        0\n",
       "16            4247        4.19075        0\n",
       "23             791        0.55291        0\n",
       "31            4340        10.5204        0\n",
       "35            5742        24.8176        0\n",
       "...            ...            ...      ...\n",
       "224404           0              0        0\n",
       "224408           0              0        0\n",
       "224482           0              0        0\n",
       "224539           0              0        0\n",
       "224542           0              0        0\n",
       "\n",
       "[59101 rows x 3 columns]"
      ]
     },
     "execution_count": 33,
     "metadata": {},
     "output_type": "execute_result"
    }
   ],
   "source": [
    "parameters_df"
   ]
  },
  {
   "cell_type": "markdown",
   "metadata": {},
   "source": [
    "Заключение: к сожалению, метрики при сравнени с окончательным рейтингом не увеличивались, но при этом были существенно выше бейзлайна."
   ]
  },
  {
   "cell_type": "markdown",
   "metadata": {},
   "source": [
    "***5. Подтсчет рейтинга вопросов осуществлялся как разница сумм рейтингов ответивши и сумм рейтингов неответивших участников.***"
   ]
  },
  {
   "cell_type": "code",
   "execution_count": 84,
   "metadata": {},
   "outputs": [
    {
     "data": {
      "application/vnd.jupyter.widget-view+json": {
       "model_id": "44a5dfc16e104954bf972eccbeb35654",
       "version_major": 2,
       "version_minor": 0
      },
      "text/plain": [
       "HBox(children=(HTML(value=''), FloatProgress(value=0.0, max=675.0), HTML(value='')))"
      ]
     },
     "metadata": {},
     "output_type": "display_data"
    },
    {
     "name": "stdout",
     "output_type": "stream",
     "text": [
      "\n"
     ]
    }
   ],
   "source": [
    "tournament_ids = np.unique(masks2019['round'].values)\n",
    "questions_rating = pd.DataFrame(columns=['tournament', 'number', 'score', 'ratio'])\n",
    "\n",
    "for tourn_id in tqdm_notebook(tournament_ids):\n",
    "    if tourn_id == tournament_ids[663]:\n",
    "        continue\n",
    "\n",
    "    ratings, tournament, round_members = rating_init(tourn_id, parameters_df['init_rating'])\n",
    "    if tournament.shape[0] < 5:\n",
    "        continue\n",
    "\n",
    "    if np.any(tournament['mask'].apply(lambda t: set(t) == {0} or set(t) == {1})):\n",
    "        continue            \n",
    "\n",
    "    tournament['mask'] = align_tournament_length(tourn_id)\n",
    "    tournament_length = max(tournament['mask'].apply(lambda t: len(t)).values)\n",
    "\n",
    "    for question in range(tournament_length):\n",
    "        y = tournament['mask'].apply(lambda t: process_answer(t[question])).values\n",
    "        if 0 not in y or 1 not in y:\n",
    "            continue\n",
    "\n",
    "        if set(y) == {0} or set(y) == {1}:\n",
    "            continue\n",
    "\n",
    "        question_stats = pd.DataFrame(index=[0], columns=['tournament', 'number', 'score', 'ratio'])\n",
    "        question_stats['tournament'].iloc[0] = tourn_id\n",
    "        question_stats['number'].iloc[0] = question\n",
    "        question_stats['score'].iloc[0] = ratings.iloc[y[y==0]].sum().sum() - ratings.iloc[y[y==1]].sum().sum()\n",
    "        question_stats['ratio'].iloc[0] = y.sum() / y.shape[0]\n",
    "\n",
    "        if questions_rating.empty:\n",
    "            questions_rating = question_stats.copy()\n",
    "        else:\n",
    "            questions_rating = questions_rating.append(question_stats)"
   ]
  },
  {
   "cell_type": "code",
   "execution_count": 88,
   "metadata": {},
   "outputs": [
    {
     "data": {
      "text/html": [
       "<div>\n",
       "<style scoped>\n",
       "    .dataframe tbody tr th:only-of-type {\n",
       "        vertical-align: middle;\n",
       "    }\n",
       "\n",
       "    .dataframe tbody tr th {\n",
       "        vertical-align: top;\n",
       "    }\n",
       "\n",
       "    .dataframe thead th {\n",
       "        text-align: right;\n",
       "    }\n",
       "</style>\n",
       "<table border=\"1\" class=\"dataframe\">\n",
       "  <thead>\n",
       "    <tr style=\"text-align: right;\">\n",
       "      <th></th>\n",
       "      <th>tournament</th>\n",
       "      <th>number</th>\n",
       "      <th>score</th>\n",
       "      <th>ratio</th>\n",
       "    </tr>\n",
       "  </thead>\n",
       "  <tbody>\n",
       "    <tr>\n",
       "      <th>0</th>\n",
       "      <td>5757</td>\n",
       "      <td>46</td>\n",
       "      <td>7.25856e+07</td>\n",
       "      <td>0.0181612</td>\n",
       "    </tr>\n",
       "    <tr>\n",
       "      <th>0</th>\n",
       "      <td>5757</td>\n",
       "      <td>5</td>\n",
       "      <td>7.28674e+07</td>\n",
       "      <td>0.015891</td>\n",
       "    </tr>\n",
       "    <tr>\n",
       "      <th>0</th>\n",
       "      <td>5757</td>\n",
       "      <td>6</td>\n",
       "      <td>7.31492e+07</td>\n",
       "      <td>0.0136209</td>\n",
       "    </tr>\n",
       "    <tr>\n",
       "      <th>0</th>\n",
       "      <td>6255</td>\n",
       "      <td>4</td>\n",
       "      <td>7.51208e+07</td>\n",
       "      <td>0.193629</td>\n",
       "    </tr>\n",
       "    <tr>\n",
       "      <th>0</th>\n",
       "      <td>5760</td>\n",
       "      <td>10</td>\n",
       "      <td>7.55527e+07</td>\n",
       "      <td>0.289583</td>\n",
       "    </tr>\n",
       "    <tr>\n",
       "      <th>0</th>\n",
       "      <td>6255</td>\n",
       "      <td>20</td>\n",
       "      <td>7.95175e+07</td>\n",
       "      <td>0.179194</td>\n",
       "    </tr>\n",
       "    <tr>\n",
       "      <th>0</th>\n",
       "      <td>5760</td>\n",
       "      <td>11</td>\n",
       "      <td>9.51406e+07</td>\n",
       "      <td>0.226562</td>\n",
       "    </tr>\n",
       "    <tr>\n",
       "      <th>0</th>\n",
       "      <td>5760</td>\n",
       "      <td>22</td>\n",
       "      <td>9.85401e+07</td>\n",
       "      <td>0.215625</td>\n",
       "    </tr>\n",
       "    <tr>\n",
       "      <th>0</th>\n",
       "      <td>5760</td>\n",
       "      <td>14</td>\n",
       "      <td>1.07929e+08</td>\n",
       "      <td>0.185417</td>\n",
       "    </tr>\n",
       "    <tr>\n",
       "      <th>0</th>\n",
       "      <td>5760</td>\n",
       "      <td>15</td>\n",
       "      <td>1.23794e+08</td>\n",
       "      <td>0.134375</td>\n",
       "    </tr>\n",
       "  </tbody>\n",
       "</table>\n",
       "</div>"
      ],
      "text/plain": [
       "  tournament number        score      ratio\n",
       "0       5757     46  7.25856e+07  0.0181612\n",
       "0       5757      5  7.28674e+07   0.015891\n",
       "0       5757      6  7.31492e+07  0.0136209\n",
       "0       6255      4  7.51208e+07   0.193629\n",
       "0       5760     10  7.55527e+07   0.289583\n",
       "0       6255     20  7.95175e+07   0.179194\n",
       "0       5760     11  9.51406e+07   0.226562\n",
       "0       5760     22  9.85401e+07   0.215625\n",
       "0       5760     14  1.07929e+08   0.185417\n",
       "0       5760     15  1.23794e+08   0.134375"
      ]
     },
     "execution_count": 88,
     "metadata": {},
     "output_type": "execute_result"
    }
   ],
   "source": [
    "questions_rating.iloc[np.argsort(questions_rating['score'])[-10:]]"
   ]
  },
  {
   "cell_type": "markdown",
   "metadata": {},
   "source": [
    "1: В романе Га́рри Га́ррисона описана биологическая цивилизация, которая модифицирует животных для решения повседневных задач. Слизень, который легко переваривает определённый белок, используется в качестве НЕЁ. Назовите ЕЁ, не используя лишних слов.\n",
    "\n",
    "2: Фонтан, работавший на открытии Всесоюзной сельскохозяйственной выставки, украшали ИКСЫ. Аналогом ИКСА был горшок богини Ла́кшми. Назовите ИКС двумя словами.\n",
    "\n",
    "3: По меткому замечанию, ИКС ставит на человеке крест. ИКСЫ производит, например, Nikon [ни́кон]. Назовите ИКС двумя словами.\n",
    "\n",
    "4: В конце 2017 года пятилетний Та́йлон Пи́тман позвонил в службу спасения и сообщил, что необходимо остановить ПАЖА, пока не случилось что-то ужасное. Некоторые по ошибке называют ПАЖА ПАРИЖЕМ. Какие слова мы заменили словами «ПАЖ» и «ПАРИЖ»?\n",
    "\n",
    "5: Турнир ОВСЧ-2019 не найден в базе\n",
    "\n",
    "6: В семнадцатом веке точный состав воздуха ещё не был известен. Джон Ме́йоу считал, что при смешивании вдыхаемого воздуха и крови образуется аналог ИКСА, который вызывает сокращение мышц. Премьера сериала «ИКС» на канале BBC [би би си] состоялась осенью. Назовите ИКС словом с одинаковыми гласными.\n",
    "\n",
    "7: Турнир ОВСЧ-2019 не найден в базе\n",
    "\n",
    "8: Внимание, черный ящик. В своем объяснении Шэнь Ко использовал метафору уключины, когда при гребке веслом лопасть перемещается в противоположную сторону. Под веслом Шэнь Ко понимал ИКС. Какое слово заменено ИКСОМ?\n",
    "\n",
    "9: Лидия Скрябина пишет, что ссылка заключенных на каторгу была обычным делом для Англии, так как Англия не располагала АЛЬФАМИ. В 2008 году отбывший срок человек тоже сослался на АЛЬФЫ. Что такое АЛЬФА?\n",
    "\n",
    "10: Аргентинская ху́нта в 70-х годах устраняла тех, кто выступал против её власти, а их маленьких детей отдавала на усыновление военным. Через несколько лет после падения хунты организация, объединявшая волко́в, обратилась за помощью к учёным из США. Кого в этом вопросе мы заменили волком?"
   ]
  },
  {
   "cell_type": "code",
   "execution_count": null,
   "metadata": {},
   "outputs": [],
   "source": []
  }
 ],
 "metadata": {
  "kernelspec": {
   "display_name": "Python 3",
   "language": "python",
   "name": "python3"
  },
  "language_info": {
   "codemirror_mode": {
    "name": "ipython",
    "version": 3
   },
   "file_extension": ".py",
   "mimetype": "text/x-python",
   "name": "python",
   "nbconvert_exporter": "python",
   "pygments_lexer": "ipython3",
   "version": "3.8.5"
  }
 },
 "nbformat": 4,
 "nbformat_minor": 1
}
